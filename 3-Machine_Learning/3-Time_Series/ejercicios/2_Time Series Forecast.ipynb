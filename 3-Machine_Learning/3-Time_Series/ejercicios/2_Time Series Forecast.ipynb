{
 "cells": [
  {
   "cell_type": "markdown",
   "metadata": {},
   "source": [
    "## Ejercicio Time Series Forecast\n",
    "Para este ejercicio vamos a predecir cuál será la demanda de pasajeros de una aerolinea, para poder anticiparse a las contrataciones de personal, mantenimiento de las aeronaves y gestión de inventario y comidas.\n",
    "\n",
    "Para ello, se pide:\n",
    "1. Carga datos (AirPassengers.csv) y representa la serie. ¿Hay seasonality? ¿Cada cuanto?\n",
    "2. Crea en una gráfica la variable original + su media obtenida mediante una rolling window con el valor de seasonality obtenido en el apartado anterior. Tienes que usar la función rolling() del DataFrame.\n",
    "3. Comprueba de manera estadística si la serie es o no stationary.\n",
    "4. Aplica una transformación logarítmica sobre los datos para mejorar el proceso de transformación de tu time series a stationary. Acuérdate después del forecast de invertir la transformación.\n",
    "5. Divide en train y test. Guarda 20 muestras para test.\n",
    "6. Crea tu primer modelo ARIMA. Habrá varias combinaciones en función de sus hiperparámetros... Mide el MAE y RMSE del modelo en predicción. Ten en cuenta el parámetro \"m\" de la función ARIMA, mediante el cual se establece el seasonality.\n",
    "7. Representa en una gráfica los datos de test y tus predicciones.\n",
    "8. Prueba un decission tree y un random forest, a ver qué performance presentan."
   ]
  },
  {
   "cell_type": "code",
   "execution_count": 1,
   "metadata": {},
   "outputs": [],
   "source": [
    "import pandas as pd\n",
    "import numpy as np\n",
    "import matplotlib.pyplot as plt\n",
    "import seaborn as sns"
   ]
  },
  {
   "cell_type": "markdown",
   "metadata": {},
   "source": [
    "## 1. Carga datos y representa la serie"
   ]
  },
  {
   "cell_type": "code",
   "execution_count": 2,
   "metadata": {},
   "outputs": [
    {
     "data": {
      "text/html": [
       "<div>\n",
       "<style scoped>\n",
       "    .dataframe tbody tr th:only-of-type {\n",
       "        vertical-align: middle;\n",
       "    }\n",
       "\n",
       "    .dataframe tbody tr th {\n",
       "        vertical-align: top;\n",
       "    }\n",
       "\n",
       "    .dataframe thead th {\n",
       "        text-align: right;\n",
       "    }\n",
       "</style>\n",
       "<table border=\"1\" class=\"dataframe\">\n",
       "  <thead>\n",
       "    <tr style=\"text-align: right;\">\n",
       "      <th></th>\n",
       "      <th>date</th>\n",
       "      <th>value</th>\n",
       "    </tr>\n",
       "  </thead>\n",
       "  <tbody>\n",
       "    <tr>\n",
       "      <th>0</th>\n",
       "      <td>1949-01-01</td>\n",
       "      <td>112</td>\n",
       "    </tr>\n",
       "    <tr>\n",
       "      <th>1</th>\n",
       "      <td>1949-02-01</td>\n",
       "      <td>118</td>\n",
       "    </tr>\n",
       "    <tr>\n",
       "      <th>2</th>\n",
       "      <td>1949-03-01</td>\n",
       "      <td>132</td>\n",
       "    </tr>\n",
       "    <tr>\n",
       "      <th>3</th>\n",
       "      <td>1949-04-01</td>\n",
       "      <td>129</td>\n",
       "    </tr>\n",
       "    <tr>\n",
       "      <th>4</th>\n",
       "      <td>1949-05-01</td>\n",
       "      <td>121</td>\n",
       "    </tr>\n",
       "  </tbody>\n",
       "</table>\n",
       "</div>"
      ],
      "text/plain": [
       "         date  value\n",
       "0  1949-01-01    112\n",
       "1  1949-02-01    118\n",
       "2  1949-03-01    132\n",
       "3  1949-04-01    129\n",
       "4  1949-05-01    121"
      ]
     },
     "execution_count": 2,
     "metadata": {},
     "output_type": "execute_result"
    }
   ],
   "source": [
    "df = pd.read_csv(\"data/AirPassengers.csv\")\n",
    "df.head()"
   ]
  },
  {
   "cell_type": "code",
   "execution_count": 3,
   "metadata": {},
   "outputs": [
    {
     "name": "stdout",
     "output_type": "stream",
     "text": [
      "<class 'pandas.core.frame.DataFrame'>\n",
      "RangeIndex: 144 entries, 0 to 143\n",
      "Data columns (total 2 columns):\n",
      " #   Column  Non-Null Count  Dtype \n",
      "---  ------  --------------  ----- \n",
      " 0   date    144 non-null    object\n",
      " 1   value   144 non-null    int64 \n",
      "dtypes: int64(1), object(1)\n",
      "memory usage: 2.4+ KB\n"
     ]
    }
   ],
   "source": [
    "df.info()"
   ]
  },
  {
   "cell_type": "code",
   "execution_count": 4,
   "metadata": {},
   "outputs": [
    {
     "data": {
      "text/html": [
       "<div>\n",
       "<style scoped>\n",
       "    .dataframe tbody tr th:only-of-type {\n",
       "        vertical-align: middle;\n",
       "    }\n",
       "\n",
       "    .dataframe tbody tr th {\n",
       "        vertical-align: top;\n",
       "    }\n",
       "\n",
       "    .dataframe thead th {\n",
       "        text-align: right;\n",
       "    }\n",
       "</style>\n",
       "<table border=\"1\" class=\"dataframe\">\n",
       "  <thead>\n",
       "    <tr style=\"text-align: right;\">\n",
       "      <th></th>\n",
       "      <th>value</th>\n",
       "    </tr>\n",
       "  </thead>\n",
       "  <tbody>\n",
       "    <tr>\n",
       "      <th>count</th>\n",
       "      <td>144.000000</td>\n",
       "    </tr>\n",
       "    <tr>\n",
       "      <th>mean</th>\n",
       "      <td>280.298611</td>\n",
       "    </tr>\n",
       "    <tr>\n",
       "      <th>std</th>\n",
       "      <td>119.966317</td>\n",
       "    </tr>\n",
       "    <tr>\n",
       "      <th>min</th>\n",
       "      <td>104.000000</td>\n",
       "    </tr>\n",
       "    <tr>\n",
       "      <th>25%</th>\n",
       "      <td>180.000000</td>\n",
       "    </tr>\n",
       "    <tr>\n",
       "      <th>50%</th>\n",
       "      <td>265.500000</td>\n",
       "    </tr>\n",
       "    <tr>\n",
       "      <th>75%</th>\n",
       "      <td>360.500000</td>\n",
       "    </tr>\n",
       "    <tr>\n",
       "      <th>max</th>\n",
       "      <td>622.000000</td>\n",
       "    </tr>\n",
       "  </tbody>\n",
       "</table>\n",
       "</div>"
      ],
      "text/plain": [
       "            value\n",
       "count  144.000000\n",
       "mean   280.298611\n",
       "std    119.966317\n",
       "min    104.000000\n",
       "25%    180.000000\n",
       "50%    265.500000\n",
       "75%    360.500000\n",
       "max    622.000000"
      ]
     },
     "execution_count": 4,
     "metadata": {},
     "output_type": "execute_result"
    }
   ],
   "source": [
    "df.describe()"
   ]
  },
  {
   "cell_type": "code",
   "execution_count": 5,
   "metadata": {},
   "outputs": [
    {
     "name": "stdout",
     "output_type": "stream",
     "text": [
      "<class 'pandas.core.frame.DataFrame'>\n",
      "RangeIndex: 144 entries, 0 to 143\n",
      "Data columns (total 2 columns):\n",
      " #   Column  Non-Null Count  Dtype         \n",
      "---  ------  --------------  -----         \n",
      " 0   date    144 non-null    datetime64[ns]\n",
      " 1   value   144 non-null    int64         \n",
      "dtypes: datetime64[ns](1), int64(1)\n",
      "memory usage: 2.4 KB\n"
     ]
    }
   ],
   "source": [
    "df['date'] = pd.to_datetime(df['date'])\n",
    "df.info()"
   ]
  },
  {
   "cell_type": "code",
   "execution_count": 6,
   "metadata": {},
   "outputs": [
    {
     "data": {
      "text/plain": [
       "DatetimeIndex(['1949-01-01', '1949-02-01', '1949-03-01', '1949-04-01',\n",
       "               '1949-05-01', '1949-06-01', '1949-07-01', '1949-08-01',\n",
       "               '1949-09-01', '1949-10-01',\n",
       "               ...\n",
       "               '1960-03-01', '1960-04-01', '1960-05-01', '1960-06-01',\n",
       "               '1960-07-01', '1960-08-01', '1960-09-01', '1960-10-01',\n",
       "               '1960-11-01', '1960-12-01'],\n",
       "              dtype='datetime64[ns]', length=144, freq='MS')"
      ]
     },
     "execution_count": 6,
     "metadata": {},
     "output_type": "execute_result"
    }
   ],
   "source": [
    "pd.date_range(df['date'].min(), df['date'].max(), freq=\"MS\")"
   ]
  },
  {
   "cell_type": "code",
   "execution_count": 11,
   "metadata": {},
   "outputs": [
    {
     "data": {
      "image/png": "[encoded data removed]",
      "text/plain": [
       "<Figure size 1080x720 with 1 Axes>"
      ]
     },
     "metadata": {
      "needs_background": "light"
     },
     "output_type": "display_data"
    }
   ],
   "source": [
    "plt.figure(figsize=(15,10))\n",
    "plt.plot(df['value']);"
   ]
  },
  {
   "cell_type": "markdown",
   "metadata": {},
   "source": [
    "## 2. Crea en una gráfica la variable original + su media obtenida mediante una rolling window comparando el valor de seasonality obtenido en el apartado anterior"
   ]
  },
  {
   "cell_type": "code",
   "execution_count": 12,
   "metadata": {},
   "outputs": [
    {
     "data": {
      "text/html": [
       "<div>\n",
       "<style scoped>\n",
       "    .dataframe tbody tr th:only-of-type {\n",
       "        vertical-align: middle;\n",
       "    }\n",
       "\n",
       "    .dataframe tbody tr th {\n",
       "        vertical-align: top;\n",
       "    }\n",
       "\n",
       "    .dataframe thead th {\n",
       "        text-align: right;\n",
       "    }\n",
       "</style>\n",
       "<table border=\"1\" class=\"dataframe\">\n",
       "  <thead>\n",
       "    <tr style=\"text-align: right;\">\n",
       "      <th></th>\n",
       "      <th>date</th>\n",
       "      <th>value</th>\n",
       "      <th>MA</th>\n",
       "    </tr>\n",
       "  </thead>\n",
       "  <tbody>\n",
       "    <tr>\n",
       "      <th>0</th>\n",
       "      <td>1949-01-01</td>\n",
       "      <td>112</td>\n",
       "      <td>NaN</td>\n",
       "    </tr>\n",
       "    <tr>\n",
       "      <th>1</th>\n",
       "      <td>1949-02-01</td>\n",
       "      <td>118</td>\n",
       "      <td>NaN</td>\n",
       "    </tr>\n",
       "    <tr>\n",
       "      <th>2</th>\n",
       "      <td>1949-03-01</td>\n",
       "      <td>132</td>\n",
       "      <td>NaN</td>\n",
       "    </tr>\n",
       "    <tr>\n",
       "      <th>3</th>\n",
       "      <td>1949-04-01</td>\n",
       "      <td>129</td>\n",
       "      <td>NaN</td>\n",
       "    </tr>\n",
       "    <tr>\n",
       "      <th>4</th>\n",
       "      <td>1949-05-01</td>\n",
       "      <td>121</td>\n",
       "      <td>122.4</td>\n",
       "    </tr>\n",
       "    <tr>\n",
       "      <th>...</th>\n",
       "      <td>...</td>\n",
       "      <td>...</td>\n",
       "      <td>...</td>\n",
       "    </tr>\n",
       "    <tr>\n",
       "      <th>139</th>\n",
       "      <td>1960-08-01</td>\n",
       "      <td>606</td>\n",
       "      <td>539.2</td>\n",
       "    </tr>\n",
       "    <tr>\n",
       "      <th>140</th>\n",
       "      <td>1960-09-01</td>\n",
       "      <td>508</td>\n",
       "      <td>548.6</td>\n",
       "    </tr>\n",
       "    <tr>\n",
       "      <th>141</th>\n",
       "      <td>1960-10-01</td>\n",
       "      <td>461</td>\n",
       "      <td>546.4</td>\n",
       "    </tr>\n",
       "    <tr>\n",
       "      <th>142</th>\n",
       "      <td>1960-11-01</td>\n",
       "      <td>390</td>\n",
       "      <td>517.4</td>\n",
       "    </tr>\n",
       "    <tr>\n",
       "      <th>143</th>\n",
       "      <td>1960-12-01</td>\n",
       "      <td>432</td>\n",
       "      <td>479.4</td>\n",
       "    </tr>\n",
       "  </tbody>\n",
       "</table>\n",
       "<p>144 rows × 3 columns</p>\n",
       "</div>"
      ],
      "text/plain": [
       "          date  value     MA\n",
       "0   1949-01-01    112    NaN\n",
       "1   1949-02-01    118    NaN\n",
       "2   1949-03-01    132    NaN\n",
       "3   1949-04-01    129    NaN\n",
       "4   1949-05-01    121  122.4\n",
       "..         ...    ...    ...\n",
       "139 1960-08-01    606  539.2\n",
       "140 1960-09-01    508  548.6\n",
       "141 1960-10-01    461  546.4\n",
       "142 1960-11-01    390  517.4\n",
       "143 1960-12-01    432  479.4\n",
       "\n",
       "[144 rows x 3 columns]"
      ]
     },
     "execution_count": 12,
     "metadata": {},
     "output_type": "execute_result"
    }
   ],
   "source": [
    "df['MA']= df['value'].rolling(5).mean()\n",
    "df"
   ]
  },
  {
   "cell_type": "code",
   "execution_count": 16,
   "metadata": {},
   "outputs": [
    {
     "data": {
      "image/png": "[encoded data removed]",
      "text/plain": [
       "<Figure size 1080x720 with 1 Axes>"
      ]
     },
     "metadata": {
      "needs_background": "light"
     },
     "output_type": "display_data"
    }
   ],
   "source": [
    "plt.figure(figsize=(15,10))\n",
    "# plt.plot(df['value'], c='b');\n",
    "plt.plot(df['MA'], c='r');"
   ]
  },
  {
   "cell_type": "markdown",
   "metadata": {},
   "source": [
    "## 3. Comprueba de manera estadística si la serie es o no stationary."
   ]
  },
  {
   "cell_type": "code",
   "execution_count": 17,
   "metadata": {},
   "outputs": [
    {
     "data": {
      "text/plain": [
       "0.9918802434376409"
      ]
     },
     "execution_count": 17,
     "metadata": {},
     "output_type": "execute_result"
    }
   ],
   "source": [
    "from statsmodels.tsa.stattools import adfuller\n",
    "\n",
    "result = adfuller(df['value'].values)\n",
    "result[1]"
   ]
  },
  {
   "cell_type": "markdown",
   "metadata": {},
   "source": [
    "## 4. Aplica una transformación logarítmica"
   ]
  },
  {
   "cell_type": "code",
   "execution_count": 20,
   "metadata": {},
   "outputs": [
    {
     "data": {
      "text/plain": [
       "0      112\n",
       "1      118\n",
       "2      132\n",
       "3      129\n",
       "4      121\n",
       "      ... \n",
       "139    606\n",
       "140    508\n",
       "141    461\n",
       "142    390\n",
       "143    432\n",
       "Name: value, Length: 144, dtype: int64"
      ]
     },
     "execution_count": 20,
     "metadata": {},
     "output_type": "execute_result"
    }
   ],
   "source": [
    "df['value']"
   ]
  },
  {
   "cell_type": "code",
   "execution_count": 22,
   "metadata": {},
   "outputs": [
    {
     "data": {
      "text/plain": [
       "0      4.718499\n",
       "1      4.770685\n",
       "2      4.882802\n",
       "3      4.859812\n",
       "4      4.795791\n",
       "         ...   \n",
       "139    6.406880\n",
       "140    6.230481\n",
       "141    6.133398\n",
       "142    5.966147\n",
       "143    6.068426\n",
       "Name: value, Length: 144, dtype: float64"
      ]
     },
     "execution_count": 22,
     "metadata": {},
     "output_type": "execute_result"
    }
   ],
   "source": [
    "np.log(df['value'])"
   ]
  },
  {
   "cell_type": "code",
   "execution_count": 23,
   "metadata": {},
   "outputs": [
    {
     "data": {
      "text/html": [
       "<div>\n",
       "<style scoped>\n",
       "    .dataframe tbody tr th:only-of-type {\n",
       "        vertical-align: middle;\n",
       "    }\n",
       "\n",
       "    .dataframe tbody tr th {\n",
       "        vertical-align: top;\n",
       "    }\n",
       "\n",
       "    .dataframe thead th {\n",
       "        text-align: right;\n",
       "    }\n",
       "</style>\n",
       "<table border=\"1\" class=\"dataframe\">\n",
       "  <thead>\n",
       "    <tr style=\"text-align: right;\">\n",
       "      <th></th>\n",
       "      <th>date</th>\n",
       "      <th>value</th>\n",
       "      <th>MA</th>\n",
       "    </tr>\n",
       "  </thead>\n",
       "  <tbody>\n",
       "    <tr>\n",
       "      <th>0</th>\n",
       "      <td>1949-01-01</td>\n",
       "      <td>4.718499</td>\n",
       "      <td>NaN</td>\n",
       "    </tr>\n",
       "    <tr>\n",
       "      <th>1</th>\n",
       "      <td>1949-02-01</td>\n",
       "      <td>4.770685</td>\n",
       "      <td>NaN</td>\n",
       "    </tr>\n",
       "    <tr>\n",
       "      <th>2</th>\n",
       "      <td>1949-03-01</td>\n",
       "      <td>4.882802</td>\n",
       "      <td>NaN</td>\n",
       "    </tr>\n",
       "    <tr>\n",
       "      <th>3</th>\n",
       "      <td>1949-04-01</td>\n",
       "      <td>4.859812</td>\n",
       "      <td>NaN</td>\n",
       "    </tr>\n",
       "    <tr>\n",
       "      <th>4</th>\n",
       "      <td>1949-05-01</td>\n",
       "      <td>4.795791</td>\n",
       "      <td>122.4</td>\n",
       "    </tr>\n",
       "    <tr>\n",
       "      <th>...</th>\n",
       "      <td>...</td>\n",
       "      <td>...</td>\n",
       "      <td>...</td>\n",
       "    </tr>\n",
       "    <tr>\n",
       "      <th>139</th>\n",
       "      <td>1960-08-01</td>\n",
       "      <td>6.406880</td>\n",
       "      <td>539.2</td>\n",
       "    </tr>\n",
       "    <tr>\n",
       "      <th>140</th>\n",
       "      <td>1960-09-01</td>\n",
       "      <td>6.230481</td>\n",
       "      <td>548.6</td>\n",
       "    </tr>\n",
       "    <tr>\n",
       "      <th>141</th>\n",
       "      <td>1960-10-01</td>\n",
       "      <td>6.133398</td>\n",
       "      <td>546.4</td>\n",
       "    </tr>\n",
       "    <tr>\n",
       "      <th>142</th>\n",
       "      <td>1960-11-01</td>\n",
       "      <td>5.966147</td>\n",
       "      <td>517.4</td>\n",
       "    </tr>\n",
       "    <tr>\n",
       "      <th>143</th>\n",
       "      <td>1960-12-01</td>\n",
       "      <td>6.068426</td>\n",
       "      <td>479.4</td>\n",
       "    </tr>\n",
       "  </tbody>\n",
       "</table>\n",
       "<p>144 rows × 3 columns</p>\n",
       "</div>"
      ],
      "text/plain": [
       "          date     value     MA\n",
       "0   1949-01-01  4.718499    NaN\n",
       "1   1949-02-01  4.770685    NaN\n",
       "2   1949-03-01  4.882802    NaN\n",
       "3   1949-04-01  4.859812    NaN\n",
       "4   1949-05-01  4.795791  122.4\n",
       "..         ...       ...    ...\n",
       "139 1960-08-01  6.406880  539.2\n",
       "140 1960-09-01  6.230481  548.6\n",
       "141 1960-10-01  6.133398  546.4\n",
       "142 1960-11-01  5.966147  517.4\n",
       "143 1960-12-01  6.068426  479.4\n",
       "\n",
       "[144 rows x 3 columns]"
      ]
     },
     "execution_count": 23,
     "metadata": {},
     "output_type": "execute_result"
    }
   ],
   "source": [
    "df['value'] = np.log(df['value'])\n",
    "df"
   ]
  },
  {
   "cell_type": "code",
   "execution_count": 25,
   "metadata": {},
   "outputs": [],
   "source": [
    "df.set_index(df['date'], inplace=True, drop=True)"
   ]
  },
  {
   "cell_type": "code",
   "execution_count": 30,
   "metadata": {},
   "outputs": [
    {
     "data": {
      "text/html": [
       "<div>\n",
       "<style scoped>\n",
       "    .dataframe tbody tr th:only-of-type {\n",
       "        vertical-align: middle;\n",
       "    }\n",
       "\n",
       "    .dataframe tbody tr th {\n",
       "        vertical-align: top;\n",
       "    }\n",
       "\n",
       "    .dataframe thead th {\n",
       "        text-align: right;\n",
       "    }\n",
       "</style>\n",
       "<table border=\"1\" class=\"dataframe\">\n",
       "  <thead>\n",
       "    <tr style=\"text-align: right;\">\n",
       "      <th></th>\n",
       "      <th>value</th>\n",
       "    </tr>\n",
       "    <tr>\n",
       "      <th>date</th>\n",
       "      <th></th>\n",
       "    </tr>\n",
       "  </thead>\n",
       "  <tbody>\n",
       "    <tr>\n",
       "      <th>1949-01-01</th>\n",
       "      <td>4.718499</td>\n",
       "    </tr>\n",
       "    <tr>\n",
       "      <th>1949-02-01</th>\n",
       "      <td>4.770685</td>\n",
       "    </tr>\n",
       "    <tr>\n",
       "      <th>1949-03-01</th>\n",
       "      <td>4.882802</td>\n",
       "    </tr>\n",
       "    <tr>\n",
       "      <th>1949-04-01</th>\n",
       "      <td>4.859812</td>\n",
       "    </tr>\n",
       "    <tr>\n",
       "      <th>1949-05-01</th>\n",
       "      <td>4.795791</td>\n",
       "    </tr>\n",
       "    <tr>\n",
       "      <th>...</th>\n",
       "      <td>...</td>\n",
       "    </tr>\n",
       "    <tr>\n",
       "      <th>1960-08-01</th>\n",
       "      <td>6.406880</td>\n",
       "    </tr>\n",
       "    <tr>\n",
       "      <th>1960-09-01</th>\n",
       "      <td>6.230481</td>\n",
       "    </tr>\n",
       "    <tr>\n",
       "      <th>1960-10-01</th>\n",
       "      <td>6.133398</td>\n",
       "    </tr>\n",
       "    <tr>\n",
       "      <th>1960-11-01</th>\n",
       "      <td>5.966147</td>\n",
       "    </tr>\n",
       "    <tr>\n",
       "      <th>1960-12-01</th>\n",
       "      <td>6.068426</td>\n",
       "    </tr>\n",
       "  </tbody>\n",
       "</table>\n",
       "<p>144 rows × 1 columns</p>\n",
       "</div>"
      ],
      "text/plain": [
       "               value\n",
       "date                \n",
       "1949-01-01  4.718499\n",
       "1949-02-01  4.770685\n",
       "1949-03-01  4.882802\n",
       "1949-04-01  4.859812\n",
       "1949-05-01  4.795791\n",
       "...              ...\n",
       "1960-08-01  6.406880\n",
       "1960-09-01  6.230481\n",
       "1960-10-01  6.133398\n",
       "1960-11-01  5.966147\n",
       "1960-12-01  6.068426\n",
       "\n",
       "[144 rows x 1 columns]"
      ]
     },
     "execution_count": 30,
     "metadata": {},
     "output_type": "execute_result"
    }
   ],
   "source": [
    "# df.drop(columns=['date', 'MA'], inplace=True)\n",
    "df"
   ]
  },
  {
   "cell_type": "markdown",
   "metadata": {},
   "source": [
    "## 5. Divide en train y test. Guarda 20 muestras para test."
   ]
  },
  {
   "cell_type": "code",
   "execution_count": 31,
   "metadata": {},
   "outputs": [
    {
     "data": {
      "text/plain": [
       "124"
      ]
     },
     "execution_count": 31,
     "metadata": {},
     "output_type": "execute_result"
    }
   ],
   "source": [
    "144-20"
   ]
  },
  {
   "cell_type": "code",
   "execution_count": 32,
   "metadata": {},
   "outputs": [],
   "source": [
    "train = df.iloc[:124,]\n",
    "test = df.iloc[124:,]"
   ]
  },
  {
   "cell_type": "code",
   "execution_count": 33,
   "metadata": {},
   "outputs": [
    {
     "name": "stdout",
     "output_type": "stream",
     "text": [
      "(124, 1)\n",
      "(20, 1)\n"
     ]
    }
   ],
   "source": [
    "print(train.shape)\n",
    "print(test.shape)"
   ]
  },
  {
   "cell_type": "markdown",
   "metadata": {},
   "source": [
    "## 6. Crea tu primer modelo ARIMA"
   ]
  },
  {
   "cell_type": "code",
   "execution_count": 36,
   "metadata": {},
   "outputs": [],
   "source": [
    "from pmdarima.arima import auto_arima, ARIMA"
   ]
  },
  {
   "cell_type": "code",
   "execution_count": 35,
   "metadata": {},
   "outputs": [
    {
     "name": "stdout",
     "output_type": "stream",
     "text": [
      "Performing stepwise search to minimize aic\n",
      " ARIMA(1,1,1)(0,0,0)[0] intercept   : AIC=-208.997, Time=0.15 sec\n",
      " ARIMA(0,1,0)(0,0,0)[0] intercept   : AIC=-201.351, Time=0.02 sec\n",
      " ARIMA(1,1,0)(0,0,0)[0] intercept   : AIC=-202.849, Time=0.03 sec\n",
      " ARIMA(0,1,1)(0,0,0)[0] intercept   : AIC=-204.251, Time=0.04 sec\n",
      " ARIMA(0,1,0)(0,0,0)[0]             : AIC=-202.180, Time=0.02 sec\n",
      " ARIMA(2,1,1)(0,0,0)[0] intercept   : AIC=-229.487, Time=0.25 sec\n",
      " ARIMA(2,1,0)(0,0,0)[0] intercept   : AIC=-204.379, Time=0.06 sec\n",
      " ARIMA(3,1,1)(0,0,0)[0] intercept   : AIC=-228.871, Time=0.32 sec\n",
      " ARIMA(2,1,2)(0,0,0)[0] intercept   : AIC=inf, Time=0.29 sec\n",
      " ARIMA(1,1,2)(0,0,0)[0] intercept   : AIC=inf, Time=0.28 sec\n",
      " ARIMA(3,1,0)(0,0,0)[0] intercept   : AIC=-203.109, Time=0.15 sec\n",
      " ARIMA(3,1,2)(0,0,0)[0] intercept   : AIC=-229.535, Time=0.33 sec\n",
      " ARIMA(4,1,2)(0,0,0)[0] intercept   : AIC=-233.928, Time=0.39 sec\n",
      " ARIMA(4,1,1)(0,0,0)[0] intercept   : AIC=-214.822, Time=0.21 sec\n",
      " ARIMA(5,1,2)(0,0,0)[0] intercept   : AIC=-232.746, Time=0.50 sec\n",
      " ARIMA(4,1,3)(0,0,0)[0] intercept   : AIC=inf, Time=0.54 sec\n",
      " ARIMA(3,1,3)(0,0,0)[0] intercept   : AIC=inf, Time=0.38 sec\n",
      " ARIMA(5,1,1)(0,0,0)[0] intercept   : AIC=-213.984, Time=0.51 sec\n",
      " ARIMA(5,1,3)(0,0,0)[0] intercept   : AIC=-228.471, Time=0.49 sec\n",
      " ARIMA(4,1,2)(0,0,0)[0]             : AIC=-220.154, Time=0.24 sec\n",
      "\n",
      "Best model:  ARIMA(4,1,2)(0,0,0)[0] intercept\n",
      "Total fit time: 5.210 seconds\n"
     ]
    }
   ],
   "source": [
    "model = auto_arima(train,\n",
    "                   start_p = 1,\n",
    "                   start_q = 1,\n",
    "                   max_p = 5,\n",
    "                   max_q = 5,\n",
    "                   max_d = 3,\n",
    "                   trace=True)"
   ]
  },
  {
   "cell_type": "code",
   "execution_count": 41,
   "metadata": {},
   "outputs": [],
   "source": [
    "y_pred = model.predict(20)"
   ]
  },
  {
   "cell_type": "code",
   "execution_count": 46,
   "metadata": {},
   "outputs": [
    {
     "data": {
      "text/plain": [
       "array([[6.04025471],\n",
       "       [6.15697899],\n",
       "       [6.30627529],\n",
       "       [6.32614947],\n",
       "       [6.13772705],\n",
       "       [6.00881319],\n",
       "       [5.89164421],\n",
       "       [6.00388707],\n",
       "       [6.03308622],\n",
       "       [5.96870756],\n",
       "       [6.03787092],\n",
       "       [6.13339804],\n",
       "       [6.15697899],\n",
       "       [6.28226675],\n",
       "       [6.43294009],\n",
       "       [6.40687999],\n",
       "       [6.23048145],\n",
       "       [6.13339804],\n",
       "       [5.96614674],\n",
       "       [6.06842559]])"
      ]
     },
     "execution_count": 46,
     "metadata": {},
     "output_type": "execute_result"
    }
   ],
   "source": [
    "test.values"
   ]
  },
  {
   "cell_type": "markdown",
   "metadata": {},
   "source": [
    "## 7. Representa en una gráfica los datos de test y tus predicciones."
   ]
  },
  {
   "cell_type": "code",
   "execution_count": 49,
   "metadata": {},
   "outputs": [
    {
     "name": "stdout",
     "output_type": "stream",
     "text": [
      "0.12657252410066783\n"
     ]
    }
   ],
   "source": [
    "from sklearn.metrics import mean_absolute_error\n",
    "\n",
    "print(mean_absolute_error(test.values, y_pred))"
   ]
  },
  {
   "cell_type": "code",
   "execution_count": 48,
   "metadata": {},
   "outputs": [
    {
     "data": {
      "image/png": "[encoded data removed]",
      "text/plain": [
       "<Figure size 432x288 with 1 Axes>"
      ]
     },
     "metadata": {
      "needs_background": "light"
     },
     "output_type": "display_data"
    }
   ],
   "source": [
    "plt.plot(test.values);\n",
    "plt.plot(y_pred, c='r');"
   ]
  },
  {
   "cell_type": "code",
   "execution_count": 55,
   "metadata": {},
   "outputs": [
    {
     "name": "stdout",
     "output_type": "stream",
     "text": [
      "Performing stepwise search to minimize aic\n",
      " ARIMA(1,0,1)(1,1,1)[12] intercept   : AIC=-409.479, Time=1.15 sec\n",
      " ARIMA(0,0,0)(0,1,0)[12] intercept   : AIC=-290.649, Time=0.04 sec\n",
      " ARIMA(1,0,0)(1,1,0)[12] intercept   : AIC=-399.417, Time=1.16 sec\n",
      " ARIMA(0,0,1)(0,1,1)[12] intercept   : AIC=-353.179, Time=0.40 sec\n",
      " ARIMA(0,0,0)(0,1,0)[12]             : AIC=-125.472, Time=0.02 sec\n",
      " ARIMA(1,0,1)(0,1,1)[12] intercept   : AIC=-411.631, Time=0.76 sec\n",
      " ARIMA(1,0,1)(0,1,0)[12] intercept   : AIC=-384.170, Time=0.24 sec\n",
      " ARIMA(1,0,1)(0,1,2)[12] intercept   : AIC=-409.714, Time=2.29 sec\n",
      " ARIMA(1,0,1)(1,1,0)[12] intercept   : AIC=-405.268, Time=0.97 sec\n",
      " ARIMA(1,0,1)(1,1,2)[12] intercept   : AIC=-408.115, Time=2.11 sec\n",
      " ARIMA(1,0,0)(0,1,1)[12] intercept   : AIC=-408.086, Time=0.63 sec\n",
      " ARIMA(2,0,1)(0,1,1)[12] intercept   : AIC=-410.728, Time=0.73 sec\n",
      " ARIMA(1,0,2)(0,1,1)[12] intercept   : AIC=-409.956, Time=1.04 sec\n",
      " ARIMA(0,0,0)(0,1,1)[12] intercept   : AIC=-300.825, Time=0.16 sec\n",
      " ARIMA(0,0,2)(0,1,1)[12] intercept   : AIC=-385.348, Time=0.79 sec\n",
      " ARIMA(2,0,0)(0,1,1)[12] intercept   : AIC=-412.379, Time=0.92 sec\n",
      " ARIMA(2,0,0)(0,1,0)[12] intercept   : AIC=-385.056, Time=0.18 sec\n",
      " ARIMA(2,0,0)(1,1,1)[12] intercept   : AIC=-409.260, Time=1.02 sec\n",
      " ARIMA(2,0,0)(0,1,2)[12] intercept   : AIC=-410.433, Time=1.20 sec\n",
      " ARIMA(2,0,0)(1,1,0)[12] intercept   : AIC=-405.874, Time=0.99 sec\n",
      " ARIMA(2,0,0)(1,1,2)[12] intercept   : AIC=-408.722, Time=2.27 sec\n",
      " ARIMA(3,0,0)(0,1,1)[12] intercept   : AIC=-410.667, Time=0.90 sec\n",
      " ARIMA(3,0,1)(0,1,1)[12] intercept   : AIC=-408.760, Time=1.15 sec\n",
      " ARIMA(2,0,0)(0,1,1)[12]             : AIC=-405.927, Time=0.68 sec\n",
      "\n",
      "Best model:  ARIMA(2,0,0)(0,1,1)[12] intercept\n",
      "Total fit time: 21.819 seconds\n"
     ]
    }
   ],
   "source": [
    "model = auto_arima(train,\n",
    "                   start_p = 1,\n",
    "                   start_q = 1,\n",
    "                   max_p = 5,\n",
    "                   max_q = 5,\n",
    "                   max_d = 3,\n",
    "                   m=12,\n",
    "                   stationary=False,\n",
    "                   trace=True)"
   ]
  },
  {
   "cell_type": "code",
   "execution_count": 52,
   "metadata": {},
   "outputs": [
    {
     "name": "stdout",
     "output_type": "stream",
     "text": [
      "0.02702695363004102\n"
     ]
    },
    {
     "data": {
      "image/png": "[encoded data removed]",
      "text/plain": [
       "<Figure size 432x288 with 1 Axes>"
      ]
     },
     "metadata": {
      "needs_background": "light"
     },
     "output_type": "display_data"
    }
   ],
   "source": [
    "y_pred = model.predict(20)\n",
    "print(mean_absolute_error(test.values, y_pred))\n",
    "plt.plot(test.values);\n",
    "plt.plot(y_pred, c='r');"
   ]
  },
  {
   "cell_type": "code",
   "execution_count": 54,
   "metadata": {},
   "outputs": [
    {
     "data": {
      "image/png": "[encoded data removed]",
      "text/plain": [
       "<Figure size 432x288 with 1 Axes>"
      ]
     },
     "metadata": {
      "needs_background": "light"
     },
     "output_type": "display_data"
    }
   ],
   "source": [
    "# y_pred = model.predict(20)\n",
    "# print(mean_absolute_error(test.values, y_pred))\n",
    "plt.plot(test.values);\n",
    "plt.plot(model.predict(40), c='r');"
   ]
  },
  {
   "cell_type": "code",
   "execution_count": 59,
   "metadata": {},
   "outputs": [
    {
     "data": {
      "text/plain": [
       "array([[420.],\n",
       "       [472.],\n",
       "       [548.],\n",
       "       [559.],\n",
       "       [463.],\n",
       "       [407.],\n",
       "       [362.],\n",
       "       [405.],\n",
       "       [417.],\n",
       "       [391.],\n",
       "       [419.],\n",
       "       [461.],\n",
       "       [472.],\n",
       "       [535.],\n",
       "       [622.],\n",
       "       [606.],\n",
       "       [508.],\n",
       "       [461.],\n",
       "       [390.],\n",
       "       [432.]])"
      ]
     },
     "execution_count": 59,
     "metadata": {},
     "output_type": "execute_result"
    }
   ],
   "source": [
    "np.exp(test.values)"
   ]
  },
  {
   "cell_type": "code",
   "execution_count": 57,
   "metadata": {},
   "outputs": [
    {
     "data": {
      "text/plain": [
       "array([410.22123252, 487.71717651, 548.91865685, 555.51774948,\n",
       "       469.6662799 , 413.22904447, 361.52629299, 401.45970978,\n",
       "       419.23047944, 399.70649682, 468.41487477, 456.97303402,\n",
       "       471.77091817, 559.75766695, 628.71693543, 635.18368843,\n",
       "       536.20241671, 471.14208207, 411.71173943, 456.7202892 ])"
      ]
     },
     "execution_count": 57,
     "metadata": {},
     "output_type": "execute_result"
    }
   ],
   "source": [
    "np.exp(y_pred)"
   ]
  },
  {
   "cell_type": "code",
   "execution_count": 61,
   "metadata": {},
   "outputs": [
    {
     "data": {
      "image/png": "[encoded data removed]",
      "text/plain": [
       "<Figure size 432x288 with 1 Axes>"
      ]
     },
     "metadata": {
      "needs_background": "light"
     },
     "output_type": "display_data"
    }
   ],
   "source": [
    "plt.plot(np.exp(test.values));\n",
    "plt.plot(np.exp(y_pred), c='r');"
   ]
  },
  {
   "attachments": {},
   "cell_type": "markdown",
   "metadata": {},
   "source": [
    "## 8. Prueba otros modelos, a ver qué performance presentan."
   ]
  },
  {
   "cell_type": "code",
   "execution_count": 62,
   "metadata": {},
   "outputs": [
    {
     "data": {
      "text/html": [
       "<div>\n",
       "<style scoped>\n",
       "    .dataframe tbody tr th:only-of-type {\n",
       "        vertical-align: middle;\n",
       "    }\n",
       "\n",
       "    .dataframe tbody tr th {\n",
       "        vertical-align: top;\n",
       "    }\n",
       "\n",
       "    .dataframe thead th {\n",
       "        text-align: right;\n",
       "    }\n",
       "</style>\n",
       "<table border=\"1\" class=\"dataframe\">\n",
       "  <thead>\n",
       "    <tr style=\"text-align: right;\">\n",
       "      <th></th>\n",
       "      <th>value</th>\n",
       "      <th>t-12</th>\n",
       "      <th>t-11</th>\n",
       "      <th>t-10</th>\n",
       "      <th>t-9</th>\n",
       "      <th>t-8</th>\n",
       "      <th>t-7</th>\n",
       "      <th>t-6</th>\n",
       "      <th>t-5</th>\n",
       "      <th>t-4</th>\n",
       "      <th>t-3</th>\n",
       "      <th>t-2</th>\n",
       "      <th>t-1</th>\n",
       "    </tr>\n",
       "    <tr>\n",
       "      <th>date</th>\n",
       "      <th></th>\n",
       "      <th></th>\n",
       "      <th></th>\n",
       "      <th></th>\n",
       "      <th></th>\n",
       "      <th></th>\n",
       "      <th></th>\n",
       "      <th></th>\n",
       "      <th></th>\n",
       "      <th></th>\n",
       "      <th></th>\n",
       "      <th></th>\n",
       "      <th></th>\n",
       "    </tr>\n",
       "  </thead>\n",
       "  <tbody>\n",
       "    <tr>\n",
       "      <th>1950-01-01</th>\n",
       "      <td>4.744932</td>\n",
       "      <td>4.718499</td>\n",
       "      <td>4.770685</td>\n",
       "      <td>4.882802</td>\n",
       "      <td>4.859812</td>\n",
       "      <td>4.795791</td>\n",
       "      <td>4.905275</td>\n",
       "      <td>4.997212</td>\n",
       "      <td>4.997212</td>\n",
       "      <td>4.912655</td>\n",
       "      <td>4.779123</td>\n",
       "      <td>4.644391</td>\n",
       "      <td>4.770685</td>\n",
       "    </tr>\n",
       "    <tr>\n",
       "      <th>1950-02-01</th>\n",
       "      <td>4.836282</td>\n",
       "      <td>4.770685</td>\n",
       "      <td>4.882802</td>\n",
       "      <td>4.859812</td>\n",
       "      <td>4.795791</td>\n",
       "      <td>4.905275</td>\n",
       "      <td>4.997212</td>\n",
       "      <td>4.997212</td>\n",
       "      <td>4.912655</td>\n",
       "      <td>4.779123</td>\n",
       "      <td>4.644391</td>\n",
       "      <td>4.770685</td>\n",
       "      <td>4.744932</td>\n",
       "    </tr>\n",
       "    <tr>\n",
       "      <th>1950-03-01</th>\n",
       "      <td>4.948760</td>\n",
       "      <td>4.882802</td>\n",
       "      <td>4.859812</td>\n",
       "      <td>4.795791</td>\n",
       "      <td>4.905275</td>\n",
       "      <td>4.997212</td>\n",
       "      <td>4.997212</td>\n",
       "      <td>4.912655</td>\n",
       "      <td>4.779123</td>\n",
       "      <td>4.644391</td>\n",
       "      <td>4.770685</td>\n",
       "      <td>4.744932</td>\n",
       "      <td>4.836282</td>\n",
       "    </tr>\n",
       "    <tr>\n",
       "      <th>1950-04-01</th>\n",
       "      <td>4.905275</td>\n",
       "      <td>4.859812</td>\n",
       "      <td>4.795791</td>\n",
       "      <td>4.905275</td>\n",
       "      <td>4.997212</td>\n",
       "      <td>4.997212</td>\n",
       "      <td>4.912655</td>\n",
       "      <td>4.779123</td>\n",
       "      <td>4.644391</td>\n",
       "      <td>4.770685</td>\n",
       "      <td>4.744932</td>\n",
       "      <td>4.836282</td>\n",
       "      <td>4.948760</td>\n",
       "    </tr>\n",
       "    <tr>\n",
       "      <th>1950-05-01</th>\n",
       "      <td>4.828314</td>\n",
       "      <td>4.795791</td>\n",
       "      <td>4.905275</td>\n",
       "      <td>4.997212</td>\n",
       "      <td>4.997212</td>\n",
       "      <td>4.912655</td>\n",
       "      <td>4.779123</td>\n",
       "      <td>4.644391</td>\n",
       "      <td>4.770685</td>\n",
       "      <td>4.744932</td>\n",
       "      <td>4.836282</td>\n",
       "      <td>4.948760</td>\n",
       "      <td>4.905275</td>\n",
       "    </tr>\n",
       "    <tr>\n",
       "      <th>...</th>\n",
       "      <td>...</td>\n",
       "      <td>...</td>\n",
       "      <td>...</td>\n",
       "      <td>...</td>\n",
       "      <td>...</td>\n",
       "      <td>...</td>\n",
       "      <td>...</td>\n",
       "      <td>...</td>\n",
       "      <td>...</td>\n",
       "      <td>...</td>\n",
       "      <td>...</td>\n",
       "      <td>...</td>\n",
       "      <td>...</td>\n",
       "    </tr>\n",
       "    <tr>\n",
       "      <th>1960-08-01</th>\n",
       "      <td>6.406880</td>\n",
       "      <td>6.326149</td>\n",
       "      <td>6.137727</td>\n",
       "      <td>6.008813</td>\n",
       "      <td>5.891644</td>\n",
       "      <td>6.003887</td>\n",
       "      <td>6.033086</td>\n",
       "      <td>5.968708</td>\n",
       "      <td>6.037871</td>\n",
       "      <td>6.133398</td>\n",
       "      <td>6.156979</td>\n",
       "      <td>6.282267</td>\n",
       "      <td>6.432940</td>\n",
       "    </tr>\n",
       "    <tr>\n",
       "      <th>1960-09-01</th>\n",
       "      <td>6.230481</td>\n",
       "      <td>6.137727</td>\n",
       "      <td>6.008813</td>\n",
       "      <td>5.891644</td>\n",
       "      <td>6.003887</td>\n",
       "      <td>6.033086</td>\n",
       "      <td>5.968708</td>\n",
       "      <td>6.037871</td>\n",
       "      <td>6.133398</td>\n",
       "      <td>6.156979</td>\n",
       "      <td>6.282267</td>\n",
       "      <td>6.432940</td>\n",
       "      <td>6.406880</td>\n",
       "    </tr>\n",
       "    <tr>\n",
       "      <th>1960-10-01</th>\n",
       "      <td>6.133398</td>\n",
       "      <td>6.008813</td>\n",
       "      <td>5.891644</td>\n",
       "      <td>6.003887</td>\n",
       "      <td>6.033086</td>\n",
       "      <td>5.968708</td>\n",
       "      <td>6.037871</td>\n",
       "      <td>6.133398</td>\n",
       "      <td>6.156979</td>\n",
       "      <td>6.282267</td>\n",
       "      <td>6.432940</td>\n",
       "      <td>6.406880</td>\n",
       "      <td>6.230481</td>\n",
       "    </tr>\n",
       "    <tr>\n",
       "      <th>1960-11-01</th>\n",
       "      <td>5.966147</td>\n",
       "      <td>5.891644</td>\n",
       "      <td>6.003887</td>\n",
       "      <td>6.033086</td>\n",
       "      <td>5.968708</td>\n",
       "      <td>6.037871</td>\n",
       "      <td>6.133398</td>\n",
       "      <td>6.156979</td>\n",
       "      <td>6.282267</td>\n",
       "      <td>6.432940</td>\n",
       "      <td>6.406880</td>\n",
       "      <td>6.230481</td>\n",
       "      <td>6.133398</td>\n",
       "    </tr>\n",
       "    <tr>\n",
       "      <th>1960-12-01</th>\n",
       "      <td>6.068426</td>\n",
       "      <td>6.003887</td>\n",
       "      <td>6.033086</td>\n",
       "      <td>5.968708</td>\n",
       "      <td>6.037871</td>\n",
       "      <td>6.133398</td>\n",
       "      <td>6.156979</td>\n",
       "      <td>6.282267</td>\n",
       "      <td>6.432940</td>\n",
       "      <td>6.406880</td>\n",
       "      <td>6.230481</td>\n",
       "      <td>6.133398</td>\n",
       "      <td>5.966147</td>\n",
       "    </tr>\n",
       "  </tbody>\n",
       "</table>\n",
       "<p>132 rows × 13 columns</p>\n",
       "</div>"
      ],
      "text/plain": [
       "               value      t-12      t-11      t-10       t-9       t-8  \\\n",
       "date                                                                     \n",
       "1950-01-01  4.744932  4.718499  4.770685  4.882802  4.859812  4.795791   \n",
       "1950-02-01  4.836282  4.770685  4.882802  4.859812  4.795791  4.905275   \n",
       "1950-03-01  4.948760  4.882802  4.859812  4.795791  4.905275  4.997212   \n",
       "1950-04-01  4.905275  4.859812  4.795791  4.905275  4.997212  4.997212   \n",
       "1950-05-01  4.828314  4.795791  4.905275  4.997212  4.997212  4.912655   \n",
       "...              ...       ...       ...       ...       ...       ...   \n",
       "1960-08-01  6.406880  6.326149  6.137727  6.008813  5.891644  6.003887   \n",
       "1960-09-01  6.230481  6.137727  6.008813  5.891644  6.003887  6.033086   \n",
       "1960-10-01  6.133398  6.008813  5.891644  6.003887  6.033086  5.968708   \n",
       "1960-11-01  5.966147  5.891644  6.003887  6.033086  5.968708  6.037871   \n",
       "1960-12-01  6.068426  6.003887  6.033086  5.968708  6.037871  6.133398   \n",
       "\n",
       "                 t-7       t-6       t-5       t-4       t-3       t-2  \\\n",
       "date                                                                     \n",
       "1950-01-01  4.905275  4.997212  4.997212  4.912655  4.779123  4.644391   \n",
       "1950-02-01  4.997212  4.997212  4.912655  4.779123  4.644391  4.770685   \n",
       "1950-03-01  4.997212  4.912655  4.779123  4.644391  4.770685  4.744932   \n",
       "1950-04-01  4.912655  4.779123  4.644391  4.770685  4.744932  4.836282   \n",
       "1950-05-01  4.779123  4.644391  4.770685  4.744932  4.836282  4.948760   \n",
       "...              ...       ...       ...       ...       ...       ...   \n",
       "1960-08-01  6.033086  5.968708  6.037871  6.133398  6.156979  6.282267   \n",
       "1960-09-01  5.968708  6.037871  6.133398  6.156979  6.282267  6.432940   \n",
       "1960-10-01  6.037871  6.133398  6.156979  6.282267  6.432940  6.406880   \n",
       "1960-11-01  6.133398  6.156979  6.282267  6.432940  6.406880  6.230481   \n",
       "1960-12-01  6.156979  6.282267  6.432940  6.406880  6.230481  6.133398   \n",
       "\n",
       "                 t-1  \n",
       "date                  \n",
       "1950-01-01  4.770685  \n",
       "1950-02-01  4.744932  \n",
       "1950-03-01  4.836282  \n",
       "1950-04-01  4.948760  \n",
       "1950-05-01  4.905275  \n",
       "...              ...  \n",
       "1960-08-01  6.432940  \n",
       "1960-09-01  6.406880  \n",
       "1960-10-01  6.230481  \n",
       "1960-11-01  6.133398  \n",
       "1960-12-01  5.966147  \n",
       "\n",
       "[132 rows x 13 columns]"
      ]
     },
     "execution_count": 62,
     "metadata": {},
     "output_type": "execute_result"
    }
   ],
   "source": [
    "for i in range(12,0,-1):\n",
    "    df['t-'+str(i)] = df['value'].shift(i)\n",
    "\n",
    "df.dropna(inplace=True)\n",
    "df"
   ]
  },
  {
   "cell_type": "code",
   "execution_count": 79,
   "metadata": {},
   "outputs": [
    {
     "data": {
      "text/plain": [
       "112"
      ]
     },
     "execution_count": 79,
     "metadata": {},
     "output_type": "execute_result"
    }
   ],
   "source": [
    "len(df)-20"
   ]
  },
  {
   "cell_type": "code",
   "execution_count": 63,
   "metadata": {},
   "outputs": [],
   "source": [
    "X = df.drop(columns=['value'])\n",
    "y = df['value']"
   ]
  },
  {
   "cell_type": "code",
   "execution_count": 66,
   "metadata": {},
   "outputs": [
    {
     "data": {
      "text/html": [
       "<div>\n",
       "<style scoped>\n",
       "    .dataframe tbody tr th:only-of-type {\n",
       "        vertical-align: middle;\n",
       "    }\n",
       "\n",
       "    .dataframe tbody tr th {\n",
       "        vertical-align: top;\n",
       "    }\n",
       "\n",
       "    .dataframe thead th {\n",
       "        text-align: right;\n",
       "    }\n",
       "</style>\n",
       "<table border=\"1\" class=\"dataframe\">\n",
       "  <thead>\n",
       "    <tr style=\"text-align: right;\">\n",
       "      <th></th>\n",
       "      <th>t-12</th>\n",
       "      <th>t-11</th>\n",
       "      <th>t-10</th>\n",
       "      <th>t-9</th>\n",
       "      <th>t-8</th>\n",
       "      <th>t-7</th>\n",
       "      <th>t-6</th>\n",
       "      <th>t-5</th>\n",
       "      <th>t-4</th>\n",
       "      <th>t-3</th>\n",
       "      <th>t-2</th>\n",
       "      <th>t-1</th>\n",
       "    </tr>\n",
       "    <tr>\n",
       "      <th>date</th>\n",
       "      <th></th>\n",
       "      <th></th>\n",
       "      <th></th>\n",
       "      <th></th>\n",
       "      <th></th>\n",
       "      <th></th>\n",
       "      <th></th>\n",
       "      <th></th>\n",
       "      <th></th>\n",
       "      <th></th>\n",
       "      <th></th>\n",
       "      <th></th>\n",
       "    </tr>\n",
       "  </thead>\n",
       "  <tbody>\n",
       "    <tr>\n",
       "      <th>1950-01-01</th>\n",
       "      <td>4.718499</td>\n",
       "      <td>4.770685</td>\n",
       "      <td>4.882802</td>\n",
       "      <td>4.859812</td>\n",
       "      <td>4.795791</td>\n",
       "      <td>4.905275</td>\n",
       "      <td>4.997212</td>\n",
       "      <td>4.997212</td>\n",
       "      <td>4.912655</td>\n",
       "      <td>4.779123</td>\n",
       "      <td>4.644391</td>\n",
       "      <td>4.770685</td>\n",
       "    </tr>\n",
       "    <tr>\n",
       "      <th>1950-02-01</th>\n",
       "      <td>4.770685</td>\n",
       "      <td>4.882802</td>\n",
       "      <td>4.859812</td>\n",
       "      <td>4.795791</td>\n",
       "      <td>4.905275</td>\n",
       "      <td>4.997212</td>\n",
       "      <td>4.997212</td>\n",
       "      <td>4.912655</td>\n",
       "      <td>4.779123</td>\n",
       "      <td>4.644391</td>\n",
       "      <td>4.770685</td>\n",
       "      <td>4.744932</td>\n",
       "    </tr>\n",
       "    <tr>\n",
       "      <th>1950-03-01</th>\n",
       "      <td>4.882802</td>\n",
       "      <td>4.859812</td>\n",
       "      <td>4.795791</td>\n",
       "      <td>4.905275</td>\n",
       "      <td>4.997212</td>\n",
       "      <td>4.997212</td>\n",
       "      <td>4.912655</td>\n",
       "      <td>4.779123</td>\n",
       "      <td>4.644391</td>\n",
       "      <td>4.770685</td>\n",
       "      <td>4.744932</td>\n",
       "      <td>4.836282</td>\n",
       "    </tr>\n",
       "    <tr>\n",
       "      <th>1950-04-01</th>\n",
       "      <td>4.859812</td>\n",
       "      <td>4.795791</td>\n",
       "      <td>4.905275</td>\n",
       "      <td>4.997212</td>\n",
       "      <td>4.997212</td>\n",
       "      <td>4.912655</td>\n",
       "      <td>4.779123</td>\n",
       "      <td>4.644391</td>\n",
       "      <td>4.770685</td>\n",
       "      <td>4.744932</td>\n",
       "      <td>4.836282</td>\n",
       "      <td>4.948760</td>\n",
       "    </tr>\n",
       "    <tr>\n",
       "      <th>1950-05-01</th>\n",
       "      <td>4.795791</td>\n",
       "      <td>4.905275</td>\n",
       "      <td>4.997212</td>\n",
       "      <td>4.997212</td>\n",
       "      <td>4.912655</td>\n",
       "      <td>4.779123</td>\n",
       "      <td>4.644391</td>\n",
       "      <td>4.770685</td>\n",
       "      <td>4.744932</td>\n",
       "      <td>4.836282</td>\n",
       "      <td>4.948760</td>\n",
       "      <td>4.905275</td>\n",
       "    </tr>\n",
       "    <tr>\n",
       "      <th>...</th>\n",
       "      <td>...</td>\n",
       "      <td>...</td>\n",
       "      <td>...</td>\n",
       "      <td>...</td>\n",
       "      <td>...</td>\n",
       "      <td>...</td>\n",
       "      <td>...</td>\n",
       "      <td>...</td>\n",
       "      <td>...</td>\n",
       "      <td>...</td>\n",
       "      <td>...</td>\n",
       "      <td>...</td>\n",
       "    </tr>\n",
       "    <tr>\n",
       "      <th>1960-08-01</th>\n",
       "      <td>6.326149</td>\n",
       "      <td>6.137727</td>\n",
       "      <td>6.008813</td>\n",
       "      <td>5.891644</td>\n",
       "      <td>6.003887</td>\n",
       "      <td>6.033086</td>\n",
       "      <td>5.968708</td>\n",
       "      <td>6.037871</td>\n",
       "      <td>6.133398</td>\n",
       "      <td>6.156979</td>\n",
       "      <td>6.282267</td>\n",
       "      <td>6.432940</td>\n",
       "    </tr>\n",
       "    <tr>\n",
       "      <th>1960-09-01</th>\n",
       "      <td>6.137727</td>\n",
       "      <td>6.008813</td>\n",
       "      <td>5.891644</td>\n",
       "      <td>6.003887</td>\n",
       "      <td>6.033086</td>\n",
       "      <td>5.968708</td>\n",
       "      <td>6.037871</td>\n",
       "      <td>6.133398</td>\n",
       "      <td>6.156979</td>\n",
       "      <td>6.282267</td>\n",
       "      <td>6.432940</td>\n",
       "      <td>6.406880</td>\n",
       "    </tr>\n",
       "    <tr>\n",
       "      <th>1960-10-01</th>\n",
       "      <td>6.008813</td>\n",
       "      <td>5.891644</td>\n",
       "      <td>6.003887</td>\n",
       "      <td>6.033086</td>\n",
       "      <td>5.968708</td>\n",
       "      <td>6.037871</td>\n",
       "      <td>6.133398</td>\n",
       "      <td>6.156979</td>\n",
       "      <td>6.282267</td>\n",
       "      <td>6.432940</td>\n",
       "      <td>6.406880</td>\n",
       "      <td>6.230481</td>\n",
       "    </tr>\n",
       "    <tr>\n",
       "      <th>1960-11-01</th>\n",
       "      <td>5.891644</td>\n",
       "      <td>6.003887</td>\n",
       "      <td>6.033086</td>\n",
       "      <td>5.968708</td>\n",
       "      <td>6.037871</td>\n",
       "      <td>6.133398</td>\n",
       "      <td>6.156979</td>\n",
       "      <td>6.282267</td>\n",
       "      <td>6.432940</td>\n",
       "      <td>6.406880</td>\n",
       "      <td>6.230481</td>\n",
       "      <td>6.133398</td>\n",
       "    </tr>\n",
       "    <tr>\n",
       "      <th>1960-12-01</th>\n",
       "      <td>6.003887</td>\n",
       "      <td>6.033086</td>\n",
       "      <td>5.968708</td>\n",
       "      <td>6.037871</td>\n",
       "      <td>6.133398</td>\n",
       "      <td>6.156979</td>\n",
       "      <td>6.282267</td>\n",
       "      <td>6.432940</td>\n",
       "      <td>6.406880</td>\n",
       "      <td>6.230481</td>\n",
       "      <td>6.133398</td>\n",
       "      <td>5.966147</td>\n",
       "    </tr>\n",
       "  </tbody>\n",
       "</table>\n",
       "<p>132 rows × 12 columns</p>\n",
       "</div>"
      ],
      "text/plain": [
       "                t-12      t-11      t-10       t-9       t-8       t-7  \\\n",
       "date                                                                     \n",
       "1950-01-01  4.718499  4.770685  4.882802  4.859812  4.795791  4.905275   \n",
       "1950-02-01  4.770685  4.882802  4.859812  4.795791  4.905275  4.997212   \n",
       "1950-03-01  4.882802  4.859812  4.795791  4.905275  4.997212  4.997212   \n",
       "1950-04-01  4.859812  4.795791  4.905275  4.997212  4.997212  4.912655   \n",
       "1950-05-01  4.795791  4.905275  4.997212  4.997212  4.912655  4.779123   \n",
       "...              ...       ...       ...       ...       ...       ...   \n",
       "1960-08-01  6.326149  6.137727  6.008813  5.891644  6.003887  6.033086   \n",
       "1960-09-01  6.137727  6.008813  5.891644  6.003887  6.033086  5.968708   \n",
       "1960-10-01  6.008813  5.891644  6.003887  6.033086  5.968708  6.037871   \n",
       "1960-11-01  5.891644  6.003887  6.033086  5.968708  6.037871  6.133398   \n",
       "1960-12-01  6.003887  6.033086  5.968708  6.037871  6.133398  6.156979   \n",
       "\n",
       "                 t-6       t-5       t-4       t-3       t-2       t-1  \n",
       "date                                                                    \n",
       "1950-01-01  4.997212  4.997212  4.912655  4.779123  4.644391  4.770685  \n",
       "1950-02-01  4.997212  4.912655  4.779123  4.644391  4.770685  4.744932  \n",
       "1950-03-01  4.912655  4.779123  4.644391  4.770685  4.744932  4.836282  \n",
       "1950-04-01  4.779123  4.644391  4.770685  4.744932  4.836282  4.948760  \n",
       "1950-05-01  4.644391  4.770685  4.744932  4.836282  4.948760  4.905275  \n",
       "...              ...       ...       ...       ...       ...       ...  \n",
       "1960-08-01  5.968708  6.037871  6.133398  6.156979  6.282267  6.432940  \n",
       "1960-09-01  6.037871  6.133398  6.156979  6.282267  6.432940  6.406880  \n",
       "1960-10-01  6.133398  6.156979  6.282267  6.432940  6.406880  6.230481  \n",
       "1960-11-01  6.156979  6.282267  6.432940  6.406880  6.230481  6.133398  \n",
       "1960-12-01  6.282267  6.432940  6.406880  6.230481  6.133398  5.966147  \n",
       "\n",
       "[132 rows x 12 columns]"
      ]
     },
     "execution_count": 66,
     "metadata": {},
     "output_type": "execute_result"
    }
   ],
   "source": [
    "X"
   ]
  },
  {
   "cell_type": "code",
   "execution_count": 80,
   "metadata": {},
   "outputs": [],
   "source": [
    "X_train = X.iloc[:112,]\n",
    "X_test = X.iloc[112:,]\n",
    "y_train = y[:112]\n",
    "y_test  = y[112:]"
   ]
  },
  {
   "cell_type": "code",
   "execution_count": 81,
   "metadata": {},
   "outputs": [
    {
     "name": "stdout",
     "output_type": "stream",
     "text": [
      "(112, 12)\n",
      "(20, 12)\n",
      "(112,)\n",
      "(20,)\n"
     ]
    }
   ],
   "source": [
    "print(X_train.shape)\n",
    "print(X_test.shape)\n",
    "print(y_train.shape)\n",
    "print(y_test.shape)"
   ]
  },
  {
   "cell_type": "code",
   "execution_count": 74,
   "metadata": {},
   "outputs": [
    {
     "data": {
      "text/plain": [
       "array([6.15697899, 6.28226675, 6.43294009, 6.40687999, 6.23048145,\n",
       "       6.13339804, 5.96614674, 6.06842559])"
      ]
     },
     "execution_count": 74,
     "metadata": {},
     "output_type": "execute_result"
    }
   ],
   "source": [
    "y_test.values"
   ]
  },
  {
   "cell_type": "code",
   "execution_count": 83,
   "metadata": {},
   "outputs": [
    {
     "name": "stdout",
     "output_type": "stream",
     "text": [
      "0.08174598569203728\n"
     ]
    },
    {
     "data": {
      "text/plain": [
       "[<matplotlib.lines.Line2D at 0x1304a677188>]"
      ]
     },
     "execution_count": 83,
     "metadata": {},
     "output_type": "execute_result"
    },
    {
     "data": {
      "image/png": "[encoded data removed]",
      "text/plain": [
       "<Figure size 432x288 with 1 Axes>"
      ]
     },
     "metadata": {
      "needs_background": "light"
     },
     "output_type": "display_data"
    }
   ],
   "source": [
    "from sklearn.ensemble import RandomForestRegressor\n",
    "\n",
    "\n",
    "model = RandomForestRegressor(max_depth=5)\n",
    "\n",
    "model.fit(X_train, y_train)\n",
    "\n",
    "y_pred = model.predict(X_test)\n",
    "\n",
    "print(mean_absolute_error(y_test.values,y_pred))\n",
    "\n",
    "plt.plot(y_test.values)\n",
    "plt.plot(y_pred, c='r')"
   ]
  }
 ],
 "metadata": {
  "kernelspec": {
   "display_name": "Python 3.7.4 64-bit",
   "language": "python",
   "name": "python3"
  },
  "language_info": {
   "codemirror_mode": {
    "name": "ipython",
    "version": 3
   },
   "file_extension": ".py",
   "mimetype": "text/x-python",
   "name": "python",
   "nbconvert_exporter": "python",
   "pygments_lexer": "ipython3",
   "version": "3.7.4"
  },
  "vscode": {
   "interpreter": {
    "hash": "90139cb9a825bf3d63f6f6704e828dbd1ff7edbd4d0c6e906a71235d6efc74af"
   }
  }
 },
 "nbformat": 4,
 "nbformat_minor": 4
}
