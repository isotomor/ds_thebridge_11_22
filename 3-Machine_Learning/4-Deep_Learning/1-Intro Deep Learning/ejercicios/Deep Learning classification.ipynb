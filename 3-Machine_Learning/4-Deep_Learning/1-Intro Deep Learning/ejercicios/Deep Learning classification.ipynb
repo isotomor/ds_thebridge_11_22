{
 "cells": [
  {
   "cell_type": "markdown",
   "metadata": {
    "id": "YenH_9hJbFk1"
   },
   "source": [
    "# Clasificacion Basica: Predecir una imagen de moda"
   ]
  },
  {
   "cell_type": "markdown",
   "metadata": {
    "id": "FbVhjPpzn6BM"
   },
   "source": [
    "Esta Guia entrena un modelo de red neuronal para clasificar imagenes de ropa como, tennis y camisetas.\n",
    "\n",
    "Esta Guia usa [tf.keras](https://www.tensorflow.org/guide/keras), un API de alto nivel para construir y entrenar modelos en Tensorflow."
   ]
  },
  {
   "cell_type": "markdown",
   "metadata": {
    "id": "yR0EdgrLCaWR"
   },
   "source": [
    "## Importar el set de datos de moda de MNIST"
   ]
  },
  {
   "cell_type": "markdown",
   "metadata": {
    "id": "DLdCchMdCaWQ"
   },
   "source": [
    "Esta guia usa el set de datos de [Fashion MNIST](https://github.com/zalandoresearch/fashion-mnist)\n",
    "que contiene mas de 70,000 imagenes en 10 categorias. Las imagenes muestran articulos individuales de ropa a una resolucion baja (28 por 28 pixeles) como se ve aca:\n",
    "\n",
    "<table>\n",
    "  <tr><td>\n",
    "    <img src=\"https://tensorflow.org/images/fashion-mnist-sprite.png\"\n",
    "         alt=\"Fashion MNIST sprite\"  width=\"600\">\n",
    "  </td></tr>\n",
    "  <tr><td align=\"center\">\n",
    "    <b>Figure 1.</b> <a href=\"https://github.com/zalandoresearch/fashion-mnist\">Fashion-MNIST samples</a> (by Zalando, MIT License).<br/>&nbsp;\n",
    "  </td></tr>\n",
    "</table>\n",
    "\n",
    "Para importar y cargar el set de datos de MNIST directamente de TensorFlow:"
   ]
  },
  {
   "cell_type": "code",
   "execution_count": 1,
   "metadata": {},
   "outputs": [],
   "source": [
    "import numpy as np\n",
    "import pandas as pd\n",
    "import matplotlib.pyplot as plt\n",
    "import seaborn as sns\n",
    "from tensorflow import keras"
   ]
  },
  {
   "cell_type": "code",
   "execution_count": 2,
   "metadata": {},
   "outputs": [],
   "source": [
    "fashion_mnist = keras.datasets.fashion_mnist"
   ]
  },
  {
   "cell_type": "code",
   "execution_count": 15,
   "metadata": {},
   "outputs": [
    {
     "data": {
      "text/plain": [
       "((array([[[0, 0, 0, ..., 0, 0, 0],\n",
       "          [0, 0, 0, ..., 0, 0, 0],\n",
       "          [0, 0, 0, ..., 0, 0, 0],\n",
       "          ...,\n",
       "          [0, 0, 0, ..., 0, 0, 0],\n",
       "          [0, 0, 0, ..., 0, 0, 0],\n",
       "          [0, 0, 0, ..., 0, 0, 0]],\n",
       "  \n",
       "         [[0, 0, 0, ..., 0, 0, 0],\n",
       "          [0, 0, 0, ..., 0, 0, 0],\n",
       "          [0, 0, 0, ..., 0, 0, 0],\n",
       "          ...,\n",
       "          [0, 0, 0, ..., 0, 0, 0],\n",
       "          [0, 0, 0, ..., 0, 0, 0],\n",
       "          [0, 0, 0, ..., 0, 0, 0]],\n",
       "  \n",
       "         [[0, 0, 0, ..., 0, 0, 0],\n",
       "          [0, 0, 0, ..., 0, 0, 0],\n",
       "          [0, 0, 0, ..., 0, 0, 0],\n",
       "          ...,\n",
       "          [0, 0, 0, ..., 0, 0, 0],\n",
       "          [0, 0, 0, ..., 0, 0, 0],\n",
       "          [0, 0, 0, ..., 0, 0, 0]],\n",
       "  \n",
       "         ...,\n",
       "  \n",
       "         [[0, 0, 0, ..., 0, 0, 0],\n",
       "          [0, 0, 0, ..., 0, 0, 0],\n",
       "          [0, 0, 0, ..., 0, 0, 0],\n",
       "          ...,\n",
       "          [0, 0, 0, ..., 0, 0, 0],\n",
       "          [0, 0, 0, ..., 0, 0, 0],\n",
       "          [0, 0, 0, ..., 0, 0, 0]],\n",
       "  \n",
       "         [[0, 0, 0, ..., 0, 0, 0],\n",
       "          [0, 0, 0, ..., 0, 0, 0],\n",
       "          [0, 0, 0, ..., 0, 0, 0],\n",
       "          ...,\n",
       "          [0, 0, 0, ..., 0, 0, 0],\n",
       "          [0, 0, 0, ..., 0, 0, 0],\n",
       "          [0, 0, 0, ..., 0, 0, 0]],\n",
       "  \n",
       "         [[0, 0, 0, ..., 0, 0, 0],\n",
       "          [0, 0, 0, ..., 0, 0, 0],\n",
       "          [0, 0, 0, ..., 0, 0, 0],\n",
       "          ...,\n",
       "          [0, 0, 0, ..., 0, 0, 0],\n",
       "          [0, 0, 0, ..., 0, 0, 0],\n",
       "          [0, 0, 0, ..., 0, 0, 0]]], dtype=uint8),\n",
       "  array([9, 0, 0, ..., 3, 0, 5], dtype=uint8)),\n",
       " (array([[[0, 0, 0, ..., 0, 0, 0],\n",
       "          [0, 0, 0, ..., 0, 0, 0],\n",
       "          [0, 0, 0, ..., 0, 0, 0],\n",
       "          ...,\n",
       "          [0, 0, 0, ..., 0, 0, 0],\n",
       "          [0, 0, 0, ..., 0, 0, 0],\n",
       "          [0, 0, 0, ..., 0, 0, 0]],\n",
       "  \n",
       "         [[0, 0, 0, ..., 0, 0, 0],\n",
       "          [0, 0, 0, ..., 0, 0, 0],\n",
       "          [0, 0, 0, ..., 0, 0, 0],\n",
       "          ...,\n",
       "          [0, 0, 0, ..., 0, 0, 0],\n",
       "          [0, 0, 0, ..., 0, 0, 0],\n",
       "          [0, 0, 0, ..., 0, 0, 0]],\n",
       "  \n",
       "         [[0, 0, 0, ..., 0, 0, 0],\n",
       "          [0, 0, 0, ..., 0, 0, 0],\n",
       "          [0, 0, 0, ..., 0, 0, 0],\n",
       "          ...,\n",
       "          [0, 0, 0, ..., 0, 0, 0],\n",
       "          [0, 0, 0, ..., 0, 0, 0],\n",
       "          [0, 0, 0, ..., 0, 0, 0]],\n",
       "  \n",
       "         ...,\n",
       "  \n",
       "         [[0, 0, 0, ..., 0, 0, 0],\n",
       "          [0, 0, 0, ..., 0, 0, 0],\n",
       "          [0, 0, 0, ..., 0, 0, 0],\n",
       "          ...,\n",
       "          [0, 0, 0, ..., 0, 0, 0],\n",
       "          [0, 0, 0, ..., 0, 0, 0],\n",
       "          [0, 0, 0, ..., 0, 0, 0]],\n",
       "  \n",
       "         [[0, 0, 0, ..., 0, 0, 0],\n",
       "          [0, 0, 0, ..., 0, 0, 0],\n",
       "          [0, 0, 0, ..., 0, 0, 0],\n",
       "          ...,\n",
       "          [0, 0, 0, ..., 0, 0, 0],\n",
       "          [0, 0, 0, ..., 0, 0, 0],\n",
       "          [0, 0, 0, ..., 0, 0, 0]],\n",
       "  \n",
       "         [[0, 0, 0, ..., 0, 0, 0],\n",
       "          [0, 0, 0, ..., 0, 0, 0],\n",
       "          [0, 0, 0, ..., 0, 0, 0],\n",
       "          ...,\n",
       "          [0, 0, 0, ..., 0, 0, 0],\n",
       "          [0, 0, 0, ..., 0, 0, 0],\n",
       "          [0, 0, 0, ..., 0, 0, 0]]], dtype=uint8),\n",
       "  array([9, 2, 1, ..., 8, 1, 5], dtype=uint8)))"
      ]
     },
     "execution_count": 15,
     "metadata": {},
     "output_type": "execute_result"
    }
   ],
   "source": [
    "fashion_mnist.load_data()"
   ]
  },
  {
   "cell_type": "code",
   "execution_count": 16,
   "metadata": {},
   "outputs": [],
   "source": [
    "(X_train, y_train), (X_test, y_test) = fashion_mnist.load_data()"
   ]
  },
  {
   "cell_type": "code",
   "execution_count": 17,
   "metadata": {},
   "outputs": [
    {
     "name": "stdout",
     "output_type": "stream",
     "text": [
      "(60000, 28, 28)\n",
      "(10000, 28, 28)\n",
      "(60000,)\n",
      "(10000,)\n"
     ]
    }
   ],
   "source": [
    "print(X_train.shape)\n",
    "print(X_test.shape)\n",
    "print(y_train.shape)\n",
    "print(y_test.shape)"
   ]
  },
  {
   "cell_type": "markdown",
   "metadata": {
    "id": "t9FDsUlxCaWW"
   },
   "source": [
    "La *class* de ropa que la imagen representa.\n",
    "\n",
    "<table>\n",
    "  <tr>\n",
    "    <th>Label</th>\n",
    "    <th>Class</th>\n",
    "  </tr>\n",
    "  <tr>\n",
    "    <td>0</td>\n",
    "    <td>T-shirt/top</td>\n",
    "  </tr>\n",
    "  <tr>\n",
    "    <td>1</td>\n",
    "    <td>Trouser</td>\n",
    "  </tr>\n",
    "    <tr>\n",
    "    <td>2</td>\n",
    "    <td>Pullover</td>\n",
    "  </tr>\n",
    "    <tr>\n",
    "    <td>3</td>\n",
    "    <td>Dress</td>\n",
    "  </tr>\n",
    "    <tr>\n",
    "    <td>4</td>\n",
    "    <td>Coat</td>\n",
    "  </tr>\n",
    "    <tr>\n",
    "    <td>5</td>\n",
    "    <td>Sandal</td>\n",
    "  </tr>\n",
    "    <tr>\n",
    "    <td>6</td>\n",
    "    <td>Shirt</td>\n",
    "  </tr>\n",
    "    <tr>\n",
    "    <td>7</td>\n",
    "    <td>Sneaker</td>\n",
    "  </tr>\n",
    "    <tr>\n",
    "    <td>8</td>\n",
    "    <td>Bag</td>\n",
    "  </tr>\n",
    "    <tr>\n",
    "    <td>9</td>\n",
    "    <td>Ankle boot</td>\n",
    "  </tr>\n",
    "</table>\n",
    "\n",
    "Cada imagen es mapeada a una unica etiqueta. Ya que los *Class names* no estan incluidos en el dataset. Los guardamos en la siguiente lista:"
   ]
  },
  {
   "cell_type": "code",
   "execution_count": 18,
   "metadata": {},
   "outputs": [
    {
     "data": {
      "text/plain": [
       "array([9, 2, 1, ..., 8, 1, 5], dtype=uint8)"
      ]
     },
     "execution_count": 18,
     "metadata": {},
     "output_type": "execute_result"
    }
   ],
   "source": [
    "y_test"
   ]
  },
  {
   "cell_type": "code",
   "execution_count": 47,
   "metadata": {
    "id": "IjnLH5S2CaWx"
   },
   "outputs": [],
   "source": [
    "class_names = ['T-shirt/top', 'Trouser', 'Pullover', 'Dress', 'Coat',\n",
    "               'Sandal', 'Shirt', 'Sneaker', 'Bag', 'Ankle boot']"
   ]
  },
  {
   "cell_type": "markdown",
   "metadata": {
    "id": "Brm0b_KACaWX"
   },
   "source": [
    "## Explore el set de datos\n",
    "\n",
    "* ¿Cuántas imagenes hay en train?\n",
    "* ¿Y en test?\n",
    "* ¿De cuántos pixels se compone cada imagen?\n",
    "* ¿Cuáles son los valores de los labels?"
   ]
  },
  {
   "cell_type": "code",
   "execution_count": 28,
   "metadata": {},
   "outputs": [
    {
     "name": "stdout",
     "output_type": "stream",
     "text": [
      "60000\n",
      "10000\n",
      "784\n",
      "784\n"
     ]
    }
   ],
   "source": [
    "print(X_train.shape[0])\n",
    "print(X_test.shape[0])\n",
    "print(X_train.shape[1] * X_train.shape[2])\n",
    "print(X_train[0].size)"
   ]
  },
  {
   "cell_type": "code",
   "execution_count": 31,
   "metadata": {},
   "outputs": [
    {
     "data": {
      "text/plain": [
       "9    6000\n",
       "0    6000\n",
       "3    6000\n",
       "2    6000\n",
       "7    6000\n",
       "5    6000\n",
       "1    6000\n",
       "6    6000\n",
       "4    6000\n",
       "8    6000\n",
       "dtype: int64"
      ]
     },
     "execution_count": 31,
     "metadata": {},
     "output_type": "execute_result"
    }
   ],
   "source": [
    "pd.Series(y_train).value_counts()"
   ]
  },
  {
   "cell_type": "markdown",
   "metadata": {
    "id": "ES6uQoLKCaWr"
   },
   "source": [
    "## Pre-procese el set de datos\n",
    "\n",
    "Inspecciona y representa la primera imagen del dataset de train. Para ello, utiliza la función `imshow` de matplotlib."
   ]
  },
  {
   "cell_type": "code",
   "execution_count": 39,
   "metadata": {},
   "outputs": [
    {
     "data": {
      "text/plain": [
       "2"
      ]
     },
     "execution_count": 39,
     "metadata": {},
     "output_type": "execute_result"
    }
   ],
   "source": [
    "X_train[0].ndim"
   ]
  },
  {
   "cell_type": "code",
   "execution_count": 38,
   "metadata": {},
   "outputs": [
    {
     "data": {
      "text/plain": [
       "<matplotlib.colorbar.Colorbar at 0x248400f5308>"
      ]
     },
     "execution_count": 38,
     "metadata": {},
     "output_type": "execute_result"
    },
    {
     "data": {
      "image/png": "[encoded data removed]",
      "text/plain": [
       "<Figure size 432x288 with 2 Axes>"
      ]
     },
     "metadata": {
      "needs_background": "light"
     },
     "output_type": "display_data"
    }
   ],
   "source": [
    "plt.imshow(X_train[0], cmap=\"binary\")\n",
    "plt.colorbar()"
   ]
  },
  {
   "cell_type": "markdown",
   "metadata": {
    "id": "Wz7l27Lz9S1P"
   },
   "source": [
    "Escala los conjuntos de train y test para que vayan del 0 al 1. No hace falta usar ninguna librería. Con realizar una división en cada conjunto será suficiente."
   ]
  },
  {
   "cell_type": "code",
   "execution_count": 41,
   "metadata": {},
   "outputs": [
    {
     "data": {
      "text/plain": [
       "0"
      ]
     },
     "execution_count": 41,
     "metadata": {},
     "output_type": "execute_result"
    }
   ],
   "source": [
    "X_train.min()"
   ]
  },
  {
   "cell_type": "code",
   "execution_count": 42,
   "metadata": {},
   "outputs": [],
   "source": [
    "X_train = X_train/255\n",
    "X_test = X_test/255"
   ]
  },
  {
   "cell_type": "code",
   "execution_count": 44,
   "metadata": {},
   "outputs": [
    {
     "data": {
      "text/plain": [
       "0.0"
      ]
     },
     "execution_count": 44,
     "metadata": {},
     "output_type": "execute_result"
    }
   ],
   "source": [
    "X_train.min()"
   ]
  },
  {
   "cell_type": "markdown",
   "metadata": {
    "id": "Ee638AlnCaWz"
   },
   "source": [
    "Para verificar que el set de datos esta en el formato adecuado y que estan listos para construir y entrenar la red, vamos a desplegar las primeras 25 imagenes de el *training set* y despleguemos el nombre de cada clase debajo de cada imagen."
   ]
  },
  {
   "cell_type": "code",
   "execution_count": 48,
   "metadata": {},
   "outputs": [
    {
     "data": {
      "image/png": "[encoded data removed]",
      "text/plain": [
       "<Figure size 1080x1080 with 25 Axes>"
      ]
     },
     "metadata": {
      "needs_background": "light"
     },
     "output_type": "display_data"
    }
   ],
   "source": [
    "plt.figure(figsize=(15,15))\n",
    "for i in range(25):\n",
    "    plt.subplot(5,5, i+1)\n",
    "    plt.imshow(X_train[i], cmap='binary')\n",
    "    plt.xlabel(class_names[y_train[i]])"
   ]
  },
  {
   "cell_type": "markdown",
   "metadata": {
    "id": "59veuiEZCaW4"
   },
   "source": [
    "## Construir el Modelo\n",
    "\n",
    "Construir la red neuronal requiere configurar las capas del modelo y luego compilar el modelo."
   ]
  },
  {
   "cell_type": "markdown",
   "metadata": {
    "id": "Gxg1XGm0eOBy"
   },
   "source": [
    "### Configurar las Capas\n",
    "Construye todas las capas del modelo."
   ]
  },
  {
   "cell_type": "code",
   "execution_count": 49,
   "metadata": {},
   "outputs": [],
   "source": [
    "model = keras.Sequential([\n",
    "    keras.layers.Flatten(input_shape=(28,28)),\n",
    "    keras.layers.Dense(128, activation='relu'),\n",
    "    keras.layers.Dense(64, activation='relu'),\n",
    "    keras.layers.Dense(10, activation='softmax')\n",
    "])"
   ]
  },
  {
   "attachments": {},
   "cell_type": "markdown",
   "metadata": {
    "id": "gut8A_7rCaW6"
   },
   "source": [
    "### Compila el modelo\n",
    "\n",
    "Antes de que el modelo este listo para entrenar , se necesitan algunas configuraciones mas. Estas son agregadas durante el paso de compilacion del modelo:\n",
    "\n",
    "* *Loss function* —Esto mide que tan exacto es el modelo durante el entrenamiento. Quiere minimizar esta funcion para dirigir el modelo en la direccion adecuada.\n",
    "* *Optimizer* — Esto es cómo el modelo aprende basado en el set de datos que ve y la función de pérdida.\n",
    "* *Metrics* — Se usan para monitorear los pasos de entrenamiento y de pruebas.\n",
    "\n",
    "\n",
    "Como es un problema de clasificación multiclase, tendrás que usar `sparse_categorical_crossentropy` como función de coste. En cuanto a las métricas, usa simplemente `accuracy`."
   ]
  },
  {
   "cell_type": "code",
   "execution_count": 51,
   "metadata": {},
   "outputs": [],
   "source": [
    "model.compile(optimizer='sgd',\n",
    "            loss = 'sparse_categorical_crossentropy',\n",
    "            metrics = ['accuracy'])"
   ]
  },
  {
   "cell_type": "code",
   "execution_count": 52,
   "metadata": {},
   "outputs": [
    {
     "name": "stdout",
     "output_type": "stream",
     "text": [
      "Model: \"sequential\"\n",
      "_________________________________________________________________\n",
      " Layer (type)                Output Shape              Param #   \n",
      "=================================================================\n",
      " flatten (Flatten)           (None, 784)               0         \n",
      "                                                                 \n",
      " dense (Dense)               (None, 128)               100480    \n",
      "                                                                 \n",
      " dense_1 (Dense)             (None, 64)                8256      \n",
      "                                                                 \n",
      " dense_2 (Dense)             (None, 10)                650       \n",
      "                                                                 \n",
      "=================================================================\n",
      "Total params: 109,386\n",
      "Trainable params: 109,386\n",
      "Non-trainable params: 0\n",
      "_________________________________________________________________\n"
     ]
    }
   ],
   "source": [
    "model.summary()"
   ]
  },
  {
   "cell_type": "code",
   "execution_count": 54,
   "metadata": {},
   "outputs": [
    {
     "data": {
      "text/plain": [
       "100480"
      ]
     },
     "execution_count": 54,
     "metadata": {},
     "output_type": "execute_result"
    }
   ],
   "source": [
    "784 * 128 + 128"
   ]
  },
  {
   "cell_type": "code",
   "execution_count": 55,
   "metadata": {},
   "outputs": [
    {
     "data": {
      "text/plain": [
       "8256"
      ]
     },
     "execution_count": 55,
     "metadata": {},
     "output_type": "execute_result"
    }
   ],
   "source": [
    "128*64 + 64"
   ]
  },
  {
   "cell_type": "markdown",
   "metadata": {
    "id": "qKF6uW-BCaW-"
   },
   "source": [
    "## Entrenar el Modelo\n",
    "Empieza entrenándolo con 10 epochs. Prueba con más"
   ]
  },
  {
   "cell_type": "code",
   "execution_count": 58,
   "metadata": {},
   "outputs": [
    {
     "data": {
      "text/plain": [
       "1500.0"
      ]
     },
     "execution_count": 58,
     "metadata": {},
     "output_type": "execute_result"
    }
   ],
   "source": [
    "60000*0.8/32"
   ]
  },
  {
   "cell_type": "code",
   "execution_count": 59,
   "metadata": {},
   "outputs": [
    {
     "name": "stdout",
     "output_type": "stream",
     "text": [
      "Epoch 1/10\n",
      "1500/1500 [==============================] - 4s 2ms/step - loss: 0.7809 - accuracy: 0.7462 - val_loss: 0.5424 - val_accuracy: 0.8130\n",
      "Epoch 2/10\n",
      "1500/1500 [==============================] - 3s 2ms/step - loss: 0.5115 - accuracy: 0.8231 - val_loss: 0.4778 - val_accuracy: 0.8316\n",
      "Epoch 3/10\n",
      "1500/1500 [==============================] - 3s 2ms/step - loss: 0.4630 - accuracy: 0.8376 - val_loss: 0.4494 - val_accuracy: 0.8407\n",
      "Epoch 4/10\n",
      "1500/1500 [==============================] - 3s 2ms/step - loss: 0.4346 - accuracy: 0.8485 - val_loss: 0.4304 - val_accuracy: 0.8505\n",
      "Epoch 5/10\n",
      "1500/1500 [==============================] - 3s 2ms/step - loss: 0.4138 - accuracy: 0.8554 - val_loss: 0.4525 - val_accuracy: 0.8345\n",
      "Epoch 6/10\n",
      "1500/1500 [==============================] - 3s 2ms/step - loss: 0.3978 - accuracy: 0.8605 - val_loss: 0.4074 - val_accuracy: 0.8556\n",
      "Epoch 7/10\n",
      "1500/1500 [==============================] - 3s 2ms/step - loss: 0.3835 - accuracy: 0.8662 - val_loss: 0.3923 - val_accuracy: 0.8627\n",
      "Epoch 8/10\n",
      "1500/1500 [==============================] - 3s 2ms/step - loss: 0.3727 - accuracy: 0.8696 - val_loss: 0.4023 - val_accuracy: 0.8571\n",
      "Epoch 9/10\n",
      "1500/1500 [==============================] - 3s 2ms/step - loss: 0.3627 - accuracy: 0.8724 - val_loss: 0.3766 - val_accuracy: 0.8677\n",
      "Epoch 10/10\n",
      "1500/1500 [==============================] - 3s 2ms/step - loss: 0.3552 - accuracy: 0.8747 - val_loss: 0.3751 - val_accuracy: 0.8719\n"
     ]
    }
   ],
   "source": [
    "history = model.fit(X_train, y_train, epochs=10, validation_split=0.2)"
   ]
  },
  {
   "cell_type": "code",
   "execution_count": 65,
   "metadata": {},
   "outputs": [
    {
     "data": {
      "text/plain": [
       "<AxesSubplot:>"
      ]
     },
     "execution_count": 65,
     "metadata": {},
     "output_type": "execute_result"
    },
    {
     "data": {
      "image/png": "[encoded data removed]",
      "text/plain": [
       "<Figure size 432x288 with 1 Axes>"
      ]
     },
     "metadata": {
      "needs_background": "light"
     },
     "output_type": "display_data"
    }
   ],
   "source": [
    "pd.DataFrame(history.history)['val_accuracy'].plot()"
   ]
  },
  {
   "cell_type": "code",
   "execution_count": 66,
   "metadata": {},
   "outputs": [
    {
     "name": "stdout",
     "output_type": "stream",
     "text": [
      "Epoch 1/20\n",
      "1500/1500 [==============================] - 3s 2ms/step - loss: 0.3454 - accuracy: 0.8781 - val_loss: 0.3692 - val_accuracy: 0.8710\n",
      "Epoch 2/20\n",
      "1500/1500 [==============================] - 3s 2ms/step - loss: 0.3399 - accuracy: 0.8786 - val_loss: 0.3721 - val_accuracy: 0.8703\n",
      "Epoch 3/20\n",
      "1500/1500 [==============================] - 3s 2ms/step - loss: 0.3324 - accuracy: 0.8808 - val_loss: 0.3567 - val_accuracy: 0.8758\n",
      "Epoch 4/20\n",
      "1500/1500 [==============================] - 3s 2ms/step - loss: 0.3259 - accuracy: 0.8835 - val_loss: 0.3637 - val_accuracy: 0.8735\n",
      "Epoch 5/20\n",
      "1500/1500 [==============================] - 3s 2ms/step - loss: 0.3196 - accuracy: 0.8862 - val_loss: 0.3463 - val_accuracy: 0.8785\n",
      "Epoch 6/20\n",
      "1500/1500 [==============================] - 3s 2ms/step - loss: 0.3138 - accuracy: 0.8882 - val_loss: 0.3461 - val_accuracy: 0.8781\n",
      "Epoch 7/20\n",
      "1500/1500 [==============================] - 3s 2ms/step - loss: 0.3084 - accuracy: 0.8884 - val_loss: 0.3445 - val_accuracy: 0.8801\n",
      "Epoch 8/20\n",
      "1500/1500 [==============================] - 3s 2ms/step - loss: 0.3024 - accuracy: 0.8913 - val_loss: 0.3567 - val_accuracy: 0.8748\n",
      "Epoch 9/20\n",
      "1500/1500 [==============================] - 3s 2ms/step - loss: 0.2979 - accuracy: 0.8926 - val_loss: 0.3544 - val_accuracy: 0.8745\n",
      "Epoch 10/20\n",
      "1500/1500 [==============================] - 3s 2ms/step - loss: 0.2948 - accuracy: 0.8947 - val_loss: 0.3413 - val_accuracy: 0.8769\n",
      "Epoch 11/20\n",
      "1500/1500 [==============================] - 3s 2ms/step - loss: 0.2890 - accuracy: 0.8952 - val_loss: 0.3389 - val_accuracy: 0.8801\n",
      "Epoch 12/20\n",
      "1500/1500 [==============================] - 3s 2ms/step - loss: 0.2850 - accuracy: 0.8961 - val_loss: 0.3326 - val_accuracy: 0.8819\n",
      "Epoch 13/20\n",
      "1500/1500 [==============================] - 3s 2ms/step - loss: 0.2803 - accuracy: 0.8995 - val_loss: 0.3502 - val_accuracy: 0.8742\n",
      "Epoch 14/20\n",
      "1500/1500 [==============================] - 3s 2ms/step - loss: 0.2750 - accuracy: 0.9011 - val_loss: 0.3413 - val_accuracy: 0.8764\n",
      "Epoch 15/20\n",
      "1500/1500 [==============================] - 3s 2ms/step - loss: 0.2720 - accuracy: 0.9022 - val_loss: 0.3303 - val_accuracy: 0.8836\n",
      "Epoch 16/20\n",
      "1500/1500 [==============================] - 3s 2ms/step - loss: 0.2684 - accuracy: 0.9027 - val_loss: 0.3285 - val_accuracy: 0.8834\n",
      "Epoch 17/20\n",
      "1500/1500 [==============================] - 3s 2ms/step - loss: 0.2648 - accuracy: 0.9049 - val_loss: 0.3290 - val_accuracy: 0.8843\n",
      "Epoch 18/20\n",
      "1500/1500 [==============================] - 3s 2ms/step - loss: 0.2606 - accuracy: 0.9061 - val_loss: 0.3374 - val_accuracy: 0.8789\n",
      "Epoch 19/20\n",
      "1500/1500 [==============================] - 4s 2ms/step - loss: 0.2577 - accuracy: 0.9081 - val_loss: 0.3278 - val_accuracy: 0.8832\n",
      "Epoch 20/20\n",
      "1500/1500 [==============================] - 3s 2ms/step - loss: 0.2536 - accuracy: 0.9092 - val_loss: 0.3247 - val_accuracy: 0.8853\n"
     ]
    }
   ],
   "source": [
    "history = model.fit(X_train, y_train, epochs=20, validation_split=0.2)"
   ]
  },
  {
   "cell_type": "code",
   "execution_count": 68,
   "metadata": {},
   "outputs": [
    {
     "data": {
      "text/plain": [
       "<AxesSubplot:>"
      ]
     },
     "execution_count": 68,
     "metadata": {},
     "output_type": "execute_result"
    },
    {
     "data": {
      "image/png": "[encoded data removed]",
      "text/plain": [
       "<Figure size 432x288 with 1 Axes>"
      ]
     },
     "metadata": {
      "needs_background": "light"
     },
     "output_type": "display_data"
    }
   ],
   "source": [
    "pd.DataFrame(history.history)['val_accuracy'].plot()"
   ]
  },
  {
   "cell_type": "markdown",
   "metadata": {
    "id": "oEw4bZgGCaXB"
   },
   "source": [
    "## Evaluar Accuracy\n",
    "Prueba el rendimiento del modelo con los datos de test"
   ]
  },
  {
   "cell_type": "code",
   "execution_count": 69,
   "metadata": {},
   "outputs": [
    {
     "name": "stdout",
     "output_type": "stream",
     "text": [
      "313/313 [==============================] - 1s 2ms/step - loss: 0.3401 - accuracy: 0.8772\n"
     ]
    },
    {
     "data": {
      "text/plain": [
       "[0.3400871455669403, 0.8772000074386597]"
      ]
     },
     "execution_count": 69,
     "metadata": {},
     "output_type": "execute_result"
    }
   ],
   "source": [
    "model.evaluate(X_test, y_test)"
   ]
  },
  {
   "cell_type": "markdown",
   "metadata": {
    "id": "xsoS7CPDCaXH"
   },
   "source": [
    "## Hacer predicciones\n",
    "\n",
    "Con el modelo entrenado puedes usarlo para hacer predicciones sobre imagenes."
   ]
  },
  {
   "cell_type": "code",
   "execution_count": 73,
   "metadata": {},
   "outputs": [
    {
     "data": {
      "text/plain": [
       "array([1.5619607e-05, 9.2929815e-07, 4.4787110e-05, 3.0710548e-06,\n",
       "       5.8946457e-06, 8.5571045e-03, 2.8847100e-05, 2.5688777e-02,\n",
       "       4.3840145e-04, 9.6521664e-01], dtype=float32)"
      ]
     },
     "execution_count": 73,
     "metadata": {},
     "output_type": "execute_result"
    }
   ],
   "source": [
    "y_pred = model.predict(X_test)\n",
    "y_pred[0]"
   ]
  },
  {
   "cell_type": "code",
   "execution_count": 76,
   "metadata": {},
   "outputs": [
    {
     "data": {
      "text/plain": [
       "<matplotlib.image.AxesImage at 0x2485b0c2648>"
      ]
     },
     "execution_count": 76,
     "metadata": {},
     "output_type": "execute_result"
    },
    {
     "data": {
      "image/png": "[encoded data removed]",
      "text/plain": [
       "<Figure size 432x288 with 1 Axes>"
      ]
     },
     "metadata": {
      "needs_background": "light"
     },
     "output_type": "display_data"
    }
   ],
   "source": [
    "plt.imshow(X_test[0], cmap=\"binary\")"
   ]
  },
  {
   "cell_type": "markdown",
   "metadata": {
    "id": "x9Kk1voUCaXJ"
   },
   "source": [
    "El modelo ha predecido la etiqueta para cada imagen en el set de datos de *test* (prueba). Miremos la primera prediccion:"
   ]
  },
  {
   "cell_type": "code",
   "execution_count": 85,
   "metadata": {},
   "outputs": [
    {
     "data": {
      "text/plain": [
       "array([1.5619607e-05, 9.2929815e-07, 4.4787110e-05, 3.0710548e-06,\n",
       "       5.8946457e-06, 8.5571045e-03, 2.8847100e-05, 2.5688777e-02,\n",
       "       4.3840145e-04, 9.6521664e-01], dtype=float32)"
      ]
     },
     "execution_count": 85,
     "metadata": {},
     "output_type": "execute_result"
    }
   ],
   "source": [
    "y_pred[0]"
   ]
  },
  {
   "cell_type": "markdown",
   "metadata": {
    "id": "-hw1hgeSCaXN"
   },
   "source": [
    "*una* prediccion es un array de 10 numeros. Estos representan el nivel de \"confianza\" del modelo sobre las imagenes de cada uno de los 10 articulos de moda/ropa. Puedes revisar cual tiene el nivel mas alto de confianza:"
   ]
  },
  {
   "cell_type": "code",
   "execution_count": null,
   "metadata": {},
   "outputs": [],
   "source": [
    "print(\"Prediccion:\", class_names[np.argmax(y_pred[0])])\n",
    "print(\"Valor etiqueta:\", class_names[y_test[0]])"
   ]
  },
  {
   "attachments": {},
   "cell_type": "markdown",
   "metadata": {
    "id": "E51yS7iCCaXO"
   },
   "source": [
    "Entonces, el modelo tiene mayor confianza que esta imagen es un bota de tobillo \"ankle boot\" o `class_names[9]`. Examinando las etiquetas de *test* o de pruebas muestra que esta clasificación es correcta:"
   ]
  },
  {
   "cell_type": "code",
   "execution_count": 86,
   "metadata": {},
   "outputs": [
    {
     "data": {
      "text/plain": [
       "9"
      ]
     },
     "execution_count": 86,
     "metadata": {},
     "output_type": "execute_result"
    }
   ],
   "source": [
    "np.argmax(y_pred[0])"
   ]
  },
  {
   "cell_type": "code",
   "execution_count": 87,
   "metadata": {},
   "outputs": [
    {
     "data": {
      "text/plain": [
       "9"
      ]
     },
     "execution_count": 87,
     "metadata": {},
     "output_type": "execute_result"
    }
   ],
   "source": [
    "y_test[0]"
   ]
  },
  {
   "cell_type": "markdown",
   "metadata": {
    "id": "ygh2yYC972ne"
   },
   "source": [
    "**Grafica** esto para poder ver todo el set de la prediccion de las 10 clases."
   ]
  },
  {
   "cell_type": "code",
   "execution_count": 88,
   "metadata": {},
   "outputs": [],
   "source": [
    "def plot_image(i, predictions_array, true_label, img):\n",
    "  predictions_array, true_label, img = predictions_array, true_label[i], img[i]\n",
    "  plt.grid(False)\n",
    "  plt.xticks([])\n",
    "  plt.yticks([])\n",
    "\n",
    "  plt.imshow(img, cmap=plt.cm.binary)\n",
    "\n",
    "  predicted_label = np.argmax(predictions_array)\n",
    "  if predicted_label == true_label:\n",
    "    color = 'blue'\n",
    "  else:\n",
    "    color = 'red'\n",
    "\n",
    "  plt.xlabel(\"{} {:2.0f}% ({})\".format(class_names[predicted_label],\n",
    "                                100*np.max(predictions_array),\n",
    "                                class_names[true_label]),\n",
    "                                color=color)\n",
    "\n",
    "def plot_value_array(i, predictions_array, true_label):\n",
    "  predictions_array, true_label = predictions_array, true_label[i]\n",
    "  plt.grid(False)\n",
    "  plt.xticks(range(10))\n",
    "  plt.yticks([])\n",
    "  thisplot = plt.bar(range(10), predictions_array, color=\"#777777\")\n",
    "  plt.ylim([0, 1])\n",
    "  predicted_label = np.argmax(predictions_array)\n",
    "\n",
    "  thisplot[predicted_label].set_color('red')\n",
    "  thisplot[true_label].set_color('blue')"
   ]
  },
  {
   "cell_type": "markdown",
   "metadata": {
    "id": "d4Ov9OFDMmOD"
   },
   "source": [
    "Miremos la imagen [0], sus predicciones y el array de predicciones. Las etiquetas de prediccion correctas estan en azul y las incorrectas estan en rojo. El numero entrega el porcentaje (sobre 100) para la etiqueta predecida."
   ]
  },
  {
   "cell_type": "code",
   "execution_count": 93,
   "metadata": {},
   "outputs": [
    {
     "data": {
      "image/png": "[encoded data removed]",
      "text/plain": [
       "<Figure size 720x360 with 2 Axes>"
      ]
     },
     "metadata": {
      "needs_background": "light"
     },
     "output_type": "display_data"
    }
   ],
   "source": [
    "i = 0\n",
    "plt.figure(figsize=(10,5))\n",
    "plt.subplot(1,2,1)\n",
    "plot_image(i, y_pred[i], y_test, X_test)\n",
    "plt.subplot(1,2,2)\n",
    "plot_value_array(i, y_pred[i], y_test)\n",
    "plt.show()"
   ]
  },
  {
   "cell_type": "code",
   "execution_count": 95,
   "metadata": {},
   "outputs": [
    {
     "data": {
      "text/plain": [
       "'Sneaker'"
      ]
     },
     "execution_count": 95,
     "metadata": {},
     "output_type": "execute_result"
    }
   ],
   "source": [
    "class_names[7]"
   ]
  },
  {
   "cell_type": "markdown",
   "metadata": {
    "id": "kgdvGD52CaXR"
   },
   "source": [
    "Vamos a graficar multiples imagenes con sus predicciones. Notese que el modelo puede estar equivocado aun cuando tiene mucha confianza."
   ]
  },
  {
   "cell_type": "code",
   "execution_count": 100,
   "metadata": {},
   "outputs": [
    {
     "data": {
      "image/png": "[encoded data removed]",
      "text/plain": [
       "<Figure size 1440x720 with 70 Axes>"
      ]
     },
     "metadata": {
      "needs_background": "light"
     },
     "output_type": "display_data"
    }
   ],
   "source": [
    "\n",
    "n_rows = 7\n",
    "n_cols = 5\n",
    "n_im = n_rows * n_cols\n",
    "plt.figure(figsize=(20,10))\n",
    "\n",
    "for i in range(n_im):\n",
    "    plt.subplot(n_rows, n_cols*2 , 2*i + 1)\n",
    "    plot_image(i, y_pred[i], y_test, X_test)\n",
    "    plt.subplot(n_rows, n_cols*2, 2*i + 2)\n",
    "    plot_value_array(i, y_pred[i], y_test)\n",
    "\n",
    "plt.show()"
   ]
  },
  {
   "attachments": {},
   "cell_type": "markdown",
   "metadata": {},
   "source": [
    "Evalúa tu modelo con una matriz de confusión e interprétala."
   ]
  },
  {
   "cell_type": "code",
   "execution_count": 107,
   "metadata": {},
   "outputs": [
    {
     "data": {
      "text/plain": [
       "[9,\n",
       " 2,\n",
       " 1,\n",
       " 1,\n",
       " 6,\n",
       " 1,\n",
       " 4,\n",
       " 6,\n",
       " 5,\n",
       " 7,\n",
       " 4,\n",
       " 5,\n",
       " 5,\n",
       " 3,\n",
       " 4,\n",
       " 1,\n",
       " 2,\n",
       " 2,\n",
       " 8,\n",
       " 0,\n",
       " 2,\n",
       " 5,\n",
       " 7,\n",
       " 5,\n",
       " 1,\n",
       " 2,\n",
       " 6,\n",
       " 0,\n",
       " 9,\n",
       " 6,\n",
       " 8,\n",
       " 8,\n",
       " 3,\n",
       " 3,\n",
       " 8,\n",
       " 0,\n",
       " 7,\n",
       " 5,\n",
       " 7,\n",
       " 9,\n",
       " 0,\n",
       " 1,\n",
       " 6,\n",
       " 7,\n",
       " 6,\n",
       " 7,\n",
       " 2,\n",
       " 1,\n",
       " 2,\n",
       " 6,\n",
       " 4,\n",
       " 2,\n",
       " 5,\n",
       " 8,\n",
       " 2,\n",
       " 2,\n",
       " 8,\n",
       " 6,\n",
       " 8,\n",
       " 0,\n",
       " 7,\n",
       " 7,\n",
       " 8,\n",
       " 5,\n",
       " 1,\n",
       " 1,\n",
       " 3,\n",
       " 4,\n",
       " 7,\n",
       " 8,\n",
       " 7,\n",
       " 0,\n",
       " 2,\n",
       " 6,\n",
       " 2,\n",
       " 3,\n",
       " 1,\n",
       " 2,\n",
       " 8,\n",
       " 4,\n",
       " 1,\n",
       " 8,\n",
       " 5,\n",
       " 9,\n",
       " 5,\n",
       " 0,\n",
       " 3,\n",
       " 2,\n",
       " 0,\n",
       " 2,\n",
       " 5,\n",
       " 3,\n",
       " 6,\n",
       " 7,\n",
       " 1,\n",
       " 8,\n",
       " 0,\n",
       " 1,\n",
       " 4,\n",
       " 2,\n",
       " 3,\n",
       " 6,\n",
       " 7,\n",
       " 6,\n",
       " 7,\n",
       " 8,\n",
       " 5,\n",
       " 5,\n",
       " 9,\n",
       " 4,\n",
       " 2,\n",
       " 5,\n",
       " 7,\n",
       " 0,\n",
       " 5,\n",
       " 2,\n",
       " 8,\n",
       " 6,\n",
       " 7,\n",
       " 8,\n",
       " 0,\n",
       " 0,\n",
       " 9,\n",
       " 9,\n",
       " 3,\n",
       " 0,\n",
       " 8,\n",
       " 2,\n",
       " 1,\n",
       " 5,\n",
       " 4,\n",
       " 1,\n",
       " 9,\n",
       " 1,\n",
       " 8,\n",
       " 4,\n",
       " 6,\n",
       " 1,\n",
       " 2,\n",
       " 5,\n",
       " 1,\n",
       " 0,\n",
       " 0,\n",
       " 0,\n",
       " 1,\n",
       " 6,\n",
       " 1,\n",
       " 3,\n",
       " 2,\n",
       " 2,\n",
       " 3,\n",
       " 2,\n",
       " 1,\n",
       " 3,\n",
       " 5,\n",
       " 6,\n",
       " 4,\n",
       " 7,\n",
       " 9,\n",
       " 3,\n",
       " 7,\n",
       " 2,\n",
       " 3,\n",
       " 9,\n",
       " 0,\n",
       " 9,\n",
       " 4,\n",
       " 7,\n",
       " 4,\n",
       " 2,\n",
       " 0,\n",
       " 5,\n",
       " 6,\n",
       " 1,\n",
       " 2,\n",
       " 1,\n",
       " 3,\n",
       " 0,\n",
       " 9,\n",
       " 1,\n",
       " 0,\n",
       " 9,\n",
       " 3,\n",
       " 6,\n",
       " 7,\n",
       " 9,\n",
       " 9,\n",
       " 4,\n",
       " 4,\n",
       " 7,\n",
       " 1,\n",
       " 2,\n",
       " 3,\n",
       " 6,\n",
       " 3,\n",
       " 2,\n",
       " 8,\n",
       " 3,\n",
       " 6,\n",
       " 1,\n",
       " 1,\n",
       " 0,\n",
       " 2,\n",
       " 9,\n",
       " 2,\n",
       " 4,\n",
       " 0,\n",
       " 7,\n",
       " 9,\n",
       " 8,\n",
       " 4,\n",
       " 1,\n",
       " 8,\n",
       " 4,\n",
       " 1,\n",
       " 3,\n",
       " 1,\n",
       " 6,\n",
       " 7,\n",
       " 2,\n",
       " 8,\n",
       " 5,\n",
       " 3,\n",
       " 0,\n",
       " 7,\n",
       " 7,\n",
       " 6,\n",
       " 6,\n",
       " 7,\n",
       " 0,\n",
       " 7,\n",
       " 8,\n",
       " 9,\n",
       " 2,\n",
       " 9,\n",
       " 0,\n",
       " 5,\n",
       " 1,\n",
       " 4,\n",
       " 2,\n",
       " 5,\n",
       " 4,\n",
       " 9,\n",
       " 2,\n",
       " 2,\n",
       " 8,\n",
       " 6,\n",
       " 4,\n",
       " 2,\n",
       " 4,\n",
       " 9,\n",
       " 7,\n",
       " 6,\n",
       " 5,\n",
       " 5,\n",
       " 4,\n",
       " 8,\n",
       " 5,\n",
       " 2,\n",
       " 3,\n",
       " 0,\n",
       " 4,\n",
       " 8,\n",
       " 0,\n",
       " 0,\n",
       " 6,\n",
       " 3,\n",
       " 8,\n",
       " 9,\n",
       " 6,\n",
       " 1,\n",
       " 6,\n",
       " 0,\n",
       " 2,\n",
       " 3,\n",
       " 0,\n",
       " 8,\n",
       " 3,\n",
       " 7,\n",
       " 4,\n",
       " 0,\n",
       " 1,\n",
       " 2,\n",
       " 3,\n",
       " 0,\n",
       " 6,\n",
       " 6,\n",
       " 7,\n",
       " 5,\n",
       " 4,\n",
       " 5,\n",
       " 9,\n",
       " 5,\n",
       " 6,\n",
       " 5,\n",
       " 5,\n",
       " 1,\n",
       " 9,\n",
       " 8,\n",
       " 3,\n",
       " 3,\n",
       " 3,\n",
       " 6,\n",
       " 8,\n",
       " 0,\n",
       " 0,\n",
       " 2,\n",
       " 9,\n",
       " 7,\n",
       " 7,\n",
       " 1,\n",
       " 3,\n",
       " 6,\n",
       " 4,\n",
       " 6,\n",
       " 4,\n",
       " 7,\n",
       " 1,\n",
       " 6,\n",
       " 4,\n",
       " 2,\n",
       " 2,\n",
       " 6,\n",
       " 5,\n",
       " 6,\n",
       " 2,\n",
       " 7,\n",
       " 7,\n",
       " 7,\n",
       " 3,\n",
       " 3,\n",
       " 7,\n",
       " 6,\n",
       " 7,\n",
       " 1,\n",
       " 3,\n",
       " 7,\n",
       " 2,\n",
       " 2,\n",
       " 3,\n",
       " 4,\n",
       " 0,\n",
       " 3,\n",
       " 1,\n",
       " 6,\n",
       " 1,\n",
       " 9,\n",
       " 4,\n",
       " 9,\n",
       " 9,\n",
       " 1,\n",
       " 7,\n",
       " 8,\n",
       " 3,\n",
       " 6,\n",
       " 0,\n",
       " 2,\n",
       " 4,\n",
       " 8,\n",
       " 6,\n",
       " 1,\n",
       " 6,\n",
       " 2,\n",
       " 4,\n",
       " 4,\n",
       " 7,\n",
       " 3,\n",
       " 4,\n",
       " 6,\n",
       " 5,\n",
       " 0,\n",
       " 7,\n",
       " 9,\n",
       " 4,\n",
       " 6,\n",
       " 9,\n",
       " 3,\n",
       " 9,\n",
       " 3,\n",
       " 6,\n",
       " 5,\n",
       " 6,\n",
       " 0,\n",
       " 3,\n",
       " 5,\n",
       " 8,\n",
       " 1,\n",
       " 6,\n",
       " 2,\n",
       " 6,\n",
       " 6,\n",
       " 4,\n",
       " 9,\n",
       " 5,\n",
       " 2,\n",
       " 0,\n",
       " 6,\n",
       " 6,\n",
       " 1,\n",
       " 2,\n",
       " 0,\n",
       " 9,\n",
       " 7,\n",
       " 0,\n",
       " 4,\n",
       " 4,\n",
       " 2,\n",
       " 6,\n",
       " 2,\n",
       " 3,\n",
       " 6,\n",
       " 6,\n",
       " 7,\n",
       " 0,\n",
       " 9,\n",
       " 4,\n",
       " 2,\n",
       " 1,\n",
       " 5,\n",
       " 4,\n",
       " 5,\n",
       " 3,\n",
       " 8,\n",
       " 5,\n",
       " 8,\n",
       " 4,\n",
       " 4,\n",
       " 8,\n",
       " 9,\n",
       " 8,\n",
       " 6,\n",
       " 2,\n",
       " 4,\n",
       " 4,\n",
       " 2,\n",
       " 4,\n",
       " 1,\n",
       " 6,\n",
       " 1,\n",
       " 3,\n",
       " 0,\n",
       " 7,\n",
       " 8,\n",
       " 8,\n",
       " 4,\n",
       " 5,\n",
       " 3,\n",
       " 1,\n",
       " 9,\n",
       " 5,\n",
       " 3,\n",
       " 3,\n",
       " 0,\n",
       " 1,\n",
       " 2,\n",
       " 2,\n",
       " 9,\n",
       " 4,\n",
       " 0,\n",
       " 6,\n",
       " 1,\n",
       " 4,\n",
       " 2,\n",
       " 0,\n",
       " 0,\n",
       " 3,\n",
       " 3,\n",
       " 8,\n",
       " 2,\n",
       " 8,\n",
       " 9,\n",
       " 4,\n",
       " 0,\n",
       " 7,\n",
       " 0,\n",
       " 4,\n",
       " 6,\n",
       " 9,\n",
       " 2,\n",
       " 9,\n",
       " 5,\n",
       " 9,\n",
       " 3,\n",
       " 7,\n",
       " 5,\n",
       " 7,\n",
       " 8,\n",
       " 1,\n",
       " 0,\n",
       " 0,\n",
       " 2,\n",
       " 4,\n",
       " 8,\n",
       " 9,\n",
       " 7,\n",
       " 9,\n",
       " 1,\n",
       " 2,\n",
       " 7,\n",
       " 0,\n",
       " 2,\n",
       " 0,\n",
       " 5,\n",
       " 7,\n",
       " 1,\n",
       " 8,\n",
       " 2,\n",
       " 2,\n",
       " 2,\n",
       " 2,\n",
       " 4,\n",
       " 2,\n",
       " 6,\n",
       " 1,\n",
       " 9,\n",
       " 8,\n",
       " 5,\n",
       " 1,\n",
       " 9,\n",
       " 1,\n",
       " 2,\n",
       " 8,\n",
       " 3,\n",
       " 8,\n",
       " 9,\n",
       " 2,\n",
       " 6,\n",
       " 2,\n",
       " 8,\n",
       " 0,\n",
       " 2,\n",
       " 5,\n",
       " 5,\n",
       " 8,\n",
       " 8,\n",
       " 5,\n",
       " 3,\n",
       " 9,\n",
       " 4,\n",
       " 3,\n",
       " 4,\n",
       " 4,\n",
       " 5,\n",
       " 1,\n",
       " 3,\n",
       " 1,\n",
       " 2,\n",
       " 0,\n",
       " 4,\n",
       " 9,\n",
       " 6,\n",
       " 1,\n",
       " 5,\n",
       " 1,\n",
       " 1,\n",
       " 1,\n",
       " 9,\n",
       " 3,\n",
       " 4,\n",
       " 5,\n",
       " 3,\n",
       " 6,\n",
       " 2,\n",
       " 0,\n",
       " 4,\n",
       " 0,\n",
       " 0,\n",
       " 5,\n",
       " 8,\n",
       " 6,\n",
       " 3,\n",
       " 4,\n",
       " 0,\n",
       " 7,\n",
       " 7,\n",
       " 8,\n",
       " 9,\n",
       " 6,\n",
       " 3,\n",
       " 8,\n",
       " 7,\n",
       " 6,\n",
       " 7,\n",
       " 9,\n",
       " 3,\n",
       " 4,\n",
       " 0,\n",
       " 6,\n",
       " 5,\n",
       " 8,\n",
       " 1,\n",
       " 1,\n",
       " 5,\n",
       " 9,\n",
       " 4,\n",
       " 2,\n",
       " 5,\n",
       " 7,\n",
       " 8,\n",
       " 1,\n",
       " 2,\n",
       " 9,\n",
       " 7,\n",
       " 7,\n",
       " 1,\n",
       " 0,\n",
       " 9,\n",
       " 3,\n",
       " 2,\n",
       " 9,\n",
       " 0,\n",
       " 7,\n",
       " 6,\n",
       " 8,\n",
       " 2,\n",
       " 7,\n",
       " 0,\n",
       " 2,\n",
       " 3,\n",
       " 8,\n",
       " 2,\n",
       " 2,\n",
       " 6,\n",
       " 9,\n",
       " 3,\n",
       " 0,\n",
       " 7,\n",
       " 8,\n",
       " 6,\n",
       " 2,\n",
       " 9,\n",
       " 4,\n",
       " 2,\n",
       " 6,\n",
       " 6,\n",
       " 8,\n",
       " 0,\n",
       " 4,\n",
       " 4,\n",
       " 2,\n",
       " 7,\n",
       " 5,\n",
       " 8,\n",
       " 4,\n",
       " 9,\n",
       " 1,\n",
       " 0,\n",
       " 5,\n",
       " 4,\n",
       " 4,\n",
       " 4,\n",
       " 0,\n",
       " 0,\n",
       " 4,\n",
       " 5,\n",
       " 6,\n",
       " 0,\n",
       " 4,\n",
       " 5,\n",
       " 4,\n",
       " 1,\n",
       " 3,\n",
       " 1,\n",
       " 3,\n",
       " 6,\n",
       " 4,\n",
       " 3,\n",
       " 8,\n",
       " 2,\n",
       " 0,\n",
       " 6,\n",
       " 5,\n",
       " 0,\n",
       " 4,\n",
       " 0,\n",
       " 8,\n",
       " 5,\n",
       " 0,\n",
       " 8,\n",
       " 2,\n",
       " 9,\n",
       " 6,\n",
       " 8,\n",
       " 9,\n",
       " 6,\n",
       " 4,\n",
       " 2,\n",
       " 9,\n",
       " 2,\n",
       " 2,\n",
       " 5,\n",
       " 0,\n",
       " 9,\n",
       " 5,\n",
       " 3,\n",
       " 6,\n",
       " 6,\n",
       " 6,\n",
       " 3,\n",
       " 3,\n",
       " 8,\n",
       " 3,\n",
       " 4,\n",
       " 0,\n",
       " 9,\n",
       " 7,\n",
       " 9,\n",
       " 4,\n",
       " 8,\n",
       " 9,\n",
       " 1,\n",
       " 3,\n",
       " 7,\n",
       " 3,\n",
       " 0,\n",
       " 2,\n",
       " 6,\n",
       " 7,\n",
       " 1,\n",
       " 0,\n",
       " 0,\n",
       " 8,\n",
       " 7,\n",
       " 2,\n",
       " 6,\n",
       " 4,\n",
       " 6,\n",
       " 4,\n",
       " 1,\n",
       " 5,\n",
       " 9,\n",
       " 0,\n",
       " 0,\n",
       " 1,\n",
       " 6,\n",
       " 5,\n",
       " 0,\n",
       " 3,\n",
       " 3,\n",
       " 3,\n",
       " 3,\n",
       " 8,\n",
       " 1,\n",
       " 1,\n",
       " 8,\n",
       " 5,\n",
       " 7,\n",
       " 7,\n",
       " 8,\n",
       " 7,\n",
       " 2,\n",
       " 0,\n",
       " 7,\n",
       " 0,\n",
       " 8,\n",
       " 0,\n",
       " 9,\n",
       " 7,\n",
       " 6,\n",
       " 1,\n",
       " 6,\n",
       " 6,\n",
       " 4,\n",
       " 8,\n",
       " 0,\n",
       " 6,\n",
       " 3,\n",
       " 6,\n",
       " 8,\n",
       " 4,\n",
       " 0,\n",
       " 8,\n",
       " 9,\n",
       " 2,\n",
       " 4,\n",
       " 5,\n",
       " 9,\n",
       " 1,\n",
       " 4,\n",
       " 4,\n",
       " 9,\n",
       " 2,\n",
       " 1,\n",
       " 7,\n",
       " 9,\n",
       " 5,\n",
       " 8,\n",
       " 3,\n",
       " 7,\n",
       " 7,\n",
       " 1,\n",
       " 1,\n",
       " 1,\n",
       " 6,\n",
       " 9,\n",
       " 5,\n",
       " 3,\n",
       " 8,\n",
       " 4,\n",
       " 2,\n",
       " 9,\n",
       " 2,\n",
       " 8,\n",
       " 3,\n",
       " 2,\n",
       " 4,\n",
       " 4,\n",
       " 7,\n",
       " 1,\n",
       " 4,\n",
       " 9,\n",
       " 3,\n",
       " 5,\n",
       " 8,\n",
       " 5,\n",
       " 4,\n",
       " 7,\n",
       " 2,\n",
       " 8,\n",
       " 5,\n",
       " 9,\n",
       " 3,\n",
       " 3,\n",
       " 6,\n",
       " 7,\n",
       " 1,\n",
       " 7,\n",
       " 3,\n",
       " 5,\n",
       " 4,\n",
       " 6,\n",
       " 5,\n",
       " 8,\n",
       " 3,\n",
       " 7,\n",
       " 1,\n",
       " 2,\n",
       " 6,\n",
       " 1,\n",
       " 9,\n",
       " 8,\n",
       " 2,\n",
       " 7,\n",
       " 1,\n",
       " 3,\n",
       " 7,\n",
       " 5,\n",
       " 9,\n",
       " 9,\n",
       " 1,\n",
       " 8,\n",
       " 4,\n",
       " 5,\n",
       " 7,\n",
       " 1,\n",
       " 9,\n",
       " 8,\n",
       " 1,\n",
       " 0,\n",
       " 0,\n",
       " 2,\n",
       " 1,\n",
       " 7,\n",
       " 1,\n",
       " 1,\n",
       " 5,\n",
       " 7,\n",
       " 1,\n",
       " 5,\n",
       " 2,\n",
       " 2,\n",
       " 3,\n",
       " 3,\n",
       " 1,\n",
       " 1,\n",
       " 4,\n",
       " 9,\n",
       " 4,\n",
       " 3,\n",
       " 7,\n",
       " 7,\n",
       " 6,\n",
       " 8,\n",
       " 9,\n",
       " 9,\n",
       " 6,\n",
       " 1,\n",
       " 3,\n",
       " 4,\n",
       " 0,\n",
       " 3,\n",
       " 5,\n",
       " 9,\n",
       " 2,\n",
       " 0,\n",
       " 5,\n",
       " 5,\n",
       " 1,\n",
       " 5,\n",
       " 7,\n",
       " 8,\n",
       " 7,\n",
       " 7,\n",
       " 3,\n",
       " 6,\n",
       " 6,\n",
       " 0,\n",
       " 4,\n",
       " 0,\n",
       " 6,\n",
       " 6,\n",
       " 2,\n",
       " 5,\n",
       " 5,\n",
       " 1,\n",
       " 2,\n",
       " 0,\n",
       " 9,\n",
       " 3,\n",
       " 7,\n",
       " 8,\n",
       " 4,\n",
       " 8,\n",
       " 3,\n",
       " 4,\n",
       " 7,\n",
       " 6,\n",
       " 7,\n",
       " 4,\n",
       " 8,\n",
       " 6,\n",
       " 3,\n",
       " 4,\n",
       " 4,\n",
       " 3,\n",
       " 6,\n",
       " 9,\n",
       " 6,\n",
       " 6,\n",
       " 3,\n",
       " 9,\n",
       " 1,\n",
       " 8,\n",
       " 1,\n",
       " 7,\n",
       " 5,\n",
       " 5,\n",
       " 6,\n",
       " 0,\n",
       " 2,\n",
       " 1,\n",
       " 0,\n",
       " 5,\n",
       " 4,\n",
       " 0,\n",
       " 0,\n",
       " 6,\n",
       " 7,\n",
       " 5,\n",
       " 0,\n",
       " 2,\n",
       " 5,\n",
       " 9,\n",
       " 4,\n",
       " 8,\n",
       " 6,\n",
       " 6,\n",
       " 4,\n",
       " 6,\n",
       " 2,\n",
       " 9,\n",
       " 6,\n",
       " 7,\n",
       " 7,\n",
       " 1,\n",
       " 4,\n",
       " 4,\n",
       " 0,\n",
       " 5,\n",
       " 0,\n",
       " 9,\n",
       " 9,\n",
       " 8,\n",
       " 8,\n",
       " 3,\n",
       " 6,\n",
       " 2,\n",
       " 4,\n",
       " 6,\n",
       " 6,\n",
       " 3,\n",
       " 2,\n",
       " 3,\n",
       " 5,\n",
       " 4,\n",
       " 9,\n",
       " 3,\n",
       " 4,\n",
       " 7,\n",
       " 7,\n",
       " ...]"
      ]
     },
     "execution_count": 107,
     "metadata": {},
     "output_type": "execute_result"
    }
   ],
   "source": [
    "pred_labels = [np.argmax(y_pred[i]) for i in range(len(y_pred))]\n",
    "pred_labels"
   ]
  },
  {
   "cell_type": "code",
   "execution_count": 102,
   "metadata": {},
   "outputs": [
    {
     "data": {
      "text/plain": [
       "array([[1.56196074e-05, 9.29298153e-07, 4.47871098e-05, ...,\n",
       "        2.56887767e-02, 4.38401446e-04, 9.65216637e-01],\n",
       "       [2.41952748e-05, 1.38374201e-09, 9.88454580e-01, ...,\n",
       "        4.92583676e-13, 1.70571390e-09, 7.31162906e-13],\n",
       "       [2.85043752e-05, 9.99970555e-01, 6.28838279e-08, ...,\n",
       "        7.23555113e-12, 1.71237744e-08, 4.15408776e-14],\n",
       "       ...,\n",
       "       [1.45215238e-03, 9.39157587e-08, 9.75784787e-04, ...,\n",
       "        1.92575881e-05, 9.81600106e-01, 5.17752174e-10],\n",
       "       [1.46595012e-05, 9.99644041e-01, 9.67101755e-07, ...,\n",
       "        2.11647180e-08, 3.52364424e-07, 1.09201125e-07],\n",
       "       [2.34200306e-05, 3.51406470e-06, 5.30780817e-05, ...,\n",
       "        3.27382307e-03, 1.83986835e-04, 1.24362021e-04]], dtype=float32)"
      ]
     },
     "execution_count": 102,
     "metadata": {},
     "output_type": "execute_result"
    }
   ],
   "source": [
    "y_pred"
   ]
  },
  {
   "cell_type": "code",
   "execution_count": 108,
   "metadata": {},
   "outputs": [
    {
     "data": {
      "text/plain": [
       "array([[0.816, 0.001, 0.012, 0.039, 0.002, 0.002, 0.119, 0.   , 0.009,\n",
       "        0.   ],\n",
       "       [0.001, 0.964, 0.002, 0.028, 0.002, 0.   , 0.003, 0.   , 0.   ,\n",
       "        0.   ],\n",
       "       [0.014, 0.001, 0.776, 0.016, 0.111, 0.   , 0.08 , 0.   , 0.002,\n",
       "        0.   ],\n",
       "       [0.02 , 0.008, 0.012, 0.892, 0.031, 0.   , 0.033, 0.   , 0.004,\n",
       "        0.   ],\n",
       "       [0.   , 0.001, 0.088, 0.029, 0.806, 0.001, 0.073, 0.   , 0.002,\n",
       "        0.   ],\n",
       "       [0.   , 0.   , 0.   , 0.001, 0.   , 0.965, 0.   , 0.019, 0.002,\n",
       "        0.013],\n",
       "       [0.113, 0.001, 0.07 , 0.034, 0.066, 0.   , 0.707, 0.   , 0.009,\n",
       "        0.   ],\n",
       "       [0.   , 0.   , 0.   , 0.   , 0.   , 0.035, 0.   , 0.938, 0.   ,\n",
       "        0.027],\n",
       "       [0.007, 0.   , 0.004, 0.006, 0.006, 0.005, 0.013, 0.005, 0.954,\n",
       "        0.   ],\n",
       "       [0.   , 0.   , 0.   , 0.001, 0.   , 0.007, 0.001, 0.037, 0.   ,\n",
       "        0.954]])"
      ]
     },
     "execution_count": 108,
     "metadata": {},
     "output_type": "execute_result"
    }
   ],
   "source": [
    "from sklearn.metrics import confusion_matrix\n",
    "\n",
    "c_mat = confusion_matrix(y_test, pred_labels, normalize='true')\n",
    "c_mat"
   ]
  },
  {
   "cell_type": "code",
   "execution_count": 111,
   "metadata": {},
   "outputs": [
    {
     "data": {
      "text/plain": [
       "<AxesSubplot:>"
      ]
     },
     "execution_count": 111,
     "metadata": {},
     "output_type": "execute_result"
    },
    {
     "data": {
      "image/png": "[encoded data removed]",
      "text/plain": [
       "<Figure size 1080x720 with 2 Axes>"
      ]
     },
     "metadata": {
      "needs_background": "light"
     },
     "output_type": "display_data"
    }
   ],
   "source": [
    "plt.figure(figsize=(15,10))\n",
    "sns.heatmap(c_mat, annot=True, xticklabels=class_names, yticklabels=class_names)"
   ]
  },
  {
   "cell_type": "markdown",
   "metadata": {
    "id": "R32zteKHCaXT"
   },
   "source": [
    "Finalmente, usamos el modelo entrenado para hacer una prediccion sobre una unica imagen."
   ]
  },
  {
   "cell_type": "code",
   "execution_count": 112,
   "metadata": {},
   "outputs": [
    {
     "data": {
      "text/plain": [
       "'Ankle boot'"
      ]
     },
     "execution_count": 112,
     "metadata": {},
     "output_type": "execute_result"
    }
   ],
   "source": [
    "class_names[np.argmax(model.predict(X_test[0:1]))]"
   ]
  }
 ],
 "metadata": {
  "colab": {
   "collapsed_sections": [],
   "name": "classification.ipynb",
   "toc_visible": true
  },
  "kernelspec": {
   "display_name": "Python 3.7.4 64-bit",
   "language": "python",
   "name": "python3"
  },
  "language_info": {
   "codemirror_mode": {
    "name": "ipython",
    "version": 3
   },
   "file_extension": ".py",
   "mimetype": "text/x-python",
   "name": "python",
   "nbconvert_exporter": "python",
   "pygments_lexer": "ipython3",
   "version": "3.7.4"
  },
  "vscode": {
   "interpreter": {
    "hash": "90139cb9a825bf3d63f6f6704e828dbd1ff7edbd4d0c6e906a71235d6efc74af"
   }
  }
 },
 "nbformat": 4,
 "nbformat_minor": 4
}
