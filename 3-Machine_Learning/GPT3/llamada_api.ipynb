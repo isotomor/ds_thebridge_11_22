{
 "cells": [
  {
   "cell_type": "code",
   "execution_count": 17,
   "metadata": {},
   "outputs": [
    {
     "name": "stdout",
     "output_type": "stream",
     "text": [
      "\n",
      "![Sentimento de caras](https://www.dropbox.com/s/63maw7lzt0zjtni/sentiment-faces.png?dl=1)\n",
      "\n",
      "Número de neuronas en la primera capa: 16\n",
      "\n",
      "Número de neuronas en la segunda capa: 32\n",
      "\n",
      "Número de neuronas en la capa oculta: 64\n",
      "\n",
      "Número de neuronas en la capa de salida: 2\n",
      "\n",
      "\n",
      "```\n",
      "# Red neuronal convolucional con Keras\n",
      "# Para competición Kaggle: Caras de sentimiento\n",
      "\n",
      "from keras.models import Sequential\n",
      "from keras.layers import Conv2D, MaxPooling2D, Dense, Flatten\n",
      "\n",
      "model = Sequential()\n",
      "\n",
      "# Capa de entrada convolucional\n",
      "model.add(Conv2D(16, kernel_size=3, activation='relu', input_shape=(48, 48, 1)))\n",
      "\n",
      "# Capa de pooling\n",
      "model.add(MaxPooling2D(pool_size=2))\n",
      "\n",
      "# Segunda capa convolucional\n",
      "model.add(Conv2D(32, kernel_size=3, activation='relu'))\n",
      "\n",
      "# Segunda capa de pooling\n",
      "model.add(MaxPooling2D(pool_size=2))\n",
      "\n",
      "# Capa oculta\n",
      "model.add(Dense(64, activation='relu'))\n",
      "\n",
      "# Capa de salida\n",
      "model.add(Dense(2, activation='softmax'))\n",
      "\n",
      "# Compilar el modelo\n",
      "model.compile(loss='categorical_crossentropy', optimizer='adam', metrics=['accuracy'])\n",
      "\n",
      "# Ajustar el modelo al conjunto de datos\n",
      "model.fit(x_train, y_train, validation_data=(x_val, y_val), epochs=10, batch_size=64)\n",
      "```\n"
     ]
    }
   ],
   "source": [
    "import openai\n",
    "\n",
    "\n",
    "# inicializa la API con la clave\n",
    "try:\n",
    "    openai.api_key = open(\"api_key.txt\", \"r\").read()\n",
    "except:\n",
    "    print(\"No api_key.txt in the directory with your credentials\")\n",
    "\n",
    "# especifica el modelo y el prompt\n",
    "model_engine = \"text-davinci-002\"\n",
    "\n",
    "prompt = '''\n",
    "Escribe el código en python de una red neuronal con keras,\n",
    "con capas convolucionales, para una competi de kaggle de predicción de sentimientos de caras\n",
    "'''\n",
    "\n",
    "# llama a la API para generar texto\n",
    "response = openai.Completion.create(\n",
    "  engine=model_engine,\n",
    "  prompt=prompt,\n",
    "  max_tokens=700,\n",
    "  temperature=0.9\n",
    ")\n",
    "\n",
    "# muestra el texto generado en la respuesta\n",
    "print(response[\"choices\"][0][\"text\"])"
   ]
  }
 ],
 "metadata": {
  "kernelspec": {
   "display_name": "Python 3",
   "language": "python",
   "name": "python3"
  },
  "language_info": {
   "codemirror_mode": {
    "name": "ipython",
    "version": 3
   },
   "file_extension": ".py",
   "mimetype": "text/x-python",
   "name": "python",
   "nbconvert_exporter": "python",
   "pygments_lexer": "ipython3",
   "version": "3.7.4"
  },
  "orig_nbformat": 4,
  "vscode": {
   "interpreter": {
    "hash": "90139cb9a825bf3d63f6f6704e828dbd1ff7edbd4d0c6e906a71235d6efc74af"
   }
  }
 },
 "nbformat": 4,
 "nbformat_minor": 2
}
