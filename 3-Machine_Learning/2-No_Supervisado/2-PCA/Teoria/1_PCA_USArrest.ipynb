{
 "cells": [
  {
   "cell_type": "code",
   "execution_count": 1,
   "metadata": {},
   "outputs": [],
   "source": [
    "# Tratamiento de datos\n",
    "# ==============================================================================\n",
    "import numpy as np\n",
    "import pandas as pd\n",
    "import statsmodels.api as sm\n",
    "\n",
    "# Gráficos\n",
    "# ==============================================================================\n",
    "import matplotlib.pyplot as plt\n",
    "import matplotlib.font_manager\n",
    "from matplotlib import style\n",
    "style.use('ggplot') or plt.style.use('ggplot')\n",
    "\n",
    "# Preprocesado y modelado\n",
    "# ==============================================================================\n",
    "from sklearn.decomposition import PCA\n",
    "from sklearn.pipeline import make_pipeline\n",
    "from sklearn.preprocessing import StandardScaler\n",
    "from sklearn.preprocessing import scale\n",
    "\n",
    "# Configuración warnings\n",
    "# ==============================================================================\n",
    "import warnings\n",
    "warnings.filterwarnings('ignore')"
   ]
  },
  {
   "cell_type": "code",
   "execution_count": 2,
   "metadata": {},
   "outputs": [],
   "source": [
    "# Dataset\n",
    "USArrests = sm.datasets.get_rdataset(\"USArrests\", \"datasets\")\n",
    "datos = USArrests.data"
   ]
  },
  {
   "cell_type": "code",
   "execution_count": 3,
   "metadata": {},
   "outputs": [
    {
     "data": {
      "text/html": [
       "<div>\n",
       "<style scoped>\n",
       "    .dataframe tbody tr th:only-of-type {\n",
       "        vertical-align: middle;\n",
       "    }\n",
       "\n",
       "    .dataframe tbody tr th {\n",
       "        vertical-align: top;\n",
       "    }\n",
       "\n",
       "    .dataframe thead th {\n",
       "        text-align: right;\n",
       "    }\n",
       "</style>\n",
       "<table border=\"1\" class=\"dataframe\">\n",
       "  <thead>\n",
       "    <tr style=\"text-align: right;\">\n",
       "      <th></th>\n",
       "      <th>Murder</th>\n",
       "      <th>Assault</th>\n",
       "      <th>UrbanPop</th>\n",
       "      <th>Rape</th>\n",
       "    </tr>\n",
       "  </thead>\n",
       "  <tbody>\n",
       "    <tr>\n",
       "      <th>Alabama</th>\n",
       "      <td>13.2</td>\n",
       "      <td>236</td>\n",
       "      <td>58</td>\n",
       "      <td>21.2</td>\n",
       "    </tr>\n",
       "    <tr>\n",
       "      <th>Alaska</th>\n",
       "      <td>10.0</td>\n",
       "      <td>263</td>\n",
       "      <td>48</td>\n",
       "      <td>44.5</td>\n",
       "    </tr>\n",
       "    <tr>\n",
       "      <th>Arizona</th>\n",
       "      <td>8.1</td>\n",
       "      <td>294</td>\n",
       "      <td>80</td>\n",
       "      <td>31.0</td>\n",
       "    </tr>\n",
       "    <tr>\n",
       "      <th>Arkansas</th>\n",
       "      <td>8.8</td>\n",
       "      <td>190</td>\n",
       "      <td>50</td>\n",
       "      <td>19.5</td>\n",
       "    </tr>\n",
       "    <tr>\n",
       "      <th>California</th>\n",
       "      <td>9.0</td>\n",
       "      <td>276</td>\n",
       "      <td>91</td>\n",
       "      <td>40.6</td>\n",
       "    </tr>\n",
       "  </tbody>\n",
       "</table>\n",
       "</div>"
      ],
      "text/plain": [
       "            Murder  Assault  UrbanPop  Rape\n",
       "Alabama       13.2      236        58  21.2\n",
       "Alaska        10.0      263        48  44.5\n",
       "Arizona        8.1      294        80  31.0\n",
       "Arkansas       8.8      190        50  19.5\n",
       "California     9.0      276        91  40.6"
      ]
     },
     "execution_count": 3,
     "metadata": {},
     "output_type": "execute_result"
    }
   ],
   "source": [
    "datos.head()"
   ]
  },
  {
   "cell_type": "code",
   "execution_count": 4,
   "metadata": {},
   "outputs": [
    {
     "name": "stdout",
     "output_type": "stream",
     "text": [
      "<class 'pandas.core.frame.DataFrame'>\n",
      "Index: 50 entries, Alabama to Wyoming\n",
      "Data columns (total 4 columns):\n",
      " #   Column    Non-Null Count  Dtype  \n",
      "---  ------    --------------  -----  \n",
      " 0   Murder    50 non-null     float64\n",
      " 1   Assault   50 non-null     int64  \n",
      " 2   UrbanPop  50 non-null     int64  \n",
      " 3   Rape      50 non-null     float64\n",
      "dtypes: float64(2), int64(2)\n",
      "memory usage: 2.0+ KB\n"
     ]
    }
   ],
   "source": [
    "datos.info()"
   ]
  },
  {
   "cell_type": "code",
   "execution_count": 5,
   "metadata": {},
   "outputs": [
    {
     "name": "stdout",
     "output_type": "stream",
     "text": [
      "----------------------\n",
      "Media de cada variable\n",
      "----------------------\n"
     ]
    },
    {
     "data": {
      "text/plain": [
       "Murder        7.788\n",
       "Assault     170.760\n",
       "UrbanPop     65.540\n",
       "Rape         21.232\n",
       "dtype: float64"
      ]
     },
     "execution_count": 5,
     "metadata": {},
     "output_type": "execute_result"
    }
   ],
   "source": [
    "print('----------------------')\n",
    "print('Media de cada variable')\n",
    "print('----------------------')\n",
    "datos.mean(axis=0)"
   ]
  },
  {
   "cell_type": "code",
   "execution_count": 6,
   "metadata": {},
   "outputs": [
    {
     "name": "stdout",
     "output_type": "stream",
     "text": [
      "-------------------------\n",
      "Varianza de cada variable\n",
      "-------------------------\n"
     ]
    },
    {
     "data": {
      "text/plain": [
       "Murder        18.970465\n",
       "Assault     6945.165714\n",
       "UrbanPop     209.518776\n",
       "Rape          87.729159\n",
       "dtype: float64"
      ]
     },
     "execution_count": 6,
     "metadata": {},
     "output_type": "execute_result"
    }
   ],
   "source": [
    "print('-------------------------')\n",
    "print('Varianza de cada variable')\n",
    "print('-------------------------')\n",
    "datos.var(axis=0)"
   ]
  },
  {
   "cell_type": "code",
   "execution_count": 7,
   "metadata": {},
   "outputs": [
    {
     "data": {
      "text/html": [
       "<div>\n",
       "<style scoped>\n",
       "    .dataframe tbody tr th:only-of-type {\n",
       "        vertical-align: middle;\n",
       "    }\n",
       "\n",
       "    .dataframe tbody tr th {\n",
       "        vertical-align: top;\n",
       "    }\n",
       "\n",
       "    .dataframe thead th {\n",
       "        text-align: right;\n",
       "    }\n",
       "</style>\n",
       "<table border=\"1\" class=\"dataframe\">\n",
       "  <thead>\n",
       "    <tr style=\"text-align: right;\">\n",
       "      <th></th>\n",
       "      <th>Murder</th>\n",
       "      <th>Assault</th>\n",
       "      <th>UrbanPop</th>\n",
       "      <th>Rape</th>\n",
       "    </tr>\n",
       "  </thead>\n",
       "  <tbody>\n",
       "    <tr>\n",
       "      <th>count</th>\n",
       "      <td>50.00000</td>\n",
       "      <td>50.000000</td>\n",
       "      <td>50.000000</td>\n",
       "      <td>50.000000</td>\n",
       "    </tr>\n",
       "    <tr>\n",
       "      <th>mean</th>\n",
       "      <td>7.78800</td>\n",
       "      <td>170.760000</td>\n",
       "      <td>65.540000</td>\n",
       "      <td>21.232000</td>\n",
       "    </tr>\n",
       "    <tr>\n",
       "      <th>std</th>\n",
       "      <td>4.35551</td>\n",
       "      <td>83.337661</td>\n",
       "      <td>14.474763</td>\n",
       "      <td>9.366385</td>\n",
       "    </tr>\n",
       "    <tr>\n",
       "      <th>min</th>\n",
       "      <td>0.80000</td>\n",
       "      <td>45.000000</td>\n",
       "      <td>32.000000</td>\n",
       "      <td>7.300000</td>\n",
       "    </tr>\n",
       "    <tr>\n",
       "      <th>25%</th>\n",
       "      <td>4.07500</td>\n",
       "      <td>109.000000</td>\n",
       "      <td>54.500000</td>\n",
       "      <td>15.075000</td>\n",
       "    </tr>\n",
       "    <tr>\n",
       "      <th>50%</th>\n",
       "      <td>7.25000</td>\n",
       "      <td>159.000000</td>\n",
       "      <td>66.000000</td>\n",
       "      <td>20.100000</td>\n",
       "    </tr>\n",
       "    <tr>\n",
       "      <th>75%</th>\n",
       "      <td>11.25000</td>\n",
       "      <td>249.000000</td>\n",
       "      <td>77.750000</td>\n",
       "      <td>26.175000</td>\n",
       "    </tr>\n",
       "    <tr>\n",
       "      <th>max</th>\n",
       "      <td>17.40000</td>\n",
       "      <td>337.000000</td>\n",
       "      <td>91.000000</td>\n",
       "      <td>46.000000</td>\n",
       "    </tr>\n",
       "  </tbody>\n",
       "</table>\n",
       "</div>"
      ],
      "text/plain": [
       "         Murder     Assault   UrbanPop       Rape\n",
       "count  50.00000   50.000000  50.000000  50.000000\n",
       "mean    7.78800  170.760000  65.540000  21.232000\n",
       "std     4.35551   83.337661  14.474763   9.366385\n",
       "min     0.80000   45.000000  32.000000   7.300000\n",
       "25%     4.07500  109.000000  54.500000  15.075000\n",
       "50%     7.25000  159.000000  66.000000  20.100000\n",
       "75%    11.25000  249.000000  77.750000  26.175000\n",
       "max    17.40000  337.000000  91.000000  46.000000"
      ]
     },
     "execution_count": 7,
     "metadata": {},
     "output_type": "execute_result"
    }
   ],
   "source": [
    "datos.describe()"
   ]
  },
  {
   "cell_type": "markdown",
   "metadata": {},
   "source": [
    "Si no se estandarizan las variables para que tengan media cero y desviación estándar de uno antes de realizar el estudio PCA, la variable Assault, que tiene una media y dispersión muy superior al resto, dominará la mayoría de las componentes principales"
   ]
  },
  {
   "cell_type": "code",
   "execution_count": 8,
   "metadata": {},
   "outputs": [],
   "source": [
    "# Entrenamiento modelo PCA con escalado de los datos\n",
    "# ==============================================================================\n",
    "pca_pipe = make_pipeline(StandardScaler(), PCA(n_components=4))\n",
    "pca_pipe.fit(datos)\n",
    "\n",
    "modelo_pca = pca_pipe['pca']"
   ]
  },
  {
   "cell_type": "code",
   "execution_count": 9,
   "metadata": {},
   "outputs": [
    {
     "data": {
      "text/plain": [
       "PCA(n_components=4)"
      ]
     },
     "execution_count": 9,
     "metadata": {},
     "output_type": "execute_result"
    }
   ],
   "source": [
    "pca_pipe['pca']"
   ]
  },
  {
   "cell_type": "code",
   "execution_count": 10,
   "metadata": {},
   "outputs": [
    {
     "data": {
      "text/plain": [
       "array([[ 0.53589947,  0.58318363,  0.27819087,  0.54343209],\n",
       "       [ 0.41818087,  0.1879856 , -0.87280619, -0.16731864],\n",
       "       [-0.34123273, -0.26814843, -0.37801579,  0.81777791],\n",
       "       [ 0.6492278 , -0.74340748,  0.13387773,  0.08902432]])"
      ]
     },
     "execution_count": 10,
     "metadata": {},
     "output_type": "execute_result"
    }
   ],
   "source": [
    "modelo_pca.components_"
   ]
  },
  {
   "cell_type": "code",
   "execution_count": 11,
   "metadata": {
    "collapsed": true,
    "jupyter": {
     "outputs_hidden": true
    },
    "tags": []
   },
   "outputs": [
    {
     "data": {
      "text/html": [
       "<div>\n",
       "<style scoped>\n",
       "    .dataframe tbody tr th:only-of-type {\n",
       "        vertical-align: middle;\n",
       "    }\n",
       "\n",
       "    .dataframe tbody tr th {\n",
       "        vertical-align: top;\n",
       "    }\n",
       "\n",
       "    .dataframe thead th {\n",
       "        text-align: right;\n",
       "    }\n",
       "</style>\n",
       "<table border=\"1\" class=\"dataframe\">\n",
       "  <thead>\n",
       "    <tr style=\"text-align: right;\">\n",
       "      <th></th>\n",
       "      <th>Murder</th>\n",
       "      <th>Assault</th>\n",
       "      <th>UrbanPop</th>\n",
       "      <th>Rape</th>\n",
       "    </tr>\n",
       "  </thead>\n",
       "  <tbody>\n",
       "    <tr>\n",
       "      <th>PC1</th>\n",
       "      <td>0.535899</td>\n",
       "      <td>0.583184</td>\n",
       "      <td>0.278191</td>\n",
       "      <td>0.543432</td>\n",
       "    </tr>\n",
       "    <tr>\n",
       "      <th>PC2</th>\n",
       "      <td>0.418181</td>\n",
       "      <td>0.187986</td>\n",
       "      <td>-0.872806</td>\n",
       "      <td>-0.167319</td>\n",
       "    </tr>\n",
       "    <tr>\n",
       "      <th>PC3</th>\n",
       "      <td>-0.341233</td>\n",
       "      <td>-0.268148</td>\n",
       "      <td>-0.378016</td>\n",
       "      <td>0.817778</td>\n",
       "    </tr>\n",
       "    <tr>\n",
       "      <th>PC4</th>\n",
       "      <td>0.649228</td>\n",
       "      <td>-0.743407</td>\n",
       "      <td>0.133878</td>\n",
       "      <td>0.089024</td>\n",
       "    </tr>\n",
       "  </tbody>\n",
       "</table>\n",
       "</div>"
      ],
      "text/plain": [
       "       Murder   Assault  UrbanPop      Rape\n",
       "PC1  0.535899  0.583184  0.278191  0.543432\n",
       "PC2  0.418181  0.187986 -0.872806 -0.167319\n",
       "PC3 -0.341233 -0.268148 -0.378016  0.817778\n",
       "PC4  0.649228 -0.743407  0.133878  0.089024"
      ]
     },
     "execution_count": 11,
     "metadata": {},
     "output_type": "execute_result"
    }
   ],
   "source": [
    "# Se convierte el array a dataframe para añadir nombres a los ejes.\n",
    "pd.DataFrame(\n",
    "    data = modelo_pca.components_,\n",
    "    columns = datos.columns,\n",
    "    index = ['PC1', 'PC2', 'PC3', 'PC4']\n",
    ")"
   ]
  },
  {
   "cell_type": "markdown",
   "metadata": {},
   "source": [
    "Analizar con detalle el vector de loadings que forma cada componente puede ayudar a interpretar qué tipo de información recoge cada una de ellas. Por ejemplo, la primera componente es el resultado de la siguiente combinación lineal de las variables originales:\n",
    "\n",
    "y = a + b*x1 + c*x2 ...\n",
    "\n",
    "PC1= 0.535899 Murder+0.583184 Assault+0.278191 UrbanPop+0.543432 Rape"
   ]
  },
  {
   "cell_type": "markdown",
   "metadata": {},
   "source": [
    "La influencia de las variables en cada componente analizarse visualmente con un gráfico de tipo heatmap."
   ]
  },
  {
   "cell_type": "code",
   "execution_count": 12,
   "metadata": {},
   "outputs": [
    {
     "data": {
      "image/png": "[encoded data removed]",
      "text/plain": [
       "<Figure size 576x288 with 2 Axes>"
      ]
     },
     "metadata": {},
     "output_type": "display_data"
    }
   ],
   "source": [
    "# Heatmap componentes\n",
    "# ==============================================================================\n",
    "fig, ax = plt.subplots(nrows=1, ncols=1, figsize=(8, 4))\n",
    "componentes = modelo_pca.components_\n",
    "plt.imshow(componentes.T, cmap='seismic', aspect='auto')\n",
    "plt.yticks(range(len(datos.columns)), datos.columns)\n",
    "plt.xticks(range(len(datos.columns)), np.arange(modelo_pca.n_components_) + 1)\n",
    "plt.grid(False)\n",
    "plt.colorbar();"
   ]
  },
  {
   "cell_type": "code",
   "execution_count": 13,
   "metadata": {},
   "outputs": [
    {
     "data": {
      "text/plain": [
       "array([0.62006039, 0.24744129, 0.0891408 , 0.04335752])"
      ]
     },
     "execution_count": 13,
     "metadata": {},
     "output_type": "execute_result"
    }
   ],
   "source": [
    "modelo_pca.explained_variance_ratio_"
   ]
  },
  {
   "cell_type": "code",
   "execution_count": 14,
   "metadata": {},
   "outputs": [
    {
     "name": "stdout",
     "output_type": "stream",
     "text": [
      "----------------------------------------------------\n",
      "Porcentaje de varianza explicada por cada componente\n",
      "----------------------------------------------------\n"
     ]
    },
    {
     "data": {
      "image/png": "[encoded data removed]",
      "text/plain": [
       "<Figure size 432x288 with 1 Axes>"
      ]
     },
     "metadata": {},
     "output_type": "display_data"
    }
   ],
   "source": [
    "# Porcentaje de varianza explicada por cada componente\n",
    "# ==============================================================================\n",
    "print('----------------------------------------------------')\n",
    "print('Porcentaje de varianza explicada por cada componente')\n",
    "print('----------------------------------------------------')\n",
    "#### CODE ####\n",
    "\n",
    "fig, ax = plt.subplots(nrows=1, ncols=1, figsize=(6, 4))\n",
    "ax.bar(\n",
    "    x      = np.arange(modelo_pca.n_components_) + 1,\n",
    "    height = modelo_pca.explained_variance_ratio_\n",
    ")\n",
    "\n",
    "for x, y in zip(np.arange(len(datos.columns)) + 1, modelo_pca.explained_variance_ratio_):\n",
    "    label = round(y, 2)\n",
    "    ax.annotate(\n",
    "        label,\n",
    "        (x,y),\n",
    "        textcoords=\"offset points\",\n",
    "        xytext=(0,10),\n",
    "        ha='center'\n",
    "    )\n",
    "\n",
    "ax.set_xticks(np.arange(modelo_pca.n_components_) + 1)\n",
    "ax.set_ylim(0, 1.1)\n",
    "ax.set_title('Porcentaje de varianza explicada por cada componente')\n",
    "ax.set_xlabel('Componente principal')\n",
    "ax.set_ylabel('Por. varianza explicada');"
   ]
  },
  {
   "cell_type": "code",
   "execution_count": 15,
   "metadata": {},
   "outputs": [
    {
     "data": {
      "text/plain": [
       "array([0.62006039, 0.86750168, 0.95664248, 1.        ])"
      ]
     },
     "execution_count": 15,
     "metadata": {},
     "output_type": "execute_result"
    }
   ],
   "source": [
    "modelo_pca.explained_variance_ratio_.cumsum()"
   ]
  },
  {
   "cell_type": "code",
   "execution_count": 16,
   "metadata": {},
   "outputs": [
    {
     "name": "stdout",
     "output_type": "stream",
     "text": [
      "------------------------------------------\n",
      "Porcentaje de varianza explicada acumulada\n",
      "------------------------------------------\n",
      "[0.62006039 0.86750168 0.95664248 1.        ]\n"
     ]
    },
    {
     "data": {
      "image/png": "[encoded data removed]",
      "text/plain": [
       "<Figure size 432x288 with 1 Axes>"
      ]
     },
     "metadata": {},
     "output_type": "display_data"
    }
   ],
   "source": [
    "# Porcentaje de varianza explicada acumulada\n",
    "# ==============================================================================\n",
    "prop_varianza_acum = modelo_pca.explained_variance_ratio_.cumsum()\n",
    "print('------------------------------------------')\n",
    "print('Porcentaje de varianza explicada acumulada')\n",
    "print('------------------------------------------')\n",
    "print(prop_varianza_acum)\n",
    "\n",
    "fig, ax = plt.subplots(nrows=1, ncols=1, figsize=(6, 4))\n",
    "ax.plot(\n",
    "    np.arange(len(datos.columns)) + 1,\n",
    "    prop_varianza_acum,\n",
    "    marker = 'o'\n",
    ")\n",
    "\n",
    "for x, y in zip(np.arange(len(datos.columns)) + 1, prop_varianza_acum):\n",
    "    label = round(y, 2)\n",
    "    ax.annotate(\n",
    "        label,\n",
    "        (x,y),\n",
    "        textcoords=\"offset points\",\n",
    "        xytext=(0,10),\n",
    "        ha='center'\n",
    "    )\n",
    "    \n",
    "ax.set_ylim(0, 1.1)\n",
    "ax.set_xticks(np.arange(modelo_pca.n_components_) + 1)\n",
    "ax.set_title('Porcentaje de varianza explicada acumulada')\n",
    "ax.set_xlabel('Componente principal')\n",
    "ax.set_ylabel('Por. varianza acumulada');"
   ]
  },
  {
   "cell_type": "markdown",
   "metadata": {},
   "source": [
    "Si se empleasen únicamente las dos primeras componentes se conseguiría explicar el 87% de la varianza observada."
   ]
  },
  {
   "cell_type": "markdown",
   "metadata": {},
   "source": [
    "Una vez entrenado el modelo, con el método transform() se puede reducir la dimensionalidad de nuevas observaciones proyectándolas en el espacio definido por las componentes."
   ]
  },
  {
   "cell_type": "code",
   "execution_count": 17,
   "metadata": {},
   "outputs": [
    {
     "data": {
      "text/html": [
       "<div>\n",
       "<style scoped>\n",
       "    .dataframe tbody tr th:only-of-type {\n",
       "        vertical-align: middle;\n",
       "    }\n",
       "\n",
       "    .dataframe tbody tr th {\n",
       "        vertical-align: top;\n",
       "    }\n",
       "\n",
       "    .dataframe thead th {\n",
       "        text-align: right;\n",
       "    }\n",
       "</style>\n",
       "<table border=\"1\" class=\"dataframe\">\n",
       "  <thead>\n",
       "    <tr style=\"text-align: right;\">\n",
       "      <th></th>\n",
       "      <th>PC1</th>\n",
       "      <th>PC2</th>\n",
       "    </tr>\n",
       "  </thead>\n",
       "  <tbody>\n",
       "    <tr>\n",
       "      <th>Alabama</th>\n",
       "      <td>0.985566</td>\n",
       "      <td>1.133392</td>\n",
       "    </tr>\n",
       "    <tr>\n",
       "      <th>Alaska</th>\n",
       "      <td>1.950138</td>\n",
       "      <td>1.073213</td>\n",
       "    </tr>\n",
       "    <tr>\n",
       "      <th>Arizona</th>\n",
       "      <td>1.763164</td>\n",
       "      <td>-0.745957</td>\n",
       "    </tr>\n",
       "    <tr>\n",
       "      <th>Arkansas</th>\n",
       "      <td>-0.141420</td>\n",
       "      <td>1.119797</td>\n",
       "    </tr>\n",
       "    <tr>\n",
       "      <th>California</th>\n",
       "      <td>2.523980</td>\n",
       "      <td>-1.542934</td>\n",
       "    </tr>\n",
       "  </tbody>\n",
       "</table>\n",
       "</div>"
      ],
      "text/plain": [
       "                 PC1       PC2\n",
       "Alabama     0.985566  1.133392\n",
       "Alaska      1.950138  1.073213\n",
       "Arizona     1.763164 -0.745957\n",
       "Arkansas   -0.141420  1.119797\n",
       "California  2.523980 -1.542934"
      ]
     },
     "execution_count": 17,
     "metadata": {},
     "output_type": "execute_result"
    }
   ],
   "source": [
    "# Proyección de las observaciones de entrenamiento\n",
    "# ==============================================================================\n",
    "pca_pipe = make_pipeline(StandardScaler(), PCA(n_components=2))\n",
    "modelo_pca = pca_pipe['pca']\n",
    "proyecciones = pca_pipe.fit_transform(X=datos)\n",
    "proyecciones = pd.DataFrame(\n",
    "    proyecciones,\n",
    "    columns = ['PC1', 'PC2'],\n",
    "    index   = datos.index\n",
    ")\n",
    "proyecciones.head()"
   ]
  },
  {
   "cell_type": "markdown",
   "metadata": {},
   "source": [
    "La transformación es el resultado de multiplicar los vectores que definen cada componente con el valor de las variables. Puede calcularse de forma manual:"
   ]
  },
  {
   "cell_type": "code",
   "execution_count": 18,
   "metadata": {},
   "outputs": [
    {
     "data": {
      "text/html": [
       "<div>\n",
       "<style scoped>\n",
       "    .dataframe tbody tr th:only-of-type {\n",
       "        vertical-align: middle;\n",
       "    }\n",
       "\n",
       "    .dataframe tbody tr th {\n",
       "        vertical-align: top;\n",
       "    }\n",
       "\n",
       "    .dataframe thead th {\n",
       "        text-align: right;\n",
       "    }\n",
       "</style>\n",
       "<table border=\"1\" class=\"dataframe\">\n",
       "  <thead>\n",
       "    <tr style=\"text-align: right;\">\n",
       "      <th></th>\n",
       "      <th>PC1</th>\n",
       "      <th>PC2</th>\n",
       "    </tr>\n",
       "  </thead>\n",
       "  <tbody>\n",
       "    <tr>\n",
       "      <th>Alabama</th>\n",
       "      <td>0.985566</td>\n",
       "      <td>1.133392</td>\n",
       "    </tr>\n",
       "    <tr>\n",
       "      <th>Alaska</th>\n",
       "      <td>1.950138</td>\n",
       "      <td>1.073213</td>\n",
       "    </tr>\n",
       "    <tr>\n",
       "      <th>Arizona</th>\n",
       "      <td>1.763164</td>\n",
       "      <td>-0.745957</td>\n",
       "    </tr>\n",
       "    <tr>\n",
       "      <th>Arkansas</th>\n",
       "      <td>-0.141420</td>\n",
       "      <td>1.119797</td>\n",
       "    </tr>\n",
       "    <tr>\n",
       "      <th>California</th>\n",
       "      <td>2.523980</td>\n",
       "      <td>-1.542934</td>\n",
       "    </tr>\n",
       "  </tbody>\n",
       "</table>\n",
       "</div>"
      ],
      "text/plain": [
       "                 PC1       PC2\n",
       "Alabama     0.985566  1.133392\n",
       "Alaska      1.950138  1.073213\n",
       "Arizona     1.763164 -0.745957\n",
       "Arkansas   -0.141420  1.119797\n",
       "California  2.523980 -1.542934"
      ]
     },
     "execution_count": 18,
     "metadata": {},
     "output_type": "execute_result"
    }
   ],
   "source": [
    "proyecciones = np.dot(modelo_pca.components_, scale(datos).T)\n",
    "proyecciones = pd.DataFrame(proyecciones, index = ['PC1', 'PC2'])\n",
    "proyecciones = proyecciones.transpose().set_index(datos.index)\n",
    "proyecciones.head()"
   ]
  },
  {
   "cell_type": "markdown",
   "metadata": {},
   "source": [
    "Puede revertirse la transformación y reconstruir el valor inicial con el método inverse_transform(). Es importante tener en cuenta que, la reconstrucción, solo será completa si se han incluido todas las componentes."
   ]
  },
  {
   "cell_type": "code",
   "execution_count": 19,
   "metadata": {},
   "outputs": [
    {
     "name": "stdout",
     "output_type": "stream",
     "text": [
      "------------------\n",
      "Valores reconstruidos\n",
      "------------------\n"
     ]
    },
    {
     "data": {
      "text/html": [
       "<div>\n",
       "<style scoped>\n",
       "    .dataframe tbody tr th:only-of-type {\n",
       "        vertical-align: middle;\n",
       "    }\n",
       "\n",
       "    .dataframe tbody tr th {\n",
       "        vertical-align: top;\n",
       "    }\n",
       "\n",
       "    .dataframe thead th {\n",
       "        text-align: right;\n",
       "    }\n",
       "</style>\n",
       "<table border=\"1\" class=\"dataframe\">\n",
       "  <thead>\n",
       "    <tr style=\"text-align: right;\">\n",
       "      <th></th>\n",
       "      <th>Murder</th>\n",
       "      <th>Assault</th>\n",
       "      <th>UrbanPop</th>\n",
       "      <th>Rape</th>\n",
       "    </tr>\n",
       "  </thead>\n",
       "  <tbody>\n",
       "    <tr>\n",
       "      <th>Alabama</th>\n",
       "      <td>12.108907</td>\n",
       "      <td>235.755815</td>\n",
       "      <td>55.293753</td>\n",
       "      <td>24.439738</td>\n",
       "    </tr>\n",
       "    <tr>\n",
       "      <th>Alaska</th>\n",
       "      <td>14.229193</td>\n",
       "      <td>281.230658</td>\n",
       "      <td>59.891444</td>\n",
       "      <td>29.393422</td>\n",
       "    </tr>\n",
       "    <tr>\n",
       "      <th>Arizona</th>\n",
       "      <td>10.517042</td>\n",
       "      <td>244.021633</td>\n",
       "      <td>81.897906</td>\n",
       "      <td>31.273586</td>\n",
       "    </tr>\n",
       "    <tr>\n",
       "      <th>Arkansas</th>\n",
       "      <td>9.480315</td>\n",
       "      <td>181.322623</td>\n",
       "      <td>50.971310</td>\n",
       "      <td>18.782131</td>\n",
       "    </tr>\n",
       "    <tr>\n",
       "      <th>California</th>\n",
       "      <td>10.838010</td>\n",
       "      <td>268.266387</td>\n",
       "      <td>94.898277</td>\n",
       "      <td>36.343663</td>\n",
       "    </tr>\n",
       "  </tbody>\n",
       "</table>\n",
       "</div>"
      ],
      "text/plain": [
       "               Murder     Assault   UrbanPop       Rape\n",
       "Alabama     12.108907  235.755815  55.293753  24.439738\n",
       "Alaska      14.229193  281.230658  59.891444  29.393422\n",
       "Arizona     10.517042  244.021633  81.897906  31.273586\n",
       "Arkansas     9.480315  181.322623  50.971310  18.782131\n",
       "California  10.838010  268.266387  94.898277  36.343663"
      ]
     },
     "metadata": {},
     "output_type": "display_data"
    },
    {
     "name": "stdout",
     "output_type": "stream",
     "text": [
      "---------------------\n",
      "Valores originales\n",
      "---------------------\n"
     ]
    },
    {
     "data": {
      "text/html": [
       "<div>\n",
       "<style scoped>\n",
       "    .dataframe tbody tr th:only-of-type {\n",
       "        vertical-align: middle;\n",
       "    }\n",
       "\n",
       "    .dataframe tbody tr th {\n",
       "        vertical-align: top;\n",
       "    }\n",
       "\n",
       "    .dataframe thead th {\n",
       "        text-align: right;\n",
       "    }\n",
       "</style>\n",
       "<table border=\"1\" class=\"dataframe\">\n",
       "  <thead>\n",
       "    <tr style=\"text-align: right;\">\n",
       "      <th></th>\n",
       "      <th>Murder</th>\n",
       "      <th>Assault</th>\n",
       "      <th>UrbanPop</th>\n",
       "      <th>Rape</th>\n",
       "    </tr>\n",
       "  </thead>\n",
       "  <tbody>\n",
       "    <tr>\n",
       "      <th>Alabama</th>\n",
       "      <td>13.2</td>\n",
       "      <td>236</td>\n",
       "      <td>58</td>\n",
       "      <td>21.2</td>\n",
       "    </tr>\n",
       "    <tr>\n",
       "      <th>Alaska</th>\n",
       "      <td>10.0</td>\n",
       "      <td>263</td>\n",
       "      <td>48</td>\n",
       "      <td>44.5</td>\n",
       "    </tr>\n",
       "    <tr>\n",
       "      <th>Arizona</th>\n",
       "      <td>8.1</td>\n",
       "      <td>294</td>\n",
       "      <td>80</td>\n",
       "      <td>31.0</td>\n",
       "    </tr>\n",
       "    <tr>\n",
       "      <th>Arkansas</th>\n",
       "      <td>8.8</td>\n",
       "      <td>190</td>\n",
       "      <td>50</td>\n",
       "      <td>19.5</td>\n",
       "    </tr>\n",
       "    <tr>\n",
       "      <th>California</th>\n",
       "      <td>9.0</td>\n",
       "      <td>276</td>\n",
       "      <td>91</td>\n",
       "      <td>40.6</td>\n",
       "    </tr>\n",
       "  </tbody>\n",
       "</table>\n",
       "</div>"
      ],
      "text/plain": [
       "            Murder  Assault  UrbanPop  Rape\n",
       "Alabama       13.2      236        58  21.2\n",
       "Alaska        10.0      263        48  44.5\n",
       "Arizona        8.1      294        80  31.0\n",
       "Arkansas       8.8      190        50  19.5\n",
       "California     9.0      276        91  40.6"
      ]
     },
     "metadata": {},
     "output_type": "display_data"
    }
   ],
   "source": [
    "# Recostruccion de las proyecciones\n",
    "# ==============================================================================\n",
    "reconstruccion = pca_pipe.inverse_transform(proyecciones)\n",
    "reconstruccion = pd.DataFrame(\n",
    "    reconstruccion,\n",
    "    columns = datos.columns,\n",
    "    index = datos.index\n",
    ")\n",
    "\n",
    "print('------------------')\n",
    "print('Valores reconstruidos')\n",
    "print('------------------')\n",
    "display(reconstruccion.head())\n",
    "\n",
    "print('---------------------')\n",
    "print('Valores originales')\n",
    "print('---------------------')\n",
    "display(datos.head())"
   ]
  },
  {
   "cell_type": "code",
   "execution_count": null,
   "metadata": {},
   "outputs": [],
   "source": []
  }
 ],
 "metadata": {
  "kernelspec": {
   "display_name": "Python 3.7.4 64-bit",
   "language": "python",
   "name": "python3"
  },
  "language_info": {
   "codemirror_mode": {
    "name": "ipython",
    "version": 3
   },
   "file_extension": ".py",
   "mimetype": "text/x-python",
   "name": "python",
   "nbconvert_exporter": "python",
   "pygments_lexer": "ipython3",
   "version": "3.7.4"
  },
  "vscode": {
   "interpreter": {
    "hash": "90139cb9a825bf3d63f6f6704e828dbd1ff7edbd4d0c6e906a71235d6efc74af"
   }
  }
 },
 "nbformat": 4,
 "nbformat_minor": 4
}
