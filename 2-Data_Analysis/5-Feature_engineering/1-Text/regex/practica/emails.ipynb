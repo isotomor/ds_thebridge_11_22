{
 "cells": [
  {
   "cell_type": "markdown",
   "metadata": {},
   "source": [
    "# Extrae los dominios de los correos con una expresión regular"
   ]
  },
  {
   "cell_type": "code",
   "execution_count": 1,
   "metadata": {},
   "outputs": [],
   "source": [
    "import re\n",
    "\n",
    "emails = '''\n",
    "miguelnievas@thebridgeschool.tech\n",
    "miguel.nievas@uc3m.es\n",
    "miguel-12-1993@mi-correo.net\n",
    "miguelniev@s@thebridgeschool.es\n",
    "'''"
   ]
  },
  {
   "cell_type": "markdown",
   "metadata": {},
   "source": [
    "Ejemplo:\n",
    "* @thebridgeschool.tech\n",
    "* @uc3m.es\n",
    "* @mi-correo.net\n",
    "* @thebridgeschool.es"
   ]
  },
  {
   "cell_type": "code",
   "execution_count": 3,
   "metadata": {},
   "outputs": [
    {
     "name": "stdout",
     "output_type": "stream",
     "text": [
      "<re.Match object; span=(13, 34), match='@thebridgeschool.tech'>\n",
      "<re.Match object; span=(48, 56), match='@uc3m.es'>\n",
      "<re.Match object; span=(71, 85), match='@mi-correo.net'>\n",
      "<re.Match object; span=(96, 117), match='@s@thebridgeschool.es'>\n"
     ]
    }
   ],
   "source": [
    "pattern = re.compile(r'@.+')\n",
    "\n",
    "matches = pattern.finditer(emails)\n",
    "\n",
    "for match in matches:\n",
    "    print(match)"
   ]
  },
  {
   "cell_type": "code",
   "execution_count": 7,
   "metadata": {},
   "outputs": [
    {
     "name": "stdout",
     "output_type": "stream",
     "text": [
      "<re.Match object; span=(13, 34), match='@thebridgeschool.tech'>\n",
      "<re.Match object; span=(48, 56), match='@uc3m.es'>\n",
      "<re.Match object; span=(71, 85), match='@mi-correo.net'>\n",
      "<re.Match object; span=(98, 117), match='@thebridgeschool.es'>\n"
     ]
    }
   ],
   "source": [
    "pattern = re.compile(r'@[\\w-]+\\.\\w+')\n",
    "\n",
    "matches = pattern.finditer(emails)\n",
    "\n",
    "for match in matches:\n",
    "    print(match)"
   ]
  }
 ],
 "metadata": {
  "kernelspec": {
   "display_name": "Python 3.7.4 64-bit",
   "language": "python",
   "name": "python3"
  },
  "language_info": {
   "codemirror_mode": {
    "name": "ipython",
    "version": 3
   },
   "file_extension": ".py",
   "mimetype": "text/x-python",
   "name": "python",
   "nbconvert_exporter": "python",
   "pygments_lexer": "ipython3",
   "version": "3.7.4"
  },
  "orig_nbformat": 4,
  "vscode": {
   "interpreter": {
    "hash": "90139cb9a825bf3d63f6f6704e828dbd1ff7edbd4d0c6e906a71235d6efc74af"
   }
  }
 },
 "nbformat": 4,
 "nbformat_minor": 2
}
