{
 "cells": [
  {
   "cell_type": "markdown",
   "metadata": {},
   "source": [
    "# EDA RECUPERACIÓN \n",
    "## Centros Especialización New York\n",
    "Existen varios centros especializados de educación (alto rendimiento) en la ciudad de Nueva York, a los que pueden acceder estudiantes tras superar el colegio. En estos centros se ofrece a los alumnos asignaturas avanzadas en arte, música o matemáticas.\n",
    "\n",
    "El acceso a los centros de especialización ha sido siempre motivo de debate en al ciudad, puesto que se presupone que existe un trato favorable a estudiantes de raza blanca, en detrimento de latinos y negros.\n",
    "\n",
    "¿Cómo es el proceso de admisión? Lo primero, los alumnos eligen los centros en un ranking. Después realizan un examen (SHSAT), y en función de una notas de corte, se reparten los estudiantes en los distintos centros. Las notas las establece cada centro, y cambian todos los años, dependiendo de la cantidad de plazas disponibles y el número de aplicaciones. **El problema reside en que no se publican esas notas de corte**, y se sospecha que los criterios no san tan objetivos.\n",
    "\n",
    "[Noticia NYTimes](https://www.nytimes.com/2018/06/21/nyregion/what-is-the-shsat-exam-and-why-does-it-matter.html)\n",
    "\n",
    "Por tanto, nos encontramos ante la siguiente problemática:\n",
    "1. Bajo número de estudiantes negros y latinos en centros de especialización\n",
    "2. Sólo el 10% de los colegios de Nueva York reciben ofertas de centros de especialización, aún habiendo un 67% de estudiantes negros y latinos en Nueva York.\n",
    "3. Los asiáticos suponen un 62% de los estudiantes de los centros de especialización, aún habiendo únicamente un 16% de estudiantes asiáticos en los colegios.\n",
    "4. Los blancos suponen un 24% de los estudiantes de los centros de especialización, aún habiendo únicamente un 15% de estudiantes blancos en los colegios.\n",
    "\n",
    "**El objetivo de este ejecicio es realizar un análisis exploratorio de datos para determinar el estado de las ayudas y necesidades de los colegios de Nueva York, y con ello poder tomar decisiones BASADAS EN LOS DATOS. Para el análisis utilizarás datos como las localizaciones geográficas de los colegios, pertenencia comunitaria, raza de los estudiantes y nivel académico.**\n",
    "\n",
    "Por tanto, consideraremos las siguientes hipótesis que habrá que razonar con los datos disponibles:\n",
    "1. Si un colegio pertenece o no a una comunidad tiene impacto en las ayudas económicas recibidas.\n",
    "2. Hay centros con mayoría de estudiantes hispanos o negros que tienen más necesidades económicas que los centros con mayoría de raza blanca.\n",
    "3. La localización de los colegios está afectando a las ayudas.\n",
    "4. Los centros con mayores necesidades tienen un % de asistencia a clase más bajo.\n",
    "\n"
   ]
  },
  {
   "cell_type": "markdown",
   "metadata": {},
   "source": [
    "<img src='https://upload.wikimedia.org/wikipedia/commons/thumb/3/3d/Map_of_New_York_Economic_Regions.svg/2000px-Map_of_New_York_Economic_Regions.svg.png'/>"
   ]
  },
  {
   "cell_type": "markdown",
   "metadata": {},
   "source": [
    "Para contrastar estas hipótesis, tendrás que llevar a cabo los siguientes pasos en la analítica. Comenta qué observas en cada punto"
   ]
  },
  {
   "cell_type": "markdown",
   "metadata": {},
   "source": [
    "1. Leer los datasets, haz las limpiezas pertinentes y obtén sus estadísticos básicos."
   ]
  },
  {
   "cell_type": "code",
   "execution_count": null,
   "metadata": {},
   "outputs": [],
   "source": []
  },
  {
   "cell_type": "markdown",
   "metadata": {},
   "source": [
    "Observaciones:"
   ]
  },
  {
   "cell_type": "markdown",
   "metadata": {},
   "source": [
    "2. Analizar geográficamente las zonas de NY, en función de las necesidades económicas y las estimaciones de ingresos de los colegios. Utiliza un scatter plot, con los ejes de latitud y longitud, con el color del indice de necesidad económica y los tamaños, con los ingresos escolares estimados."
   ]
  },
  {
   "cell_type": "code",
   "execution_count": null,
   "metadata": {},
   "outputs": [],
   "source": []
  },
  {
   "cell_type": "markdown",
   "metadata": {},
   "source": [
    "Observaciones:"
   ]
  },
  {
   "cell_type": "markdown",
   "metadata": {},
   "source": [
    "3. ¿Cómo se reparten geográficamente los colegios en función de la raza de sus estudiantes? Utiliza gráficas.\n",
    "    * ¿En qué zonas de NY se encuentran la mayor parte de colegios con estudiantes de raza negra?\n",
    "    * Lo mismo para raza hispana\n",
    "    * Raza blanca\n",
    "    * Asiática"
   ]
  },
  {
   "cell_type": "code",
   "execution_count": null,
   "metadata": {},
   "outputs": [],
   "source": []
  },
  {
   "cell_type": "markdown",
   "metadata": {},
   "source": [
    "Observaciones:"
   ]
  },
  {
   "cell_type": "markdown",
   "metadata": {},
   "source": [
    "4. Analiza las distribuciones de los % de cada raza. ¿Qué raza o razas dirías que predomina en los colegios de NY? Utiliza gráficas"
   ]
  },
  {
   "cell_type": "code",
   "execution_count": null,
   "metadata": {},
   "outputs": [],
   "source": []
  },
  {
   "cell_type": "markdown",
   "metadata": {},
   "source": [
    "Observaciones:"
   ]
  },
  {
   "cell_type": "markdown",
   "metadata": {},
   "source": [
    "5. ¿Hay alguna relación entre las necesidades económicas de los colegios y la raza de sus estudiantes? ¿Y entre los ingresos y sus razas? Utiliza un mapa de calor con las correlaciones"
   ]
  },
  {
   "cell_type": "code",
   "execution_count": null,
   "metadata": {},
   "outputs": [],
   "source": []
  },
  {
   "cell_type": "markdown",
   "metadata": {},
   "source": [
    "Observaciones:"
   ]
  },
  {
   "cell_type": "markdown",
   "metadata": {},
   "source": [
    "6. Analicemos ahora la asistencia a clase. Supongamos que hay colegios con alta tasa de ausencia (>=30%) y baja tasa de asistencia (<=11%). Utiliza gráficas.\n",
    "    * ¿Dónde se situan los de alta y baja tasa?\n",
    "    * ¿Qué % mayoritario de razas tienen ambos grupos?\n",
    "    * Necesidades económicas y estimación de ingresos de esos colegios."
   ]
  },
  {
   "cell_type": "code",
   "execution_count": null,
   "metadata": {},
   "outputs": [],
   "source": []
  },
  {
   "cell_type": "markdown",
   "metadata": {},
   "source": [
    "Observaciones:"
   ]
  },
  {
   "cell_type": "markdown",
   "metadata": {},
   "source": [
    "7. Vamos a analizar el rendimiento académico de los alumnos. Para ello, tendremos que dividir el dataset en colegios donde predominan latinos y negros (>= 70%) vs predominio de asiáticos y blancos. Saca algunos estadísticos y compara en una gráfica las funciones de densidad de ambos grupos, para los scores de matemáticas y ELA (English Language Arts). Utiliza gráficas."
   ]
  },
  {
   "cell_type": "code",
   "execution_count": null,
   "metadata": {},
   "outputs": [],
   "source": []
  },
  {
   "cell_type": "markdown",
   "metadata": {},
   "source": [
    "Observaciones:"
   ]
  },
  {
   "cell_type": "markdown",
   "metadata": {},
   "source": [
    "8. Comprobaremos ahora la influencia de que un colegio pertenezca o no a una comunidad\n",
    "    * ¿En qué afecta que el colegio pertenezca a una comunidad? Raza, necesidades económicas, ingresos...\n",
    "    * Compara mediante funciones de densidad si los colegios comunitarios tienen mayores ingresos.\n",
    "    * Compara mediante funciones de densidad si los colegios comunitarios tienen mayores necesidades económicas."
   ]
  },
  {
   "cell_type": "code",
   "execution_count": null,
   "metadata": {},
   "outputs": [],
   "source": []
  },
  {
   "cell_type": "markdown",
   "metadata": {},
   "source": [
    "Observaciones:"
   ]
  },
  {
   "cell_type": "markdown",
   "metadata": {},
   "source": [
    "9. Escoge a las top 10 ciudades con más colegios. Muestra la dispersión de los ingresos estimados de los colegios de cada ciudad con diagramas de caja.\n",
    "    * Cual es la ciudad con mayor y menor dispersión?\n",
    "    * En qué ciudades se encuentran que la mitad de los colegios tienen un mínimo de ingresos de 50000."
   ]
  },
  {
   "cell_type": "code",
   "execution_count": null,
   "metadata": {},
   "outputs": [],
   "source": []
  },
  {
   "cell_type": "markdown",
   "metadata": {},
   "source": [
    "Observaciones:"
   ]
  },
  {
   "cell_type": "markdown",
   "metadata": {},
   "source": [
    "10. Utilizando el dataset \"D5 SHSAT Registrations and Testers.csv\", ¿qué colegios registran más estudiantes en el examen? Existen diferencias con los colegios donde más estudiantes realmente se presentan? Utiliza gráficas."
   ]
  },
  {
   "cell_type": "code",
   "execution_count": null,
   "metadata": {},
   "outputs": [],
   "source": []
  },
  {
   "cell_type": "markdown",
   "metadata": {},
   "source": [
    "Observaciones:"
   ]
  },
  {
   "cell_type": "markdown",
   "metadata": {},
   "source": [
    "11. Escribe en un README.md las conclusiones finales del análisis:\n",
    "    * Contexto del análisis y pasos realizados.\n",
    "    * Validación de las hipótesis.\n",
    "    * Futuros pasos.\n",
    "\n"
   ]
  },
  {
   "cell_type": "markdown",
   "metadata": {},
   "source": [
    "12. Crea una presentación donde resumas el trabajo realizado del EDA en un power point o herramienta similar. Graba tu presentación en google meet, deberá de tener una duración entre 10 y 15 min."
   ]
  },
  {
   "cell_type": "markdown",
   "metadata": {},
   "source": [
    "13. Sube tu trabajo a un repositorio de github:\n",
    "    * Este jupyter con los apartados resueltos.\n",
    "    * El README.md\n",
    "    * Todos los recursos necesarios para el EDA: ficheros, scripts, notebooks, imagenes,... \n",
    "    * La presentación"
   ]
  },
  {
   "cell_type": "markdown",
   "metadata": {},
   "source": [
    "14. Sube al classroom el repositorio y el vídeo de la presentación."
   ]
  }
 ],
 "metadata": {
  "kernelspec": {
   "display_name": "Python 3.7.4 64-bit",
   "language": "python",
   "name": "python3"
  },
  "language_info": {
   "codemirror_mode": {
    "name": "ipython",
    "version": 3
   },
   "file_extension": ".py",
   "mimetype": "text/x-python",
   "name": "python",
   "nbconvert_exporter": "python",
   "pygments_lexer": "ipython3",
   "version": "3.7.4"
  },
  "vscode": {
   "interpreter": {
    "hash": "90139cb9a825bf3d63f6f6704e828dbd1ff7edbd4d0c6e906a71235d6efc74af"
   }
  }
 },
 "nbformat": 4,
 "nbformat_minor": 4
}
