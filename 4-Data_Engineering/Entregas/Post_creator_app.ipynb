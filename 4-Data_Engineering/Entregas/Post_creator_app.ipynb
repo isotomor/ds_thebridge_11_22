{
 "cells": [
  {
   "attachments": {},
   "cell_type": "markdown",
   "metadata": {},
   "source": [
    "# GPT3 - App \"Post creator\"\n",
    "\n",
    "El presente proyecto se enmarca dentro del módulo de productivización del bootcamp de data science y tiene como objetivo la creación de una aplicación web en Python que genere post autómaticos basados en un modelo preentrenado, en este caso ChatGPT. El proyecto final consistirá en el desarrollo y despliegue de la aplicación.\n",
    "\n",
    "## Objetivos:\n",
    "* Desarrollar una aplicación web en Python con Flask que se conecte a la API de GPT3 para generar respuestas a preguntas específicas. Deberá de tener un front end sencillo pero usable por el usuario.\n",
    "* Almacenar las preguntas, respuestas y fechas correspondientes en una base de datos desplegada en cloud (AWS).\n",
    "* Desplegar la aplicación en Docker.\n",
    "\n",
    "\n",
    "## Entregable:\n",
    "El entregable del proyecto será un repositorio en Github que contenga:\n",
    "\n",
    "* La aplicación web en Python con Flask.\n",
    "* El archivo Dockerfile necesario para desplegar la aplicación en contenedores.\n",
    "* Un archivo README con instrucciones detalladas para el despliegue de la aplicación en Docker.\n",
    "* Documentación del proceso de desarrollo y despliegue de la aplicación.\n",
    "\n",
    "<img src=\"img/arquitectura.jpg\" style=\"width:600px;height:500px;\">\n",
    "\n",
    "Estaréis divididos en los 4 grupos utilizados para el taller. Cada grupo deberá hacer su entregable, y el deadline será el **martes 7 a las 9.00**. Cada grupo presentará una demo de máximo 10 minutos."
   ]
  }
 ],
 "metadata": {
  "kernelspec": {
   "display_name": "Python 3.7.4 64-bit",
   "language": "python",
   "name": "python3"
  },
  "language_info": {
   "codemirror_mode": {
    "name": "ipython",
    "version": 3
   },
   "file_extension": ".py",
   "mimetype": "text/x-python",
   "name": "python",
   "nbconvert_exporter": "python",
   "pygments_lexer": "ipython3",
   "version": "3.7.4"
  },
  "vscode": {
   "interpreter": {
    "hash": "90139cb9a825bf3d63f6f6704e828dbd1ff7edbd4d0c6e906a71235d6efc74af"
   }
  }
 },
 "nbformat": 4,
 "nbformat_minor": 4
}
