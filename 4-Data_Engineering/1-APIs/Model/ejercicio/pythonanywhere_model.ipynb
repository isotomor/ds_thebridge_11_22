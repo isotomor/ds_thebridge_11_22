{
 "cells": [
  {
   "attachments": {},
   "cell_type": "markdown",
   "metadata": {},
   "source": [
    "# Ejercicio Flask API\n",
    "Para este ejercicio tendrás que desplegar un modelo de machine learning en una API para su consumo en Pythonanywhere. Ya tienes un modelo entrenado,desarrollarás una API que permita consumir dicho modelo desde cualquier otra tecnología.\n",
    "\n",
    "**Se presenta el siguiente caso de uso**\n",
    "\n",
    "Una empresa distribuidora de ámbito nacional pretende utilizar un modelo desarrollado por el departamento de data science, con el que consiguen una predicción de las ventas a partir de los gastos en marketing de anuncios en televisión, radio y periódicos. Quieren incorporar estos datos dentro de su página web interna, donde comparten todo tipo de información relativa a resultados de la empresa, ventas, adquisiciones, etc... La web está desarrollada en AngularJS, mientras que el modelo se desarrolló en Python, por lo que precisamos de una interfaz de comunicación entre ambos sistemas.\n",
    "\n",
    "El equipo de desarrollo necesita que implementes un microservicio para que ellos puedan consumir el modelo desde la propia web, comunicándose con una BBDD para ingestar o reentrenar el modelo. No vale base de datos en csv. El microservicio tiene que cumplir las siguientes características:\n",
    "1. Ofrezca la predicción de ventas a partir de todos los valores de gastos en publicidad. (/v2/predict)\n",
    "2. Un endpoint para almacenar nuevos registros en la base de datos que deberá estar previamente creada.(/v2/ingest_data)\n",
    "3. Posibilidad de reentrenar de nuevo el modelo con los posibles nuevos registros que se recojan. (/v2/retrain)\n",
    "\n",
    "\n",
    "**NOTAS**: \n",
    "1. Deberás desplegarlo desde un repositorio de github.\n",
    "2. Ojo con la ruta para hacer el load de tu modelo y datos, comprueba cual es la ruta en la que está buscándolo.\n",
    "3. El desarrollo de un modelo de machine learning no es el objetivo del ejercicio, sino el desarrollo de una API con Flask.\n",
    "\n",
    "**Entregable**: fichero json con \"repository\":\"repositorio de tu github\" y \"url\":\"url home de tu web app\""
   ]
  },
  {
   "cell_type": "code",
   "execution_count": 1,
   "metadata": {},
   "outputs": [],
   "source": [
    "import requests\n",
    "import pandas as pd"
   ]
  },
  {
   "cell_type": "code",
   "execution_count": 3,
   "metadata": {},
   "outputs": [],
   "source": [
    "def get_request(path, endpoint, params=None):\n",
    "    url = path + endpoint\n",
    "    response = requests.get(url, params=params)\n",
    "    return response.content"
   ]
  },
  {
   "cell_type": "code",
   "execution_count": 12,
   "metadata": {},
   "outputs": [],
   "source": [
    "def post_request(path, endpoint, params=None):\n",
    "    url = path + endpoint\n",
    "    response = requests.post(url, params=params)\n",
    "    return response.content"
   ]
  },
  {
   "cell_type": "code",
   "execution_count": 10,
   "metadata": {},
   "outputs": [],
   "source": [
    "def put_request(path, endpoint, params=None):\n",
    "    url = path + endpoint\n",
    "    response = requests.put(url, params=params)\n",
    "    return response.content"
   ]
  },
  {
   "cell_type": "code",
   "execution_count": 6,
   "metadata": {},
   "outputs": [],
   "source": [
    "endp_predict = 'v2/predict'\n",
    "endp_retrain = 'v2/retrain'\n",
    "endp_ingest = 'v2/ingest_data'\n",
    "alumno = 'http://miguelnievas.pythonanywhere.com/'"
   ]
  },
  {
   "cell_type": "code",
   "execution_count": 7,
   "metadata": {},
   "outputs": [
    {
     "data": {
      "text/plain": [
       "b'The prediction of sales investing that amount of money in TV, radio and newspaper is: 13974.12k \\xe2\\x82\\xac'"
      ]
     },
     "execution_count": 7,
     "metadata": {},
     "output_type": "execute_result"
    }
   ],
   "source": [
    "get_request(alumno, endp_predict, params={\"tv\":60, \"radio\":80, \"newspaper\":40})"
   ]
  },
  {
   "cell_type": "code",
   "execution_count": 8,
   "metadata": {},
   "outputs": [
    {
     "data": {
      "text/plain": [
       "b'The prediction of sales investing that amount of money in TV, radio and newspaper is: 13973.57k \\xe2\\x82\\xac'"
      ]
     },
     "execution_count": 8,
     "metadata": {},
     "output_type": "execute_result"
    }
   ],
   "source": [
    "get_request(alumno, endp_predict, params={\"tv\":100, \"radio\":60, \"newspaper\":20})"
   ]
  },
  {
   "cell_type": "code",
   "execution_count": 11,
   "metadata": {},
   "outputs": [
    {
     "data": {
      "text/plain": [
       "b'New model trained. The results of MAE with cv is 4302.0'"
      ]
     },
     "execution_count": 11,
     "metadata": {},
     "output_type": "execute_result"
    }
   ],
   "source": [
    "put_request(alumno, endp_retrain)"
   ]
  },
  {
   "cell_type": "code",
   "execution_count": 13,
   "metadata": {},
   "outputs": [
    {
     "data": {
      "text/plain": [
       "b'[\\n  [\\n    230.1, \\n    37.8, \\n    69.2, \\n    22100.0\\n  ], \\n  [\\n    44.5, \\n    39.3, \\n    45.1, \\n    10400.0\\n  ], \\n  [\\n    17.2, \\n    45.9, \\n    69.3, \\n    9300.0\\n  ], \\n  [\\n    151.5, \\n    41.3, \\n    58.5, \\n    18500.0\\n  ], \\n  [\\n    180.8, \\n    10.8, \\n    58.4, \\n    12900.0\\n  ], \\n  [\\n    8.7, \\n    48.9, \\n    75.0, \\n    7200.0\\n  ], \\n  [\\n    57.5, \\n    32.8, \\n    23.5, \\n    11800.0\\n  ], \\n  [\\n    120.2, \\n    19.6, \\n    11.6, \\n    13200.0\\n  ], \\n  [\\n    8.6, \\n    2.1, \\n    1.0, \\n    4800.0\\n  ], \\n  [\\n    199.8, \\n    2.6, \\n    21.2, \\n    10600.0\\n  ], \\n  [\\n    66.1, \\n    5.8, \\n    24.2, \\n    8600.0\\n  ], \\n  [\\n    214.7, \\n    24.0, \\n    4.0, \\n    17400.0\\n  ], \\n  [\\n    23.8, \\n    35.1, \\n    65.9, \\n    9200.0\\n  ], \\n  [\\n    97.5, \\n    7.6, \\n    7.2, \\n    9700.0\\n  ], \\n  [\\n    204.1, \\n    32.9, \\n    46.0, \\n    19000.0\\n  ], \\n  [\\n    195.4, \\n    47.7, \\n    52.9, \\n    22400.0\\n  ], \\n  [\\n    67.8, \\n    36.6, \\n    114.0, \\n    12500.0\\n  ], \\n  [\\n    281.4, \\n    39.6, \\n    55.8, \\n    24400.0\\n  ], \\n  [\\n    69.2, \\n    20.5, \\n    18.3, \\n    11300.0\\n  ], \\n  [\\n    147.3, \\n    23.9, \\n    19.1, \\n    14600.0\\n  ], \\n  [\\n    218.4, \\n    27.7, \\n    53.4, \\n    18000.0\\n  ], \\n  [\\n    237.4, \\n    5.1, \\n    23.5, \\n    12500.0\\n  ], \\n  [\\n    13.2, \\n    15.9, \\n    49.6, \\n    5600.0\\n  ], \\n  [\\n    228.3, \\n    16.9, \\n    26.2, \\n    15500.0\\n  ], \\n  [\\n    62.3, \\n    12.6, \\n    18.3, \\n    9700.0\\n  ], \\n  [\\n    262.9, \\n    3.5, \\n    19.5, \\n    12000.0\\n  ], \\n  [\\n    142.9, \\n    29.3, \\n    12.6, \\n    15000.0\\n  ], \\n  [\\n    240.1, \\n    16.7, \\n    22.9, \\n    15900.0\\n  ], \\n  [\\n    248.8, \\n    27.1, \\n    22.9, \\n    18900.0\\n  ], \\n  [\\n    70.6, \\n    16.0, \\n    40.8, \\n    10500.0\\n  ], \\n  [\\n    292.9, \\n    28.3, \\n    43.2, \\n    21400.0\\n  ], \\n  [\\n    112.9, \\n    17.4, \\n    38.6, \\n    11900.0\\n  ], \\n  [\\n    97.2, \\n    1.5, \\n    30.0, \\n    9600.0\\n  ], \\n  [\\n    265.6, \\n    20.0, \\n    0.3, \\n    17400.0\\n  ], \\n  [\\n    95.7, \\n    1.4, \\n    7.4, \\n    9500.0\\n  ], \\n  [\\n    290.7, \\n    4.1, \\n    8.5, \\n    12800.0\\n  ], \\n  [\\n    266.9, \\n    43.8, \\n    5.0, \\n    25400.0\\n  ], \\n  [\\n    74.7, \\n    49.4, \\n    45.7, \\n    14700.0\\n  ], \\n  [\\n    43.1, \\n    26.7, \\n    35.1, \\n    10100.0\\n  ], \\n  [\\n    228.0, \\n    37.7, \\n    32.0, \\n    21500.0\\n  ], \\n  [\\n    202.5, \\n    22.3, \\n    31.6, \\n    16600.0\\n  ], \\n  [\\n    177.0, \\n    33.4, \\n    38.7, \\n    17100.0\\n  ], \\n  [\\n    293.6, \\n    27.7, \\n    1.8, \\n    20700.0\\n  ], \\n  [\\n    206.9, \\n    8.4, \\n    26.4, \\n    12900.0\\n  ], \\n  [\\n    25.1, \\n    25.7, \\n    43.3, \\n    8500.0\\n  ], \\n  [\\n    175.1, \\n    22.5, \\n    31.5, \\n    14900.0\\n  ], \\n  [\\n    89.7, \\n    9.9, \\n    35.7, \\n    10600.0\\n  ], \\n  [\\n    239.9, \\n    41.5, \\n    18.5, \\n    23200.0\\n  ], \\n  [\\n    227.2, \\n    15.8, \\n    49.9, \\n    14800.0\\n  ], \\n  [\\n    66.9, \\n    11.7, \\n    36.8, \\n    9700.0\\n  ], \\n  [\\n    199.8, \\n    3.1, \\n    34.6, \\n    11400.0\\n  ], \\n  [\\n    100.4, \\n    9.6, \\n    3.6, \\n    10700.0\\n  ], \\n  [\\n    216.4, \\n    41.7, \\n    39.6, \\n    22600.0\\n  ], \\n  [\\n    182.6, \\n    46.2, \\n    58.7, \\n    21200.0\\n  ], \\n  [\\n    262.7, \\n    28.8, \\n    15.9, \\n    20200.0\\n  ], \\n  [\\n    198.9, \\n    49.4, \\n    60.0, \\n    23700.0\\n  ], \\n  [\\n    7.3, \\n    28.1, \\n    41.4, \\n    5500.0\\n  ], \\n  [\\n    136.2, \\n    19.2, \\n    16.6, \\n    13200.0\\n  ], \\n  [\\n    210.8, \\n    49.6, \\n    37.7, \\n    23800.0\\n  ], \\n  [\\n    210.7, \\n    29.5, \\n    9.3, \\n    18400.0\\n  ], \\n  [\\n    53.5, \\n    2.0, \\n    21.4, \\n    8100.0\\n  ], \\n  [\\n    261.3, \\n    42.7, \\n    54.7, \\n    24200.0\\n  ], \\n  [\\n    239.3, \\n    15.5, \\n    27.3, \\n    15700.0\\n  ], \\n  [\\n    102.7, \\n    29.6, \\n    8.4, \\n    14000.0\\n  ], \\n  [\\n    131.1, \\n    42.8, \\n    28.9, \\n    18000.0\\n  ], \\n  [\\n    69.0, \\n    9.3, \\n    0.9, \\n    9300.0\\n  ], \\n  [\\n    31.5, \\n    24.6, \\n    2.2, \\n    9500.0\\n  ], \\n  [\\n    139.3, \\n    14.5, \\n    10.2, \\n    13400.0\\n  ], \\n  [\\n    237.4, \\n    27.5, \\n    11.0, \\n    18900.0\\n  ], \\n  [\\n    216.8, \\n    43.9, \\n    27.2, \\n    22300.0\\n  ], \\n  [\\n    199.1, \\n    30.6, \\n    38.7, \\n    18300.0\\n  ], \\n  [\\n    109.8, \\n    14.3, \\n    31.7, \\n    12400.0\\n  ], \\n  [\\n    26.8, \\n    33.0, \\n    19.3, \\n    8800.0\\n  ], \\n  [\\n    129.4, \\n    5.7, \\n    31.3, \\n    11000.0\\n  ], \\n  [\\n    213.4, \\n    24.6, \\n    13.1, \\n    17000.0\\n  ], \\n  [\\n    16.9, \\n    43.7, \\n    89.4, \\n    8700.0\\n  ], \\n  [\\n    27.5, \\n    1.6, \\n    20.7, \\n    6900.0\\n  ], \\n  [\\n    120.5, \\n    28.5, \\n    14.2, \\n    14200.0\\n  ], \\n  [\\n    5.4, \\n    29.9, \\n    9.4, \\n    5300.0\\n  ], \\n  [\\n    116.0, \\n    7.7, \\n    23.1, \\n    11000.0\\n  ], \\n  [\\n    76.4, \\n    26.7, \\n    22.3, \\n    11800.0\\n  ], \\n  [\\n    239.8, \\n    4.1, \\n    36.9, \\n    12300.0\\n  ], \\n  [\\n    75.3, \\n    20.3, \\n    32.5, \\n    11300.0\\n  ], \\n  [\\n    68.4, \\n    44.5, \\n    35.6, \\n    13600.0\\n  ], \\n  [\\n    213.5, \\n    43.0, \\n    33.8, \\n    21700.0\\n  ], \\n  [\\n    193.2, \\n    18.4, \\n    65.7, \\n    15200.0\\n  ], \\n  [\\n    76.3, \\n    27.5, \\n    16.0, \\n    12000.0\\n  ], \\n  [\\n    110.7, \\n    40.6, \\n    63.2, \\n    16000.0\\n  ], \\n  [\\n    88.3, \\n    25.5, \\n    73.4, \\n    12900.0\\n  ], \\n  [\\n    109.8, \\n    47.8, \\n    51.4, \\n    16700.0\\n  ], \\n  [\\n    134.3, \\n    4.9, \\n    9.3, \\n    11200.0\\n  ], \\n  [\\n    28.6, \\n    1.5, \\n    33.0, \\n    7300.0\\n  ], \\n  [\\n    217.7, \\n    33.5, \\n    59.0, \\n    19400.0\\n  ], \\n  [\\n    250.9, \\n    36.5, \\n    72.3, \\n    22200.0\\n  ], \\n  [\\n    107.4, \\n    14.0, \\n    10.9, \\n    11500.0\\n  ], \\n  [\\n    163.3, \\n    31.6, \\n    52.9, \\n    16900.0\\n  ], \\n  [\\n    197.6, \\n    3.5, \\n    5.9, \\n    11700.0\\n  ], \\n  [\\n    184.9, \\n    21.0, \\n    22.0, \\n    15500.0\\n  ], \\n  [\\n    289.7, \\n    42.3, \\n    51.2, \\n    25400.0\\n  ], \\n  [\\n    135.2, \\n    41.7, \\n    45.9, \\n    17200.0\\n  ], \\n  [\\n    222.4, \\n    4.3, \\n    49.8, \\n    11700.0\\n  ], \\n  [\\n    296.4, \\n    36.3, \\n    100.9, \\n    23800.0\\n  ], \\n  [\\n    280.2, \\n    10.1, \\n    21.4, \\n    14800.0\\n  ], \\n  [\\n    187.9, \\n    17.2, \\n    17.9, \\n    14700.0\\n  ], \\n  [\\n    238.2, \\n    34.3, \\n    5.3, \\n    20700.0\\n  ], \\n  [\\n    137.9, \\n    46.4, \\n    59.0, \\n    19200.0\\n  ], \\n  [\\n    25.0, \\n    11.0, \\n    29.7, \\n    7200.0\\n  ], \\n  [\\n    90.4, \\n    0.3, \\n    23.2, \\n    8700.0\\n  ], \\n  [\\n    13.1, \\n    0.4, \\n    25.6, \\n    5300.0\\n  ], \\n  [\\n    255.4, \\n    26.9, \\n    5.5, \\n    19800.0\\n  ], \\n  [\\n    225.8, \\n    8.2, \\n    56.5, \\n    13400.0\\n  ], \\n  [\\n    241.7, \\n    38.0, \\n    23.2, \\n    21800.0\\n  ], \\n  [\\n    175.7, \\n    15.4, \\n    2.4, \\n    14100.0\\n  ], \\n  [\\n    209.6, \\n    20.6, \\n    10.7, \\n    15900.0\\n  ], \\n  [\\n    78.2, \\n    46.8, \\n    34.5, \\n    14600.0\\n  ], \\n  [\\n    75.1, \\n    35.0, \\n    52.7, \\n    12600.0\\n  ], \\n  [\\n    139.2, \\n    14.3, \\n    25.6, \\n    12200.0\\n  ], \\n  [\\n    76.4, \\n    0.8, \\n    14.8, \\n    9400.0\\n  ], \\n  [\\n    125.7, \\n    36.9, \\n    79.2, \\n    15900.0\\n  ], \\n  [\\n    19.4, \\n    16.0, \\n    22.3, \\n    6600.0\\n  ], \\n  [\\n    141.3, \\n    26.8, \\n    46.2, \\n    15500.0\\n  ], \\n  [\\n    18.8, \\n    21.7, \\n    50.4, \\n    7000.0\\n  ], \\n  [\\n    224.0, \\n    2.4, \\n    15.6, \\n    11600.0\\n  ], \\n  [\\n    123.1, \\n    34.6, \\n    12.4, \\n    15200.0\\n  ], \\n  [\\n    229.5, \\n    32.3, \\n    74.2, \\n    19700.0\\n  ], \\n  [\\n    87.2, \\n    11.8, \\n    25.9, \\n    10600.0\\n  ], \\n  [\\n    7.8, \\n    38.9, \\n    50.6, \\n    6600.0\\n  ], \\n  [\\n    80.2, \\n    0.0, \\n    9.2, \\n    8800.0\\n  ], \\n  [\\n    220.3, \\n    49.0, \\n    3.2, \\n    24700.0\\n  ], \\n  [\\n    59.6, \\n    12.0, \\n    43.1, \\n    9700.0\\n  ], \\n  [\\n    0.7, \\n    39.6, \\n    8.7, \\n    1600.0\\n  ], \\n  [\\n    265.2, \\n    2.9, \\n    43.0, \\n    12700.0\\n  ], \\n  [\\n    8.4, \\n    27.2, \\n    2.1, \\n    5700.0\\n  ], \\n  [\\n    219.8, \\n    33.5, \\n    45.1, \\n    19600.0\\n  ], \\n  [\\n    36.9, \\n    38.6, \\n    65.6, \\n    10800.0\\n  ], \\n  [\\n    48.3, \\n    47.0, \\n    8.5, \\n    11600.0\\n  ], \\n  [\\n    25.6, \\n    39.0, \\n    9.3, \\n    9500.0\\n  ], \\n  [\\n    273.7, \\n    28.9, \\n    59.7, \\n    20800.0\\n  ], \\n  [\\n    43.0, \\n    25.9, \\n    20.5, \\n    9600.0\\n  ], \\n  [\\n    184.9, \\n    43.9, \\n    1.7, \\n    20700.0\\n  ], \\n  [\\n    73.4, \\n    17.0, \\n    12.9, \\n    10900.0\\n  ], \\n  [\\n    193.7, \\n    35.4, \\n    75.6, \\n    19200.0\\n  ], \\n  [\\n    220.5, \\n    33.2, \\n    37.9, \\n    20100.0\\n  ], \\n  [\\n    104.6, \\n    5.7, \\n    34.4, \\n    10400.0\\n  ], \\n  [\\n    96.2, \\n    14.8, \\n    38.9, \\n    11400.0\\n  ], \\n  [\\n    140.3, \\n    1.9, \\n    9.0, \\n    10300.0\\n  ], \\n  [\\n    240.1, \\n    7.3, \\n    8.7, \\n    13200.0\\n  ], \\n  [\\n    243.2, \\n    49.0, \\n    44.3, \\n    25400.0\\n  ], \\n  [\\n    38.0, \\n    40.3, \\n    11.9, \\n    10900.0\\n  ], \\n  [\\n    44.7, \\n    25.8, \\n    20.6, \\n    10100.0\\n  ], \\n  [\\n    280.7, \\n    13.9, \\n    37.0, \\n    16100.000000000002\\n  ], \\n  [\\n    121.0, \\n    8.4, \\n    48.7, \\n    11600.0\\n  ], \\n  [\\n    197.6, \\n    23.3, \\n    14.2, \\n    16600.0\\n  ], \\n  [\\n    171.3, \\n    39.7, \\n    37.7, \\n    19000.0\\n  ], \\n  [\\n    187.8, \\n    21.1, \\n    9.5, \\n    15600.0\\n  ], \\n  [\\n    4.1, \\n    11.6, \\n    5.7, \\n    3200.0\\n  ], \\n  [\\n    93.9, \\n    43.5, \\n    50.5, \\n    15300.0\\n  ], \\n  [\\n    149.8, \\n    1.3, \\n    24.3, \\n    10100.0\\n  ], \\n  [\\n    11.7, \\n    36.9, \\n    45.2, \\n    7300.0\\n  ], \\n  [\\n    131.7, \\n    18.4, \\n    34.6, \\n    12900.0\\n  ], \\n  [\\n    172.5, \\n    18.1, \\n    30.7, \\n    14400.0\\n  ], \\n  [\\n    85.7, \\n    35.8, \\n    49.3, \\n    13300.0\\n  ], \\n  [\\n    188.4, \\n    18.1, \\n    25.6, \\n    14900.0\\n  ], \\n  [\\n    163.5, \\n    36.8, \\n    7.4, \\n    18000.0\\n  ], \\n  [\\n    117.2, \\n    14.7, \\n    5.4, \\n    11900.0\\n  ], \\n  [\\n    234.5, \\n    3.4, \\n    84.8, \\n    11900.0\\n  ], \\n  [\\n    17.9, \\n    37.6, \\n    21.6, \\n    8000.0\\n  ], \\n  [\\n    206.8, \\n    5.2, \\n    19.4, \\n    12200.0\\n  ], \\n  [\\n    215.4, \\n    23.6, \\n    57.6, \\n    17100.0\\n  ], \\n  [\\n    284.3, \\n    10.6, \\n    6.4, \\n    15000.0\\n  ], \\n  [\\n    50.0, \\n    11.6, \\n    18.4, \\n    8400.0\\n  ], \\n  [\\n    164.5, \\n    20.9, \\n    47.4, \\n    14500.0\\n  ], \\n  [\\n    19.6, \\n    20.1, \\n    17.0, \\n    7600.0\\n  ], \\n  [\\n    168.4, \\n    7.1, \\n    12.8, \\n    11700.0\\n  ], \\n  [\\n    222.4, \\n    3.4, \\n    13.1, \\n    11500.0\\n  ], \\n  [\\n    276.9, \\n    48.9, \\n    41.8, \\n    27000.0\\n  ], \\n  [\\n    248.4, \\n    30.2, \\n    20.3, \\n    20200.0\\n  ], \\n  [\\n    170.2, \\n    7.8, \\n    35.2, \\n    11700.0\\n  ], \\n  [\\n    276.7, \\n    2.3, \\n    23.7, \\n    11800.0\\n  ], \\n  [\\n    165.6, \\n    10.0, \\n    17.6, \\n    12600.0\\n  ], \\n  [\\n    156.6, \\n    2.6, \\n    8.3, \\n    10500.0\\n  ], \\n  [\\n    218.5, \\n    5.4, \\n    27.4, \\n    12200.0\\n  ], \\n  [\\n    56.2, \\n    5.7, \\n    29.7, \\n    8700.0\\n  ], \\n  [\\n    287.6, \\n    43.0, \\n    71.8, \\n    26200.0\\n  ], \\n  [\\n    253.8, \\n    21.3, \\n    30.0, \\n    17600.0\\n  ], \\n  [\\n    205.0, \\n    45.1, \\n    19.6, \\n    22600.0\\n  ], \\n  [\\n    139.5, \\n    2.1, \\n    26.6, \\n    10300.0\\n  ], \\n  [\\n    191.1, \\n    28.7, \\n    18.2, \\n    17300.0\\n  ], \\n  [\\n    286.0, \\n    13.9, \\n    3.7, \\n    15900.0\\n  ], \\n  [\\n    18.7, \\n    12.1, \\n    23.4, \\n    6700.0\\n  ], \\n  [\\n    39.5, \\n    41.1, \\n    5.8, \\n    10800.0\\n  ], \\n  [\\n    75.5, \\n    10.8, \\n    6.0, \\n    9900.0\\n  ], \\n  [\\n    17.2, \\n    4.1, \\n    31.6, \\n    5900.0\\n  ], \\n  [\\n    166.8, \\n    42.0, \\n    3.6, \\n    19600.0\\n  ], \\n  [\\n    149.7, \\n    35.6, \\n    6.0, \\n    17300.0\\n  ], \\n  [\\n    38.2, \\n    3.7, \\n    13.8, \\n    7600.0\\n  ], \\n  [\\n    94.2, \\n    4.9, \\n    8.1, \\n    9700.0\\n  ], \\n  [\\n    177.0, \\n    9.3, \\n    6.4, \\n    12800.0\\n  ], \\n  [\\n    283.6, \\n    42.0, \\n    66.2, \\n    25500.0\\n  ], \\n  [\\n    232.1, \\n    8.6, \\n    8.7, \\n    13400.0\\n  ], \\n  [\\n    100.0, \\n    50.0, \\n    80.0, \\n    10000.0\\n  ], \\n  [\\n    80.0, \\n    30.0, \\n    20.0, \\n    8000.0\\n  ], \\n  [\\n    80.0, \\n    30.0, \\n    20.0, \\n    8000.0\\n  ], \\n  [\\n    100.0, \\n    60.0, \\n    20.0, \\n    8000.0\\n  ]\\n]\\n'"
      ]
     },
     "execution_count": 13,
     "metadata": {},
     "output_type": "execute_result"
    }
   ],
   "source": [
    "post_request(alumno, endp_ingest, params={\"tv\":100, \"radio\":60, \"newspaper\":20, \"sales\":8000})"
   ]
  },
  {
   "attachments": {},
   "cell_type": "markdown",
   "metadata": {},
   "source": [
    "# Test endpints alumnos"
   ]
  },
  {
   "cell_type": "code",
   "execution_count": 20,
   "metadata": {},
   "outputs": [],
   "source": [
    "import os\n",
    "import json"
   ]
  },
  {
   "cell_type": "code",
   "execution_count": 38,
   "metadata": {},
   "outputs": [],
   "source": [
    "path_entregas = os.getcwd() + '/entregas'\n",
    "\n",
    "results = {\"url\":[],\n",
    "           \"respuesta\":[]}\n",
    "\n",
    "for file in os.listdir(path_entregas):\n",
    "    # print(file)\n",
    "    try:\n",
    "        json_file = json.load(open(path_entregas + \"\\\\\" + file))\n",
    "        # print(json_file)\n",
    "        alumno = json_file['url']\n",
    "        try:\n",
    "            respuesta = get_request(alumno, endp_predict, params={\"tv\":100, \"radio\":60, \"newspaper\":20})\n",
    "        except:\n",
    "            respuesta = \"Error en la llamada\"\n",
    "        results['url'].append(alumno)\n",
    "        results['respuesta'].append(respuesta)\n",
    "\n",
    "    except:\n",
    "        print(\"Fichero inválido\")"
   ]
  },
  {
   "cell_type": "code",
   "execution_count": 39,
   "metadata": {},
   "outputs": [
    {
     "data": {
      "text/html": [
       "<div>\n",
       "<style scoped>\n",
       "    .dataframe tbody tr th:only-of-type {\n",
       "        vertical-align: middle;\n",
       "    }\n",
       "\n",
       "    .dataframe tbody tr th {\n",
       "        vertical-align: top;\n",
       "    }\n",
       "\n",
       "    .dataframe thead th {\n",
       "        text-align: right;\n",
       "    }\n",
       "</style>\n",
       "<table border=\"1\" class=\"dataframe\">\n",
       "  <thead>\n",
       "    <tr style=\"text-align: right;\">\n",
       "      <th></th>\n",
       "      <th>url</th>\n",
       "      <th>respuesta</th>\n",
       "    </tr>\n",
       "  </thead>\n",
       "  <tbody>\n",
       "    <tr>\n",
       "      <th>0</th>\n",
       "      <td>https://pericotronic.pythonanywhere.com/</td>\n",
       "      <td>b'The prediction of sales investing that amoun...</td>\n",
       "    </tr>\n",
       "    <tr>\n",
       "      <th>1</th>\n",
       "      <td>http://bogdanr.pythonanywhere.com/</td>\n",
       "      <td>b'\\n&lt;html&gt;\\n    &lt;head&gt;\\n        &lt;title&gt;Somethi...</td>\n",
       "    </tr>\n",
       "    <tr>\n",
       "      <th>2</th>\n",
       "      <td>https://javlopsan.pythonanywhere.com/</td>\n",
       "      <td>b'The prediction of sales investing that amoun...</td>\n",
       "    </tr>\n",
       "    <tr>\n",
       "      <th>3</th>\n",
       "      <td>https://ramonfcerezo.pythonanywhere.com/</td>\n",
       "      <td>b'The prediction of sales investing that amoun...</td>\n",
       "    </tr>\n",
       "    <tr>\n",
       "      <th>4</th>\n",
       "      <td>https://Lean788.pythonanywhere.com/</td>\n",
       "      <td>b'&lt;!doctype html&gt;\\n&lt;html lang=en&gt;\\n&lt;title&gt;404 ...</td>\n",
       "    </tr>\n",
       "    <tr>\n",
       "      <th>5</th>\n",
       "      <td>http://jaredroballe.pythonanywhere.com/</td>\n",
       "      <td>b'&lt;html&gt;\\n    &lt;head&gt;\\n        &lt;title&gt;Something...</td>\n",
       "    </tr>\n",
       "    <tr>\n",
       "      <th>6</th>\n",
       "      <td>https://exadun.pythonanywhere.com/</td>\n",
       "      <td>b'The prediction of sales investing that amoun...</td>\n",
       "    </tr>\n",
       "    <tr>\n",
       "      <th>7</th>\n",
       "      <td>https://seenstevo.pythonanywhere.com/</td>\n",
       "      <td>b\"The prediction of sales investing that amoun...</td>\n",
       "    </tr>\n",
       "    <tr>\n",
       "      <th>8</th>\n",
       "      <td>http://migueldfr.pythonanywhere.com/</td>\n",
       "      <td>b'The prediction of sales investing that amoun...</td>\n",
       "    </tr>\n",
       "    <tr>\n",
       "      <th>9</th>\n",
       "      <td>http://3moya.pythonanywhere.com/</td>\n",
       "      <td>b'The prediction of sales investing that amoun...</td>\n",
       "    </tr>\n",
       "  </tbody>\n",
       "</table>\n",
       "</div>"
      ],
      "text/plain": [
       "                                        url  \\\n",
       "0  https://pericotronic.pythonanywhere.com/   \n",
       "1        http://bogdanr.pythonanywhere.com/   \n",
       "2     https://javlopsan.pythonanywhere.com/   \n",
       "3  https://ramonfcerezo.pythonanywhere.com/   \n",
       "4       https://Lean788.pythonanywhere.com/   \n",
       "5   http://jaredroballe.pythonanywhere.com/   \n",
       "6        https://exadun.pythonanywhere.com/   \n",
       "7     https://seenstevo.pythonanywhere.com/   \n",
       "8      http://migueldfr.pythonanywhere.com/   \n",
       "9          http://3moya.pythonanywhere.com/   \n",
       "\n",
       "                                           respuesta  \n",
       "0  b'The prediction of sales investing that amoun...  \n",
       "1  b'\\n<html>\\n    <head>\\n        <title>Somethi...  \n",
       "2  b'The prediction of sales investing that amoun...  \n",
       "3  b'The prediction of sales investing that amoun...  \n",
       "4  b'<!doctype html>\\n<html lang=en>\\n<title>404 ...  \n",
       "5  b'<html>\\n    <head>\\n        <title>Something...  \n",
       "6  b'The prediction of sales investing that amoun...  \n",
       "7  b\"The prediction of sales investing that amoun...  \n",
       "8  b'The prediction of sales investing that amoun...  \n",
       "9  b'The prediction of sales investing that amoun...  "
      ]
     },
     "execution_count": 39,
     "metadata": {},
     "output_type": "execute_result"
    }
   ],
   "source": [
    "pd.DataFrame(results)"
   ]
  }
 ],
 "metadata": {
  "kernelspec": {
   "display_name": "Python 3.7.4 64-bit",
   "language": "python",
   "name": "python3"
  },
  "language_info": {
   "codemirror_mode": {
    "name": "ipython",
    "version": 3
   },
   "file_extension": ".py",
   "mimetype": "text/x-python",
   "name": "python",
   "nbconvert_exporter": "python",
   "pygments_lexer": "ipython3",
   "version": "3.7.4"
  },
  "orig_nbformat": 4,
  "vscode": {
   "interpreter": {
    "hash": "90139cb9a825bf3d63f6f6704e828dbd1ff7edbd4d0c6e906a71235d6efc74af"
   }
  }
 },
 "nbformat": 4,
 "nbformat_minor": 2
}
